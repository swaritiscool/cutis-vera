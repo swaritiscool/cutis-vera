{
  "cells": [
    {
      "cell_type": "markdown",
      "metadata": {
        "id": "2sAZA_kpApQ9"
      },
      "source": [
        "# Skin Detection System V1 Using Mobile Net V3\n",
        "\n",
        "Start Date - 10 March 2025.\n",
        "End Date - 13 March 2025.\n",
        "\n",
        "Proposed architectures resulted in overfitting.\n",
        "\n",
        "Initial test for using this dataset from Kaggle by Ismail Hossain : https://www.kaggle.com/datasets/ismailpromus/skin-diseases-image-dataset/data\n"
      ]
    },
    {
      "cell_type": "code",
      "execution_count": null,
      "metadata": {
        "colab": {
          "base_uri": "https://localhost:8080/"
        },
        "id": "UwVtvuM1ApRA",
        "outputId": "2dc36fec-b21a-4e05-9346-161d44cbdd2f"
      },
      "outputs": [],
      "source": [
        "# !pip install torch; torchvision; kagglehub\n",
        "\n",
        "# import kagglehub\n",
        "\n",
        "# path = kagglehub.dataset_download(\"ismailpromus/skin-diseases-image-dataset\")\n",
        "\n",
        "# print(\"Path to dataset files:\", path)"
      ]
    },
    {
      "cell_type": "code",
      "execution_count": 13,
      "metadata": {
        "colab": {
          "base_uri": "https://localhost:8080/",
          "height": 364
        },
        "id": "0btKlKP-UgPg",
        "outputId": "0e9e56e5-33de-49d3-bf7c-db77f871c7ac"
      },
      "outputs": [],
      "source": [
        "# import os\n",
        "# import shutil\n",
        "# import random\n",
        "\n",
        "# # Paths\n",
        "# root_dir = \"./Data/Hamm1000/IMG_CLASSES\"  # Change this to your actual dataset path\n",
        "# output_dir = \"./Data/Hamm1000/TRAIN_TEST\"\n",
        "# train_dir = os.path.join(output_dir, \"train\")\n",
        "# test_dir = os.path.join(output_dir, \"test\")\n",
        "\n",
        "# # Create TRAIN_TEST directories\n",
        "# os.makedirs(train_dir, exist_ok=True)\n",
        "# os.makedirs(test_dir, exist_ok=True)\n",
        "\n",
        "# # Loop through each disease folder\n",
        "# for category in os.listdir(root_dir):\n",
        "#     category_path = os.path.join(root_dir, category)\n",
        "    \n",
        "#     if os.path.isdir(category_path):\n",
        "#         images = os.listdir(category_path)\n",
        "#         random.shuffle(images)  # Shuffle for randomness\n",
        "        \n",
        "#         # Split 80-20\n",
        "#         split_idx = int(0.8 * len(images))\n",
        "#         train_images = images[:split_idx]\n",
        "#         test_images = images[split_idx:]\n",
        "\n",
        "#         # Create category folders in train and test\n",
        "#         train_category_path = os.path.join(train_dir, category)\n",
        "#         test_category_path = os.path.join(test_dir, category)\n",
        "#         os.makedirs(train_category_path, exist_ok=True)\n",
        "#         os.makedirs(test_category_path, exist_ok=True)\n",
        "\n",
        "#         # Copy images\n",
        "#         for img in train_images:\n",
        "#             shutil.copy(os.path.join(category_path, img), os.path.join(train_category_path, img))\n",
        "        \n",
        "#         for img in test_images:\n",
        "#             shutil.copy(os.path.join(category_path, img), os.path.join(test_category_path, img))\n",
        "\n",
        "# print(\"Dataset split completed.\")\n"
      ]
    },
    {
      "cell_type": "markdown",
      "metadata": {
        "id": "zMfulL9bApRB"
      },
      "source": [
        "## Initial Data Loading\n"
      ]
    },
    {
      "cell_type": "code",
      "execution_count": 14,
      "metadata": {
        "colab": {
          "base_uri": "https://localhost:8080/",
          "height": 35
        },
        "id": "8uQ3YQd2ApRC",
        "outputId": "7930e734-f432-453e-d2eb-f2f5c06713dd"
      },
      "outputs": [
        {
          "data": {
            "text/plain": [
              "'cpu'"
            ]
          },
          "execution_count": 14,
          "metadata": {},
          "output_type": "execute_result"
        }
      ],
      "source": [
        "import torch\n",
        "import torchvision\n",
        "from torchvision import transforms\n",
        "from pathlib import Path\n",
        "from torch import nn\n",
        "\n",
        "device = \"cpu\"\n",
        "\n",
        "if torch.cuda.is_available():\n",
        "    device = \"cuda\"\n",
        "elif torch.xpu.is_available():\n",
        "    device = \"xpu\"\n",
        "else: device = \"cpu\"\n",
        "device"
      ]
    },
    {
      "cell_type": "code",
      "execution_count": 1,
      "metadata": {},
      "outputs": [],
      "source": [
        "path = \"./Data/SkinDiseaseImageDataSet/\""
      ]
    },
    {
      "cell_type": "code",
      "execution_count": 1,
      "metadata": {
        "id": "CxHjuengApRE"
      },
      "outputs": [
        {
          "ename": "NameError",
          "evalue": "name 'Path' is not defined",
          "output_type": "error",
          "traceback": [
            "\u001b[1;31m---------------------------------------------------------------------------\u001b[0m",
            "\u001b[1;31mNameError\u001b[0m                                 Traceback (most recent call last)",
            "Cell \u001b[1;32mIn[1], line 1\u001b[0m\n\u001b[1;32m----> 1\u001b[0m data \u001b[38;5;241m=\u001b[39m \u001b[43mPath\u001b[49m(path)\n\u001b[0;32m      2\u001b[0m image_path \u001b[38;5;241m=\u001b[39m data\u001b[38;5;241m/\u001b[39m\u001b[38;5;124m\"\u001b[39m\u001b[38;5;124mTINY\u001b[39m\u001b[38;5;124m\"\u001b[39m \u001b[38;5;66;03m# Took small amounts of images for 2 diseases : Atopic DermaTitis | Eczema | Fungal Infections\u001b[39;00m\n\u001b[0;32m      5\u001b[0m train_dir \u001b[38;5;241m=\u001b[39m image_path\u001b[38;5;241m/\u001b[39m\u001b[38;5;124m\"\u001b[39m\u001b[38;5;124mtrain\u001b[39m\u001b[38;5;124m\"\u001b[39m\n",
            "\u001b[1;31mNameError\u001b[0m: name 'Path' is not defined"
          ]
        }
      ],
      "source": [
        "data = Path(path)\n",
        "image_path = data/\"TINY\" # Took small amounts of images for 2 diseases : Atopic DermaTitis | Eczema | Fungal Infections\n",
        "\n",
        "\n",
        "train_dir = image_path/\"train\"\n",
        "test_dir = image_path/\"test\""
      ]
    },
    {
      "cell_type": "markdown",
      "metadata": {
        "id": "45E-trHzApRE"
      },
      "source": [
        "## Converting to Datasets & DataLoaders\n"
      ]
    },
    {
      "cell_type": "code",
      "execution_count": 45,
      "metadata": {
        "id": "sGYffr38ApRF"
      },
      "outputs": [],
      "source": [
        "train_transform = transforms.Compose([\n",
        "    transforms.Resize(size=(200, 200)),\n",
        "    transforms.RandomHorizontalFlip(p=0.5),\n",
        "    transforms.TrivialAugmentWide(num_magnitude_bins=31),\n",
        "    transforms.ToTensor(),\n",
        "])\n",
        "test_transfrom = transforms.Compose([\n",
        "    transforms.Resize(size=(200, 200)),\n",
        "    transforms.ToTensor(),\n",
        "])"
      ]
    },
    {
      "cell_type": "code",
      "execution_count": 46,
      "metadata": {
        "colab": {
          "base_uri": "https://localhost:8080/"
        },
        "id": "kFRZ5bxXApRG",
        "outputId": "35c8b237-9ee4-4d3f-8606-13dd6adf2feb"
      },
      "outputs": [
        {
          "data": {
            "text/plain": [
              "torch.Size([3, 200, 200])"
            ]
          },
          "execution_count": 46,
          "metadata": {},
          "output_type": "execute_result"
        }
      ],
      "source": [
        "train_dataset = torchvision.datasets.ImageFolder(train_dir,\n",
        "                                                 transform=train_transform,\n",
        "                                                 target_transform=None)\n",
        "\n",
        "test_dataset = torchvision.datasets.ImageFolder(test_dir,\n",
        "                                                 transform=test_transfrom,\n",
        "                                                 target_transform=None)\n",
        "\n",
        "img, label = train_dataset[1][0], train_dataset[1][1]\n",
        "\n",
        "img.shape"
      ]
    },
    {
      "cell_type": "code",
      "execution_count": 47,
      "metadata": {},
      "outputs": [
        {
          "data": {
            "text/plain": [
              "465"
            ]
          },
          "execution_count": 47,
          "metadata": {},
          "output_type": "execute_result"
        }
      ],
      "source": [
        "len(train_dataset)"
      ]
    },
    {
      "cell_type": "code",
      "execution_count": 48,
      "metadata": {
        "id": "o-MtXqgaApRH"
      },
      "outputs": [
        {
          "data": {
            "text/plain": [
              "3"
            ]
          },
          "execution_count": 48,
          "metadata": {},
          "output_type": "execute_result"
        }
      ],
      "source": [
        "class_names = train_dataset.classes\n",
        "len(class_names)"
      ]
    },
    {
      "cell_type": "code",
      "execution_count": 49,
      "metadata": {
        "colab": {
          "base_uri": "https://localhost:8080/",
          "height": 446
        },
        "id": "Jy0ZckatApRI",
        "outputId": "8f826676-c861-4289-8b56-514d9108c801"
      },
      "outputs": [
        {
          "data": {
            "text/plain": [
              "Text(0.5, 1.0, 'Atopic Dermatitis')"
            ]
          },
          "execution_count": 49,
          "metadata": {},
          "output_type": "execute_result"
        },
        {
          "data": {
            "image/png": "[encoded data removed]",
            "text/plain": [
              "<Figure size 640x480 with 1 Axes>"
            ]
          },
          "metadata": {},
          "output_type": "display_data"
        }
      ],
      "source": [
        "import matplotlib.pyplot as plt\n",
        "\n",
        "plt.imshow(img.permute(1,2,0))\n",
        "plt.axis(False)\n",
        "plt.title(class_names[label])"
      ]
    },
    {
      "cell_type": "code",
      "execution_count": 50,
      "metadata": {
        "colab": {
          "base_uri": "https://localhost:8080/"
        },
        "id": "vkoSRHi6ApRJ",
        "outputId": "96d88079-44bd-47a3-c9f6-ab554fb7e62b"
      },
      "outputs": [
        {
          "data": {
            "text/plain": [
              "8"
            ]
          },
          "execution_count": 50,
          "metadata": {},
          "output_type": "execute_result"
        }
      ],
      "source": [
        "import os\n",
        "os.cpu_count()"
      ]
    },
    {
      "cell_type": "code",
      "execution_count": 51,
      "metadata": {
        "colab": {
          "base_uri": "https://localhost:8080/"
        },
        "id": "e27ramqEApRK",
        "outputId": "ab344ed3-d37f-4039-b4a4-1005e74e1694"
      },
      "outputs": [
        {
          "data": {
            "text/plain": [
              "(10, 2)"
            ]
          },
          "execution_count": 51,
          "metadata": {},
          "output_type": "execute_result"
        }
      ],
      "source": [
        "from torch.utils.data import DataLoader\n",
        "\n",
        "BATCH_SIZE = 50\n",
        "\n",
        "train_dataloader = DataLoader(dataset=train_dataset,\n",
        "                              batch_size=BATCH_SIZE,\n",
        "                              shuffle=True,\n",
        "                              num_workers=8)\n",
        "\n",
        "test_dataloader = DataLoader(dataset=test_dataset,\n",
        "                              batch_size=BATCH_SIZE,\n",
        "                              shuffle=False,\n",
        "                              num_workers=8)\n",
        "\n",
        "len(train_dataloader), len(test_dataloader)"
      ]
    },
    {
      "cell_type": "markdown",
      "metadata": {
        "id": "J0AWXuYWApRK"
      },
      "source": [
        "## Model\n"
      ]
    },
    {
      "cell_type": "code",
      "execution_count": 52,
      "metadata": {
        "colab": {
          "base_uri": "https://localhost:8080/"
        },
        "id": "Q9erRK9RApRL",
        "outputId": "e4f82ac5-1f59-48b3-9a35-80325e1f6c75"
      },
      "outputs": [
        {
          "data": {
            "text/plain": [
              "MobileNetV2(\n",
              "  (features): Sequential(\n",
              "    (0): Conv2dNormActivation(\n",
              "      (0): Conv2d(3, 32, kernel_size=(3, 3), stride=(2, 2), padding=(1, 1), bias=False)\n",
              "      (1): BatchNorm2d(32, eps=1e-05, momentum=0.1, affine=True, track_running_stats=True)\n",
              "      (2): ReLU6(inplace=True)\n",
              "    )\n",
              "    (1): InvertedResidual(\n",
              "      (conv): Sequential(\n",
              "        (0): Conv2dNormActivation(\n",
              "          (0): Conv2d(32, 32, kernel_size=(3, 3), stride=(1, 1), padding=(1, 1), groups=32, bias=False)\n",
              "          (1): BatchNorm2d(32, eps=1e-05, momentum=0.1, affine=True, track_running_stats=True)\n",
              "          (2): ReLU6(inplace=True)\n",
              "        )\n",
              "        (1): Conv2d(32, 16, kernel_size=(1, 1), stride=(1, 1), bias=False)\n",
              "        (2): BatchNorm2d(16, eps=1e-05, momentum=0.1, affine=True, track_running_stats=True)\n",
              "      )\n",
              "    )\n",
              "    (2): InvertedResidual(\n",
              "      (conv): Sequential(\n",
              "        (0): Conv2dNormActivation(\n",
              "          (0): Conv2d(16, 96, kernel_size=(1, 1), stride=(1, 1), bias=False)\n",
              "          (1): BatchNorm2d(96, eps=1e-05, momentum=0.1, affine=True, track_running_stats=True)\n",
              "          (2): ReLU6(inplace=True)\n",
              "        )\n",
              "        (1): Conv2dNormActivation(\n",
              "          (0): Conv2d(96, 96, kernel_size=(3, 3), stride=(2, 2), padding=(1, 1), groups=96, bias=False)\n",
              "          (1): BatchNorm2d(96, eps=1e-05, momentum=0.1, affine=True, track_running_stats=True)\n",
              "          (2): ReLU6(inplace=True)\n",
              "        )\n",
              "        (2): Conv2d(96, 24, kernel_size=(1, 1), stride=(1, 1), bias=False)\n",
              "        (3): BatchNorm2d(24, eps=1e-05, momentum=0.1, affine=True, track_running_stats=True)\n",
              "      )\n",
              "    )\n",
              "    (3): InvertedResidual(\n",
              "      (conv): Sequential(\n",
              "        (0): Conv2dNormActivation(\n",
              "          (0): Conv2d(24, 144, kernel_size=(1, 1), stride=(1, 1), bias=False)\n",
              "          (1): BatchNorm2d(144, eps=1e-05, momentum=0.1, affine=True, track_running_stats=True)\n",
              "          (2): ReLU6(inplace=True)\n",
              "        )\n",
              "        (1): Conv2dNormActivation(\n",
              "          (0): Conv2d(144, 144, kernel_size=(3, 3), stride=(1, 1), padding=(1, 1), groups=144, bias=False)\n",
              "          (1): BatchNorm2d(144, eps=1e-05, momentum=0.1, affine=True, track_running_stats=True)\n",
              "          (2): ReLU6(inplace=True)\n",
              "        )\n",
              "        (2): Conv2d(144, 24, kernel_size=(1, 1), stride=(1, 1), bias=False)\n",
              "        (3): BatchNorm2d(24, eps=1e-05, momentum=0.1, affine=True, track_running_stats=True)\n",
              "      )\n",
              "    )\n",
              "    (4): InvertedResidual(\n",
              "      (conv): Sequential(\n",
              "        (0): Conv2dNormActivation(\n",
              "          (0): Conv2d(24, 144, kernel_size=(1, 1), stride=(1, 1), bias=False)\n",
              "          (1): BatchNorm2d(144, eps=1e-05, momentum=0.1, affine=True, track_running_stats=True)\n",
              "          (2): ReLU6(inplace=True)\n",
              "        )\n",
              "        (1): Conv2dNormActivation(\n",
              "          (0): Conv2d(144, 144, kernel_size=(3, 3), stride=(2, 2), padding=(1, 1), groups=144, bias=False)\n",
              "          (1): BatchNorm2d(144, eps=1e-05, momentum=0.1, affine=True, track_running_stats=True)\n",
              "          (2): ReLU6(inplace=True)\n",
              "        )\n",
              "        (2): Conv2d(144, 32, kernel_size=(1, 1), stride=(1, 1), bias=False)\n",
              "        (3): BatchNorm2d(32, eps=1e-05, momentum=0.1, affine=True, track_running_stats=True)\n",
              "      )\n",
              "    )\n",
              "    (5): InvertedResidual(\n",
              "      (conv): Sequential(\n",
              "        (0): Conv2dNormActivation(\n",
              "          (0): Conv2d(32, 192, kernel_size=(1, 1), stride=(1, 1), bias=False)\n",
              "          (1): BatchNorm2d(192, eps=1e-05, momentum=0.1, affine=True, track_running_stats=True)\n",
              "          (2): ReLU6(inplace=True)\n",
              "        )\n",
              "        (1): Conv2dNormActivation(\n",
              "          (0): Conv2d(192, 192, kernel_size=(3, 3), stride=(1, 1), padding=(1, 1), groups=192, bias=False)\n",
              "          (1): BatchNorm2d(192, eps=1e-05, momentum=0.1, affine=True, track_running_stats=True)\n",
              "          (2): ReLU6(inplace=True)\n",
              "        )\n",
              "        (2): Conv2d(192, 32, kernel_size=(1, 1), stride=(1, 1), bias=False)\n",
              "        (3): BatchNorm2d(32, eps=1e-05, momentum=0.1, affine=True, track_running_stats=True)\n",
              "      )\n",
              "    )\n",
              "    (6): InvertedResidual(\n",
              "      (conv): Sequential(\n",
              "        (0): Conv2dNormActivation(\n",
              "          (0): Conv2d(32, 192, kernel_size=(1, 1), stride=(1, 1), bias=False)\n",
              "          (1): BatchNorm2d(192, eps=1e-05, momentum=0.1, affine=True, track_running_stats=True)\n",
              "          (2): ReLU6(inplace=True)\n",
              "        )\n",
              "        (1): Conv2dNormActivation(\n",
              "          (0): Conv2d(192, 192, kernel_size=(3, 3), stride=(1, 1), padding=(1, 1), groups=192, bias=False)\n",
              "          (1): BatchNorm2d(192, eps=1e-05, momentum=0.1, affine=True, track_running_stats=True)\n",
              "          (2): ReLU6(inplace=True)\n",
              "        )\n",
              "        (2): Conv2d(192, 32, kernel_size=(1, 1), stride=(1, 1), bias=False)\n",
              "        (3): BatchNorm2d(32, eps=1e-05, momentum=0.1, affine=True, track_running_stats=True)\n",
              "      )\n",
              "    )\n",
              "    (7): InvertedResidual(\n",
              "      (conv): Sequential(\n",
              "        (0): Conv2dNormActivation(\n",
              "          (0): Conv2d(32, 192, kernel_size=(1, 1), stride=(1, 1), bias=False)\n",
              "          (1): BatchNorm2d(192, eps=1e-05, momentum=0.1, affine=True, track_running_stats=True)\n",
              "          (2): ReLU6(inplace=True)\n",
              "        )\n",
              "        (1): Conv2dNormActivation(\n",
              "          (0): Conv2d(192, 192, kernel_size=(3, 3), stride=(2, 2), padding=(1, 1), groups=192, bias=False)\n",
              "          (1): BatchNorm2d(192, eps=1e-05, momentum=0.1, affine=True, track_running_stats=True)\n",
              "          (2): ReLU6(inplace=True)\n",
              "        )\n",
              "        (2): Conv2d(192, 64, kernel_size=(1, 1), stride=(1, 1), bias=False)\n",
              "        (3): BatchNorm2d(64, eps=1e-05, momentum=0.1, affine=True, track_running_stats=True)\n",
              "      )\n",
              "    )\n",
              "    (8): InvertedResidual(\n",
              "      (conv): Sequential(\n",
              "        (0): Conv2dNormActivation(\n",
              "          (0): Conv2d(64, 384, kernel_size=(1, 1), stride=(1, 1), bias=False)\n",
              "          (1): BatchNorm2d(384, eps=1e-05, momentum=0.1, affine=True, track_running_stats=True)\n",
              "          (2): ReLU6(inplace=True)\n",
              "        )\n",
              "        (1): Conv2dNormActivation(\n",
              "          (0): Conv2d(384, 384, kernel_size=(3, 3), stride=(1, 1), padding=(1, 1), groups=384, bias=False)\n",
              "          (1): BatchNorm2d(384, eps=1e-05, momentum=0.1, affine=True, track_running_stats=True)\n",
              "          (2): ReLU6(inplace=True)\n",
              "        )\n",
              "        (2): Conv2d(384, 64, kernel_size=(1, 1), stride=(1, 1), bias=False)\n",
              "        (3): BatchNorm2d(64, eps=1e-05, momentum=0.1, affine=True, track_running_stats=True)\n",
              "      )\n",
              "    )\n",
              "    (9): InvertedResidual(\n",
              "      (conv): Sequential(\n",
              "        (0): Conv2dNormActivation(\n",
              "          (0): Conv2d(64, 384, kernel_size=(1, 1), stride=(1, 1), bias=False)\n",
              "          (1): BatchNorm2d(384, eps=1e-05, momentum=0.1, affine=True, track_running_stats=True)\n",
              "          (2): ReLU6(inplace=True)\n",
              "        )\n",
              "        (1): Conv2dNormActivation(\n",
              "          (0): Conv2d(384, 384, kernel_size=(3, 3), stride=(1, 1), padding=(1, 1), groups=384, bias=False)\n",
              "          (1): BatchNorm2d(384, eps=1e-05, momentum=0.1, affine=True, track_running_stats=True)\n",
              "          (2): ReLU6(inplace=True)\n",
              "        )\n",
              "        (2): Conv2d(384, 64, kernel_size=(1, 1), stride=(1, 1), bias=False)\n",
              "        (3): BatchNorm2d(64, eps=1e-05, momentum=0.1, affine=True, track_running_stats=True)\n",
              "      )\n",
              "    )\n",
              "    (10): InvertedResidual(\n",
              "      (conv): Sequential(\n",
              "        (0): Conv2dNormActivation(\n",
              "          (0): Conv2d(64, 384, kernel_size=(1, 1), stride=(1, 1), bias=False)\n",
              "          (1): BatchNorm2d(384, eps=1e-05, momentum=0.1, affine=True, track_running_stats=True)\n",
              "          (2): ReLU6(inplace=True)\n",
              "        )\n",
              "        (1): Conv2dNormActivation(\n",
              "          (0): Conv2d(384, 384, kernel_size=(3, 3), stride=(1, 1), padding=(1, 1), groups=384, bias=False)\n",
              "          (1): BatchNorm2d(384, eps=1e-05, momentum=0.1, affine=True, track_running_stats=True)\n",
              "          (2): ReLU6(inplace=True)\n",
              "        )\n",
              "        (2): Conv2d(384, 64, kernel_size=(1, 1), stride=(1, 1), bias=False)\n",
              "        (3): BatchNorm2d(64, eps=1e-05, momentum=0.1, affine=True, track_running_stats=True)\n",
              "      )\n",
              "    )\n",
              "    (11): InvertedResidual(\n",
              "      (conv): Sequential(\n",
              "        (0): Conv2dNormActivation(\n",
              "          (0): Conv2d(64, 384, kernel_size=(1, 1), stride=(1, 1), bias=False)\n",
              "          (1): BatchNorm2d(384, eps=1e-05, momentum=0.1, affine=True, track_running_stats=True)\n",
              "          (2): ReLU6(inplace=True)\n",
              "        )\n",
              "        (1): Conv2dNormActivation(\n",
              "          (0): Conv2d(384, 384, kernel_size=(3, 3), stride=(1, 1), padding=(1, 1), groups=384, bias=False)\n",
              "          (1): BatchNorm2d(384, eps=1e-05, momentum=0.1, affine=True, track_running_stats=True)\n",
              "          (2): ReLU6(inplace=True)\n",
              "        )\n",
              "        (2): Conv2d(384, 96, kernel_size=(1, 1), stride=(1, 1), bias=False)\n",
              "        (3): BatchNorm2d(96, eps=1e-05, momentum=0.1, affine=True, track_running_stats=True)\n",
              "      )\n",
              "    )\n",
              "    (12): InvertedResidual(\n",
              "      (conv): Sequential(\n",
              "        (0): Conv2dNormActivation(\n",
              "          (0): Conv2d(96, 576, kernel_size=(1, 1), stride=(1, 1), bias=False)\n",
              "          (1): BatchNorm2d(576, eps=1e-05, momentum=0.1, affine=True, track_running_stats=True)\n",
              "          (2): ReLU6(inplace=True)\n",
              "        )\n",
              "        (1): Conv2dNormActivation(\n",
              "          (0): Conv2d(576, 576, kernel_size=(3, 3), stride=(1, 1), padding=(1, 1), groups=576, bias=False)\n",
              "          (1): BatchNorm2d(576, eps=1e-05, momentum=0.1, affine=True, track_running_stats=True)\n",
              "          (2): ReLU6(inplace=True)\n",
              "        )\n",
              "        (2): Conv2d(576, 96, kernel_size=(1, 1), stride=(1, 1), bias=False)\n",
              "        (3): BatchNorm2d(96, eps=1e-05, momentum=0.1, affine=True, track_running_stats=True)\n",
              "      )\n",
              "    )\n",
              "    (13): InvertedResidual(\n",
              "      (conv): Sequential(\n",
              "        (0): Conv2dNormActivation(\n",
              "          (0): Conv2d(96, 576, kernel_size=(1, 1), stride=(1, 1), bias=False)\n",
              "          (1): BatchNorm2d(576, eps=1e-05, momentum=0.1, affine=True, track_running_stats=True)\n",
              "          (2): ReLU6(inplace=True)\n",
              "        )\n",
              "        (1): Conv2dNormActivation(\n",
              "          (0): Conv2d(576, 576, kernel_size=(3, 3), stride=(1, 1), padding=(1, 1), groups=576, bias=False)\n",
              "          (1): BatchNorm2d(576, eps=1e-05, momentum=0.1, affine=True, track_running_stats=True)\n",
              "          (2): ReLU6(inplace=True)\n",
              "        )\n",
              "        (2): Conv2d(576, 96, kernel_size=(1, 1), stride=(1, 1), bias=False)\n",
              "        (3): BatchNorm2d(96, eps=1e-05, momentum=0.1, affine=True, track_running_stats=True)\n",
              "      )\n",
              "    )\n",
              "    (14): InvertedResidual(\n",
              "      (conv): Sequential(\n",
              "        (0): Conv2dNormActivation(\n",
              "          (0): Conv2d(96, 576, kernel_size=(1, 1), stride=(1, 1), bias=False)\n",
              "          (1): BatchNorm2d(576, eps=1e-05, momentum=0.1, affine=True, track_running_stats=True)\n",
              "          (2): ReLU6(inplace=True)\n",
              "        )\n",
              "        (1): Conv2dNormActivation(\n",
              "          (0): Conv2d(576, 576, kernel_size=(3, 3), stride=(2, 2), padding=(1, 1), groups=576, bias=False)\n",
              "          (1): BatchNorm2d(576, eps=1e-05, momentum=0.1, affine=True, track_running_stats=True)\n",
              "          (2): ReLU6(inplace=True)\n",
              "        )\n",
              "        (2): Conv2d(576, 160, kernel_size=(1, 1), stride=(1, 1), bias=False)\n",
              "        (3): BatchNorm2d(160, eps=1e-05, momentum=0.1, affine=True, track_running_stats=True)\n",
              "      )\n",
              "    )\n",
              "    (15): InvertedResidual(\n",
              "      (conv): Sequential(\n",
              "        (0): Conv2dNormActivation(\n",
              "          (0): Conv2d(160, 960, kernel_size=(1, 1), stride=(1, 1), bias=False)\n",
              "          (1): BatchNorm2d(960, eps=1e-05, momentum=0.1, affine=True, track_running_stats=True)\n",
              "          (2): ReLU6(inplace=True)\n",
              "        )\n",
              "        (1): Conv2dNormActivation(\n",
              "          (0): Conv2d(960, 960, kernel_size=(3, 3), stride=(1, 1), padding=(1, 1), groups=960, bias=False)\n",
              "          (1): BatchNorm2d(960, eps=1e-05, momentum=0.1, affine=True, track_running_stats=True)\n",
              "          (2): ReLU6(inplace=True)\n",
              "        )\n",
              "        (2): Conv2d(960, 160, kernel_size=(1, 1), stride=(1, 1), bias=False)\n",
              "        (3): BatchNorm2d(160, eps=1e-05, momentum=0.1, affine=True, track_running_stats=True)\n",
              "      )\n",
              "    )\n",
              "    (16): InvertedResidual(\n",
              "      (conv): Sequential(\n",
              "        (0): Conv2dNormActivation(\n",
              "          (0): Conv2d(160, 960, kernel_size=(1, 1), stride=(1, 1), bias=False)\n",
              "          (1): BatchNorm2d(960, eps=1e-05, momentum=0.1, affine=True, track_running_stats=True)\n",
              "          (2): ReLU6(inplace=True)\n",
              "        )\n",
              "        (1): Conv2dNormActivation(\n",
              "          (0): Conv2d(960, 960, kernel_size=(3, 3), stride=(1, 1), padding=(1, 1), groups=960, bias=False)\n",
              "          (1): BatchNorm2d(960, eps=1e-05, momentum=0.1, affine=True, track_running_stats=True)\n",
              "          (2): ReLU6(inplace=True)\n",
              "        )\n",
              "        (2): Conv2d(960, 160, kernel_size=(1, 1), stride=(1, 1), bias=False)\n",
              "        (3): BatchNorm2d(160, eps=1e-05, momentum=0.1, affine=True, track_running_stats=True)\n",
              "      )\n",
              "    )\n",
              "    (17): InvertedResidual(\n",
              "      (conv): Sequential(\n",
              "        (0): Conv2dNormActivation(\n",
              "          (0): Conv2d(160, 960, kernel_size=(1, 1), stride=(1, 1), bias=False)\n",
              "          (1): BatchNorm2d(960, eps=1e-05, momentum=0.1, affine=True, track_running_stats=True)\n",
              "          (2): ReLU6(inplace=True)\n",
              "        )\n",
              "        (1): Conv2dNormActivation(\n",
              "          (0): Conv2d(960, 960, kernel_size=(3, 3), stride=(1, 1), padding=(1, 1), groups=960, bias=False)\n",
              "          (1): BatchNorm2d(960, eps=1e-05, momentum=0.1, affine=True, track_running_stats=True)\n",
              "          (2): ReLU6(inplace=True)\n",
              "        )\n",
              "        (2): Conv2d(960, 320, kernel_size=(1, 1), stride=(1, 1), bias=False)\n",
              "        (3): BatchNorm2d(320, eps=1e-05, momentum=0.1, affine=True, track_running_stats=True)\n",
              "      )\n",
              "    )\n",
              "    (18): Conv2dNormActivation(\n",
              "      (0): Conv2d(320, 1280, kernel_size=(1, 1), stride=(1, 1), bias=False)\n",
              "      (1): BatchNorm2d(1280, eps=1e-05, momentum=0.1, affine=True, track_running_stats=True)\n",
              "      (2): ReLU6(inplace=True)\n",
              "    )\n",
              "  )\n",
              "  (classifier): Sequential(\n",
              "    (0): Dropout(p=0.2, inplace=False)\n",
              "    (1): Linear(in_features=1280, out_features=1000, bias=True)\n",
              "    (2): Linear(in_features=1000, out_features=3, bias=True)\n",
              "  )\n",
              ")"
            ]
          },
          "execution_count": 52,
          "metadata": {},
          "output_type": "execute_result"
        }
      ],
      "source": [
        "from torchvision.models import mobilenet_v2, MobileNet_V2_Weights\n",
        "\n",
        "# Initialize model\n",
        "model_0 = mobilenet_v2(weights=MobileNet_V2_Weights.DEFAULT).to(device)\n",
        "\n",
        "model_0.classifier = nn.Sequential(\n",
        "    nn.Dropout(p=0.2, inplace=False),\n",
        "    nn.Linear(in_features=1280, out_features=1000),\n",
        "    nn.Linear(in_features=1000, out_features=len(class_names))\n",
        ")\n",
        "\n",
        "model_0"
      ]
    },
    {
      "cell_type": "code",
      "execution_count": 53,
      "metadata": {},
      "outputs": [],
      "source": [
        "# lstm = nn.Sequential(\n",
        "#     nn.LSTM(input_size=1000, hidden_size=1024),\n",
        "#     nn.Linear(1024, len(class_names))\n",
        "# )"
      ]
    },
    {
      "cell_type": "code",
      "execution_count": 54,
      "metadata": {
        "colab": {
          "base_uri": "https://localhost:8080/"
        },
        "id": "lUcVoYzRApRL",
        "outputId": "fb7b72a6-3d9b-46e1-c2a7-8c97ccc6466a"
      },
      "outputs": [
        {
          "data": {
            "text/plain": [
              "torch.Size([3, 200, 200])"
            ]
          },
          "execution_count": 54,
          "metadata": {},
          "output_type": "execute_result"
        }
      ],
      "source": [
        "img.shape"
      ]
    },
    {
      "cell_type": "code",
      "execution_count": 55,
      "metadata": {
        "colab": {
          "base_uri": "https://localhost:8080/"
        },
        "id": "1-n-VLVwApRL",
        "outputId": "f435b452-92ee-44b1-b092-92a63d1310e5"
      },
      "outputs": [
        {
          "data": {
            "text/plain": [
              "torch.Size([1, 3])"
            ]
          },
          "execution_count": 55,
          "metadata": {},
          "output_type": "execute_result"
        }
      ],
      "source": [
        "model_0(img.unsqueeze(dim=0)).shape"
      ]
    },
    {
      "cell_type": "code",
      "execution_count": 56,
      "metadata": {
        "colab": {
          "base_uri": "https://localhost:8080/"
        },
        "id": "5uFS27N2ApRM",
        "outputId": "8dda633e-8ee1-40fc-d0e2-891482b47fc8"
      },
      "outputs": [
        {
          "data": {
            "text/plain": [
              "3"
            ]
          },
          "execution_count": 56,
          "metadata": {},
          "output_type": "execute_result"
        }
      ],
      "source": [
        "len(class_names)"
      ]
    },
    {
      "cell_type": "markdown",
      "metadata": {
        "id": "PtACCkEoApRM"
      },
      "source": [
        "## Functionalizing Training and Testing Functions\n"
      ]
    },
    {
      "cell_type": "code",
      "execution_count": 57,
      "metadata": {
        "id": "oBPl1GK4ApRN"
      },
      "outputs": [],
      "source": [
        "from tqdm.auto import tqdm\n",
        "\n",
        "def train_step(model: nn.Module,\n",
        "               dataloader,\n",
        "               loss_fn,\n",
        "               optimizer,\n",
        "               acc_fn,\n",
        "               device):\n",
        "\n",
        "    \"\"\"\n",
        "    Function to train our model with clearly set hyperparameters\n",
        "    \"\"\"\n",
        "\n",
        "    train_acc, train_loss = 0,0\n",
        "\n",
        "    for batch, (X,y) in enumerate(dataloader):\n",
        "        model.train()\n",
        "        X, y = X.to(device), y.to(device)\n",
        "        logits = model(X)\n",
        "\n",
        "        y=y.to(torch.int64)\n",
        "\n",
        "        loss = loss_fn(logits, y)\n",
        "        acc = acc_fn(preds=logits.argmax(dim=1), target=y)\n",
        "\n",
        "        train_loss += loss.item()\n",
        "        train_acc += acc\n",
        "\n",
        "        optimizer.zero_grad()\n",
        "\n",
        "        loss.backward()\n",
        "\n",
        "        optimizer.step()\n",
        "\n",
        "        if batch % 1 == 0:\n",
        "            print(f\"Went through {batch} batches\")\n",
        "            print(f\"|| Train_Accuracy: {acc:.3f} & Train_Loss: {loss:.3f} ||\")\n",
        "\n",
        "    train_loss /= len(train_dataloader)\n",
        "    train_acc /= len(train_dataloader)\n",
        "    print(f\"|| Train_Accuracy: {train_acc:.3f} & Train_Loss: {train_loss:.3f} ||\")\n",
        "    print(\"Training for current epoch completed successfully.\")\n",
        "    return train_acc, train_loss\n",
        "\n",
        "def test_step(model: nn.Module,\n",
        "             dataloader,\n",
        "             loss_fn,\n",
        "             acc_fn,\n",
        "             device):\n",
        "    \n",
        "    \"\"\"\n",
        "    Function to test our model with clearly set hyperparameters\n",
        "    \"\"\"\n",
        "\n",
        "    test_acc, test_loss = 0,0\n",
        "\n",
        "    for batch, (X,y) in enumerate(dataloader):\n",
        "        model.eval()\n",
        "        X, y = X.to(device), y.to(device)\n",
        "        with torch.inference_mode():\n",
        "            logits = model(X)\n",
        "\n",
        "            y=y.to(torch.int64)\n",
        "\n",
        "            loss = loss_fn(logits, y)\n",
        "            acc = acc_fn(preds=logits.argmax(dim=1), target=y)\n",
        "\n",
        "            test_loss += loss.item()\n",
        "            test_acc += acc\n",
        "\n",
        "            if batch % 1 == 0:\n",
        "                print(f\"Went through {batch} batches\")\n",
        "                print(f\"|| Train_Accuracy: {acc:.3f} & Train_Loss: {loss:.3f} ||\")\n",
        "\n",
        "    test_loss /= len(test_dataloader)\n",
        "    test_acc /= len(test_dataloader)\n",
        "\n",
        "    print(f\"|| Test_Accuracy: {test_acc:.3f} & Test_Loss: {test_loss:.3f} ||\")\n",
        "    print(\"Testing for current epoch completed successfully.\")\n",
        "    return test_acc, test_loss\n",
        "\n",
        "def train(model: nn.Module,\n",
        "        train_dataloader,\n",
        "        test_dataloader,\n",
        "        loss_fn,\n",
        "        optimizer,\n",
        "        acc_fn,\n",
        "        device,\n",
        "        epochs: int):\n",
        "    \"\"\"\n",
        "    Function to train the model for a specified number of epochs\n",
        "    \"\"\"\n",
        "\n",
        "    results = {\n",
        "        \"train_loss\": [],\n",
        "        \"train_acc\": [],\n",
        "        \"test_loss\": [],\n",
        "        \"test_acc\": []\n",
        "    }\n",
        "\n",
        "    EPOCHS = epochs\n",
        "\n",
        "    for epoch in tqdm(range(EPOCHS)):\n",
        "        print(f\"\\n\\nStarting Epoch: {epoch}-----------------------------\")\n",
        "        train_acc, train_loss = train_step(model, train_dataloader, loss_fn, optimizer, acc_fn, device)\n",
        "        test_acc, test_loss = test_step(model, test_dataloader, loss_fn, acc_fn, device)\n",
        "        print(f\"\\nEnding Epoch: {epoch}-----------------------------\")\n",
        "        results[\"train_loss\"].append(train_loss)\n",
        "        results[\"train_acc\"].append(train_acc)\n",
        "        results[\"test_loss\"].append(test_loss)\n",
        "        results[\"test_acc\"].append(test_acc)\n",
        "    return results"
      ]
    },
    {
      "cell_type": "code",
      "execution_count": 60,
      "metadata": {
        "id": "lbbDC9Y-ApRO"
      },
      "outputs": [],
      "source": [
        "loss_fn = nn.CrossEntropyLoss()\n",
        "optimizer = torch.optim.Adam(model_0.parameters(),\n",
        "                            lr=0.001,\n",
        "                            weight_decay=0.0001)\n",
        "def acc_fn(target, preds):\n",
        "  \"\"\"\n",
        "  Calculates Accuracy.\n",
        "\n",
        "  Args:\n",
        "    target: The real data\n",
        "    preds: Processed logits from the model\n",
        "  \"\"\"\n",
        "  correct = torch.eq(target, preds).sum().item()\n",
        "  acc = (correct/len(preds)) * 100\n",
        "  return acc"
      ]
    },
    {
      "cell_type": "code",
      "execution_count": 61,
      "metadata": {
        "colab": {
          "base_uri": "https://localhost:8080/",
          "height": 1000,
          "referenced_widgets": [
            "4be9d8ac12f44adab2e966a9f628601a",
            "84d048e6be50435aa62198e00c9fb5a9",
            "f9a85f12ef4947d1ae03445387ebaa8b",
            "9a01be57cbb3494a9578005ff51a0505",
            "d57180d307474e8081bd761a16472e4f",
            "a772010adedd4f3abf96b61e8a8a47ca",
            "9b3fceb765594c0498f34fcb907acfeb",
            "0c92507bba5b45db98a34f42408d2bf0",
            "a9e7cae11cd24c35bfb88723ccce29c0",
            "347241d4bef047819352a98119ccc824",
            "2cf9b257df2542068570df38fddf6333"
          ]
        },
        "id": "M0R9eR5JApRP",
        "outputId": "35445fc3-7073-46ab-a6e7-2cef5a05e935"
      },
      "outputs": [
        {
          "name": "stderr",
          "output_type": "stream",
          "text": [
            "  0%|          | 0/11 [00:00<?, ?it/s]"
          ]
        },
        {
          "name": "stdout",
          "output_type": "stream",
          "text": [
            "\n",
            "\n",
            "Starting Epoch: 0-----------------------------\n",
            "Went through 0 batches\n",
            "|| Train_Accuracy: 92.000 & Train_Loss: 0.174 ||\n",
            "Went through 1 batches\n",
            "|| Train_Accuracy: 88.000 & Train_Loss: 0.248 ||\n",
            "Went through 2 batches\n",
            "|| Train_Accuracy: 94.000 & Train_Loss: 0.261 ||\n",
            "Went through 3 batches\n",
            "|| Train_Accuracy: 76.000 & Train_Loss: 0.388 ||\n",
            "Went through 4 batches\n",
            "|| Train_Accuracy: 90.000 & Train_Loss: 0.422 ||\n",
            "Went through 5 batches\n",
            "|| Train_Accuracy: 90.000 & Train_Loss: 0.267 ||\n",
            "Went through 6 batches\n",
            "|| Train_Accuracy: 90.000 & Train_Loss: 0.234 ||\n",
            "Went through 7 batches\n",
            "|| Train_Accuracy: 88.000 & Train_Loss: 0.378 ||\n",
            "Went through 8 batches\n",
            "|| Train_Accuracy: 92.000 & Train_Loss: 0.324 ||\n",
            "Went through 9 batches\n",
            "|| Train_Accuracy: 86.667 & Train_Loss: 0.363 ||\n",
            "|| Train_Accuracy: 88.667 & Train_Loss: 0.306 ||\n",
            "Training for current epoch completed successfully.\n",
            "Went through 0 batches\n",
            "|| Train_Accuracy: 14.000 & Train_Loss: 8.835 ||\n",
            "Went through 1 batches\n",
            "|| Train_Accuracy: 69.388 & Train_Loss: 2.361 ||\n"
          ]
        },
        {
          "name": "stderr",
          "output_type": "stream",
          "text": [
            "  9%|▉         | 1/11 [01:01<10:11, 61.17s/it]"
          ]
        },
        {
          "name": "stdout",
          "output_type": "stream",
          "text": [
            "|| Test_Accuracy: 41.694 & Test_Loss: 5.598 ||\n",
            "Testing for current epoch completed successfully.\n",
            "\n",
            "Ending Epoch: 0-----------------------------\n",
            "\n",
            "\n",
            "Starting Epoch: 1-----------------------------\n",
            "Went through 0 batches\n",
            "|| Train_Accuracy: 92.000 & Train_Loss: 0.233 ||\n",
            "Went through 1 batches\n",
            "|| Train_Accuracy: 86.000 & Train_Loss: 0.432 ||\n",
            "Went through 2 batches\n",
            "|| Train_Accuracy: 86.000 & Train_Loss: 0.336 ||\n",
            "Went through 3 batches\n",
            "|| Train_Accuracy: 94.000 & Train_Loss: 0.208 ||\n",
            "Went through 4 batches\n",
            "|| Train_Accuracy: 82.000 & Train_Loss: 0.356 ||\n",
            "Went through 5 batches\n",
            "|| Train_Accuracy: 88.000 & Train_Loss: 0.300 ||\n",
            "Went through 6 batches\n",
            "|| Train_Accuracy: 88.000 & Train_Loss: 0.211 ||\n",
            "Went through 7 batches\n",
            "|| Train_Accuracy: 80.000 & Train_Loss: 0.719 ||\n",
            "Went through 8 batches\n",
            "|| Train_Accuracy: 94.000 & Train_Loss: 0.221 ||\n",
            "Went through 9 batches\n",
            "|| Train_Accuracy: 86.667 & Train_Loss: 0.229 ||\n",
            "|| Train_Accuracy: 87.667 & Train_Loss: 0.325 ||\n",
            "Training for current epoch completed successfully.\n",
            "Went through 0 batches\n",
            "|| Train_Accuracy: 20.000 & Train_Loss: 3.688 ||\n",
            "Went through 1 batches\n",
            "|| Train_Accuracy: 34.694 & Train_Loss: 3.180 ||\n"
          ]
        },
        {
          "name": "stderr",
          "output_type": "stream",
          "text": [
            " 18%|█▊        | 2/11 [02:02<09:09, 61.07s/it]"
          ]
        },
        {
          "name": "stdout",
          "output_type": "stream",
          "text": [
            "|| Test_Accuracy: 27.347 & Test_Loss: 3.434 ||\n",
            "Testing for current epoch completed successfully.\n",
            "\n",
            "Ending Epoch: 1-----------------------------\n",
            "\n",
            "\n",
            "Starting Epoch: 2-----------------------------\n",
            "Went through 0 batches\n",
            "|| Train_Accuracy: 96.000 & Train_Loss: 0.141 ||\n",
            "Went through 1 batches\n",
            "|| Train_Accuracy: 92.000 & Train_Loss: 0.216 ||\n",
            "Went through 2 batches\n",
            "|| Train_Accuracy: 98.000 & Train_Loss: 0.090 ||\n",
            "Went through 3 batches\n",
            "|| Train_Accuracy: 88.000 & Train_Loss: 0.255 ||\n",
            "Went through 4 batches\n",
            "|| Train_Accuracy: 86.000 & Train_Loss: 0.219 ||\n",
            "Went through 5 batches\n",
            "|| Train_Accuracy: 84.000 & Train_Loss: 0.450 ||\n",
            "Went through 6 batches\n",
            "|| Train_Accuracy: 94.000 & Train_Loss: 0.168 ||\n",
            "Went through 7 batches\n",
            "|| Train_Accuracy: 88.000 & Train_Loss: 0.261 ||\n",
            "Went through 8 batches\n",
            "|| Train_Accuracy: 98.000 & Train_Loss: 0.141 ||\n",
            "Went through 9 batches\n",
            "|| Train_Accuracy: 86.667 & Train_Loss: 0.171 ||\n",
            "|| Train_Accuracy: 91.067 & Train_Loss: 0.211 ||\n",
            "Training for current epoch completed successfully.\n",
            "Went through 0 batches\n",
            "|| Train_Accuracy: 8.000 & Train_Loss: 7.574 ||\n",
            "Went through 1 batches\n",
            "|| Train_Accuracy: 61.224 & Train_Loss: 2.056 ||\n"
          ]
        },
        {
          "name": "stderr",
          "output_type": "stream",
          "text": [
            " 27%|██▋       | 3/11 [03:02<08:04, 60.54s/it]"
          ]
        },
        {
          "name": "stdout",
          "output_type": "stream",
          "text": [
            "|| Test_Accuracy: 34.612 & Test_Loss: 4.815 ||\n",
            "Testing for current epoch completed successfully.\n",
            "\n",
            "Ending Epoch: 2-----------------------------\n",
            "\n",
            "\n",
            "Starting Epoch: 3-----------------------------\n",
            "Went through 0 batches\n",
            "|| Train_Accuracy: 98.000 & Train_Loss: 0.089 ||\n",
            "Went through 1 batches\n",
            "|| Train_Accuracy: 88.000 & Train_Loss: 0.316 ||\n",
            "Went through 2 batches\n",
            "|| Train_Accuracy: 98.000 & Train_Loss: 0.119 ||\n",
            "Went through 3 batches\n",
            "|| Train_Accuracy: 100.000 & Train_Loss: 0.101 ||\n",
            "Went through 4 batches\n",
            "|| Train_Accuracy: 94.000 & Train_Loss: 0.146 ||\n",
            "Went through 5 batches\n",
            "|| Train_Accuracy: 96.000 & Train_Loss: 0.110 ||\n",
            "Went through 6 batches\n",
            "|| Train_Accuracy: 88.000 & Train_Loss: 0.289 ||\n",
            "Went through 7 batches\n",
            "|| Train_Accuracy: 88.000 & Train_Loss: 0.273 ||\n",
            "Went through 8 batches\n",
            "|| Train_Accuracy: 94.000 & Train_Loss: 0.166 ||\n",
            "Went through 9 batches\n",
            "|| Train_Accuracy: 93.333 & Train_Loss: 0.143 ||\n",
            "|| Train_Accuracy: 93.733 & Train_Loss: 0.175 ||\n",
            "Training for current epoch completed successfully.\n",
            "Went through 0 batches\n",
            "|| Train_Accuracy: 8.000 & Train_Loss: 11.009 ||\n",
            "Went through 1 batches\n",
            "|| Train_Accuracy: 71.429 & Train_Loss: 2.208 ||\n"
          ]
        },
        {
          "name": "stderr",
          "output_type": "stream",
          "text": [
            " 36%|███▋      | 4/11 [04:02<07:04, 60.66s/it]"
          ]
        },
        {
          "name": "stdout",
          "output_type": "stream",
          "text": [
            "|| Test_Accuracy: 39.714 & Test_Loss: 6.608 ||\n",
            "Testing for current epoch completed successfully.\n",
            "\n",
            "Ending Epoch: 3-----------------------------\n",
            "\n",
            "\n",
            "Starting Epoch: 4-----------------------------\n",
            "Went through 0 batches\n",
            "|| Train_Accuracy: 90.000 & Train_Loss: 0.217 ||\n",
            "Went through 1 batches\n",
            "|| Train_Accuracy: 96.000 & Train_Loss: 0.187 ||\n",
            "Went through 2 batches\n",
            "|| Train_Accuracy: 98.000 & Train_Loss: 0.065 ||\n",
            "Went through 3 batches\n",
            "|| Train_Accuracy: 88.000 & Train_Loss: 0.214 ||\n",
            "Went through 4 batches\n",
            "|| Train_Accuracy: 94.000 & Train_Loss: 0.220 ||\n",
            "Went through 5 batches\n",
            "|| Train_Accuracy: 90.000 & Train_Loss: 0.154 ||\n",
            "Went through 6 batches\n",
            "|| Train_Accuracy: 90.000 & Train_Loss: 0.488 ||\n",
            "Went through 7 batches\n",
            "|| Train_Accuracy: 88.000 & Train_Loss: 0.286 ||\n",
            "Went through 8 batches\n",
            "|| Train_Accuracy: 98.000 & Train_Loss: 0.093 ||\n",
            "Went through 9 batches\n",
            "|| Train_Accuracy: 93.333 & Train_Loss: 0.237 ||\n",
            "|| Train_Accuracy: 92.533 & Train_Loss: 0.216 ||\n",
            "Training for current epoch completed successfully.\n",
            "Went through 0 batches\n",
            "|| Train_Accuracy: 12.000 & Train_Loss: 16.224 ||\n",
            "Went through 1 batches\n",
            "|| Train_Accuracy: 63.265 & Train_Loss: 4.608 ||\n"
          ]
        },
        {
          "name": "stderr",
          "output_type": "stream",
          "text": [
            " 45%|████▌     | 5/11 [05:02<06:02, 60.39s/it]"
          ]
        },
        {
          "name": "stdout",
          "output_type": "stream",
          "text": [
            "|| Test_Accuracy: 37.633 & Test_Loss: 10.416 ||\n",
            "Testing for current epoch completed successfully.\n",
            "\n",
            "Ending Epoch: 4-----------------------------\n",
            "\n",
            "\n",
            "Starting Epoch: 5-----------------------------\n",
            "Went through 0 batches\n",
            "|| Train_Accuracy: 96.000 & Train_Loss: 0.160 ||\n",
            "Went through 1 batches\n",
            "|| Train_Accuracy: 92.000 & Train_Loss: 0.423 ||\n",
            "Went through 2 batches\n",
            "|| Train_Accuracy: 98.000 & Train_Loss: 0.062 ||\n",
            "Went through 3 batches\n",
            "|| Train_Accuracy: 92.000 & Train_Loss: 0.258 ||\n",
            "Went through 4 batches\n",
            "|| Train_Accuracy: 80.000 & Train_Loss: 0.451 ||\n",
            "Went through 5 batches\n",
            "|| Train_Accuracy: 92.000 & Train_Loss: 0.423 ||\n",
            "Went through 6 batches\n",
            "|| Train_Accuracy: 96.000 & Train_Loss: 0.273 ||\n",
            "Went through 7 batches\n",
            "|| Train_Accuracy: 88.000 & Train_Loss: 0.233 ||\n",
            "Went through 8 batches\n",
            "|| Train_Accuracy: 96.000 & Train_Loss: 0.109 ||\n",
            "Went through 9 batches\n",
            "|| Train_Accuracy: 80.000 & Train_Loss: 0.361 ||\n",
            "|| Train_Accuracy: 91.000 & Train_Loss: 0.275 ||\n",
            "Training for current epoch completed successfully.\n",
            "Went through 0 batches\n",
            "|| Train_Accuracy: 18.000 & Train_Loss: 5.291 ||\n",
            "Went through 1 batches\n",
            "|| Train_Accuracy: 53.061 & Train_Loss: 1.866 ||\n"
          ]
        },
        {
          "name": "stderr",
          "output_type": "stream",
          "text": [
            " 55%|█████▍    | 6/11 [06:03<05:03, 60.65s/it]"
          ]
        },
        {
          "name": "stdout",
          "output_type": "stream",
          "text": [
            "|| Test_Accuracy: 35.531 & Test_Loss: 3.578 ||\n",
            "Testing for current epoch completed successfully.\n",
            "\n",
            "Ending Epoch: 5-----------------------------\n",
            "\n",
            "\n",
            "Starting Epoch: 6-----------------------------\n",
            "Went through 0 batches\n",
            "|| Train_Accuracy: 96.000 & Train_Loss: 0.138 ||\n",
            "Went through 1 batches\n",
            "|| Train_Accuracy: 94.000 & Train_Loss: 0.225 ||\n",
            "Went through 2 batches\n",
            "|| Train_Accuracy: 92.000 & Train_Loss: 0.283 ||\n",
            "Went through 3 batches\n",
            "|| Train_Accuracy: 92.000 & Train_Loss: 0.247 ||\n",
            "Went through 4 batches\n",
            "|| Train_Accuracy: 84.000 & Train_Loss: 0.434 ||\n",
            "Went through 5 batches\n",
            "|| Train_Accuracy: 88.000 & Train_Loss: 0.315 ||\n",
            "Went through 6 batches\n",
            "|| Train_Accuracy: 92.000 & Train_Loss: 0.215 ||\n",
            "Went through 7 batches\n",
            "|| Train_Accuracy: 86.000 & Train_Loss: 0.373 ||\n",
            "Went through 8 batches\n",
            "|| Train_Accuracy: 94.000 & Train_Loss: 0.160 ||\n",
            "Went through 9 batches\n",
            "|| Train_Accuracy: 93.333 & Train_Loss: 0.120 ||\n",
            "|| Train_Accuracy: 91.133 & Train_Loss: 0.251 ||\n",
            "Training for current epoch completed successfully.\n",
            "Went through 0 batches\n",
            "|| Train_Accuracy: 16.000 & Train_Loss: 4.927 ||\n",
            "Went through 1 batches\n",
            "|| Train_Accuracy: 59.184 & Train_Loss: 1.815 ||\n"
          ]
        },
        {
          "name": "stderr",
          "output_type": "stream",
          "text": [
            " 64%|██████▎   | 7/11 [07:04<04:01, 60.44s/it]"
          ]
        },
        {
          "name": "stdout",
          "output_type": "stream",
          "text": [
            "|| Test_Accuracy: 37.592 & Test_Loss: 3.371 ||\n",
            "Testing for current epoch completed successfully.\n",
            "\n",
            "Ending Epoch: 6-----------------------------\n",
            "\n",
            "\n",
            "Starting Epoch: 7-----------------------------\n",
            "Went through 0 batches\n",
            "|| Train_Accuracy: 92.000 & Train_Loss: 0.314 ||\n",
            "Went through 1 batches\n",
            "|| Train_Accuracy: 86.000 & Train_Loss: 0.265 ||\n",
            "Went through 2 batches\n",
            "|| Train_Accuracy: 92.000 & Train_Loss: 0.180 ||\n",
            "Went through 3 batches\n",
            "|| Train_Accuracy: 90.000 & Train_Loss: 0.239 ||\n",
            "Went through 4 batches\n",
            "|| Train_Accuracy: 90.000 & Train_Loss: 0.217 ||\n",
            "Went through 5 batches\n",
            "|| Train_Accuracy: 88.000 & Train_Loss: 0.365 ||\n",
            "Went through 6 batches\n",
            "|| Train_Accuracy: 86.000 & Train_Loss: 0.244 ||\n",
            "Went through 7 batches\n",
            "|| Train_Accuracy: 98.000 & Train_Loss: 0.086 ||\n",
            "Went through 8 batches\n",
            "|| Train_Accuracy: 84.000 & Train_Loss: 0.423 ||\n",
            "Went through 9 batches\n",
            "|| Train_Accuracy: 86.667 & Train_Loss: 0.316 ||\n",
            "|| Train_Accuracy: 89.267 & Train_Loss: 0.265 ||\n",
            "Training for current epoch completed successfully.\n",
            "Went through 0 batches\n",
            "|| Train_Accuracy: 4.000 & Train_Loss: 6.837 ||\n",
            "Went through 1 batches\n",
            "|| Train_Accuracy: 63.265 & Train_Loss: 1.976 ||\n"
          ]
        },
        {
          "name": "stderr",
          "output_type": "stream",
          "text": [
            " 73%|███████▎  | 8/11 [08:03<03:00, 60.29s/it]"
          ]
        },
        {
          "name": "stdout",
          "output_type": "stream",
          "text": [
            "|| Test_Accuracy: 33.633 & Test_Loss: 4.406 ||\n",
            "Testing for current epoch completed successfully.\n",
            "\n",
            "Ending Epoch: 7-----------------------------\n",
            "\n",
            "\n",
            "Starting Epoch: 8-----------------------------\n",
            "Went through 0 batches\n",
            "|| Train_Accuracy: 94.000 & Train_Loss: 0.166 ||\n",
            "Went through 1 batches\n",
            "|| Train_Accuracy: 94.000 & Train_Loss: 0.130 ||\n",
            "Went through 2 batches\n",
            "|| Train_Accuracy: 96.000 & Train_Loss: 0.111 ||\n",
            "Went through 3 batches\n",
            "|| Train_Accuracy: 98.000 & Train_Loss: 0.202 ||\n",
            "Went through 4 batches\n",
            "|| Train_Accuracy: 90.000 & Train_Loss: 0.242 ||\n",
            "Went through 5 batches\n",
            "|| Train_Accuracy: 88.000 & Train_Loss: 0.382 ||\n",
            "Went through 6 batches\n",
            "|| Train_Accuracy: 88.000 & Train_Loss: 0.267 ||\n",
            "Went through 7 batches\n",
            "|| Train_Accuracy: 94.000 & Train_Loss: 0.144 ||\n",
            "Went through 8 batches\n",
            "|| Train_Accuracy: 86.000 & Train_Loss: 0.326 ||\n",
            "Went through 9 batches\n",
            "|| Train_Accuracy: 86.667 & Train_Loss: 0.321 ||\n",
            "|| Train_Accuracy: 91.467 & Train_Loss: 0.229 ||\n",
            "Training for current epoch completed successfully.\n",
            "Went through 0 batches\n",
            "|| Train_Accuracy: 12.000 & Train_Loss: 6.247 ||\n",
            "Went through 1 batches\n",
            "|| Train_Accuracy: 57.143 & Train_Loss: 2.375 ||\n"
          ]
        },
        {
          "name": "stderr",
          "output_type": "stream",
          "text": [
            " 82%|████████▏ | 9/11 [09:03<02:00, 60.20s/it]"
          ]
        },
        {
          "name": "stdout",
          "output_type": "stream",
          "text": [
            "|| Test_Accuracy: 34.571 & Test_Loss: 4.311 ||\n",
            "Testing for current epoch completed successfully.\n",
            "\n",
            "Ending Epoch: 8-----------------------------\n",
            "\n",
            "\n",
            "Starting Epoch: 9-----------------------------\n",
            "Went through 0 batches\n",
            "|| Train_Accuracy: 98.000 & Train_Loss: 0.072 ||\n",
            "Went through 1 batches\n",
            "|| Train_Accuracy: 94.000 & Train_Loss: 0.114 ||\n",
            "Went through 2 batches\n",
            "|| Train_Accuracy: 86.000 & Train_Loss: 0.258 ||\n",
            "Went through 3 batches\n",
            "|| Train_Accuracy: 94.000 & Train_Loss: 0.204 ||\n",
            "Went through 4 batches\n",
            "|| Train_Accuracy: 88.000 & Train_Loss: 0.610 ||\n",
            "Went through 5 batches\n",
            "|| Train_Accuracy: 96.000 & Train_Loss: 0.314 ||\n",
            "Went through 6 batches\n",
            "|| Train_Accuracy: 90.000 & Train_Loss: 0.240 ||\n",
            "Went through 7 batches\n",
            "|| Train_Accuracy: 86.000 & Train_Loss: 0.246 ||\n",
            "Went through 8 batches\n",
            "|| Train_Accuracy: 98.000 & Train_Loss: 0.114 ||\n",
            "Went through 9 batches\n",
            "|| Train_Accuracy: 86.667 & Train_Loss: 0.322 ||\n",
            "|| Train_Accuracy: 91.667 & Train_Loss: 0.249 ||\n",
            "Training for current epoch completed successfully.\n",
            "Went through 0 batches\n",
            "|| Train_Accuracy: 26.000 & Train_Loss: 6.861 ||\n",
            "Went through 1 batches\n",
            "|| Train_Accuracy: 53.061 & Train_Loss: 2.009 ||\n"
          ]
        },
        {
          "name": "stderr",
          "output_type": "stream",
          "text": [
            " 91%|█████████ | 10/11 [10:04<01:00, 60.29s/it]"
          ]
        },
        {
          "name": "stdout",
          "output_type": "stream",
          "text": [
            "|| Test_Accuracy: 39.531 & Test_Loss: 4.435 ||\n",
            "Testing for current epoch completed successfully.\n",
            "\n",
            "Ending Epoch: 9-----------------------------\n",
            "\n",
            "\n",
            "Starting Epoch: 10-----------------------------\n",
            "Went through 0 batches\n",
            "|| Train_Accuracy: 96.000 & Train_Loss: 0.131 ||\n",
            "Went through 1 batches\n",
            "|| Train_Accuracy: 90.000 & Train_Loss: 0.155 ||\n",
            "Went through 2 batches\n",
            "|| Train_Accuracy: 96.000 & Train_Loss: 0.115 ||\n",
            "Went through 3 batches\n",
            "|| Train_Accuracy: 92.000 & Train_Loss: 0.182 ||\n",
            "Went through 4 batches\n",
            "|| Train_Accuracy: 92.000 & Train_Loss: 0.260 ||\n",
            "Went through 5 batches\n",
            "|| Train_Accuracy: 92.000 & Train_Loss: 0.166 ||\n",
            "Went through 6 batches\n",
            "|| Train_Accuracy: 92.000 & Train_Loss: 0.217 ||\n",
            "Went through 7 batches\n",
            "|| Train_Accuracy: 92.000 & Train_Loss: 0.226 ||\n",
            "Went through 8 batches\n",
            "|| Train_Accuracy: 90.000 & Train_Loss: 0.240 ||\n",
            "Went through 9 batches\n",
            "|| Train_Accuracy: 86.667 & Train_Loss: 0.293 ||\n",
            "|| Train_Accuracy: 91.867 & Train_Loss: 0.198 ||\n",
            "Training for current epoch completed successfully.\n",
            "Went through 0 batches\n",
            "|| Train_Accuracy: 12.000 & Train_Loss: 7.604 ||\n",
            "Went through 1 batches\n",
            "|| Train_Accuracy: 69.388 & Train_Loss: 1.484 ||\n"
          ]
        },
        {
          "name": "stderr",
          "output_type": "stream",
          "text": [
            "100%|██████████| 11/11 [11:05<00:00, 60.47s/it]"
          ]
        },
        {
          "name": "stdout",
          "output_type": "stream",
          "text": [
            "|| Test_Accuracy: 40.694 & Test_Loss: 4.544 ||\n",
            "Testing for current epoch completed successfully.\n",
            "\n",
            "Ending Epoch: 10-----------------------------\n",
            "Training Time: 665.17 seconds for 11 epochs on cpu.\n"
          ]
        },
        {
          "name": "stderr",
          "output_type": "stream",
          "text": [
            "\n"
          ]
        }
      ],
      "source": [
        "from timeit import default_timer as timer\n",
        "\n",
        "start = timer()\n",
        "\n",
        "EPOCHS = 11\n",
        "\n",
        "model_0_results = train(model=model_0,\n",
        "                        train_dataloader=train_dataloader,\n",
        "                        test_dataloader=test_dataloader,\n",
        "                        loss_fn=loss_fn,\n",
        "                        optimizer=optimizer,\n",
        "                        acc_fn=acc_fn,\n",
        "                        device=device,\n",
        "                        epochs=EPOCHS)\n",
        "\n",
        "end = timer()\n",
        "\n",
        "print(f\"Training Time: {end-start:.2f} seconds for {EPOCHS} epochs on {device}.\")"
      ]
    },
    {
      "cell_type": "code",
      "execution_count": 62,
      "metadata": {
        "id": "XUB4sJEsApRQ"
      },
      "outputs": [
        {
          "data": {
            "text/plain": [
              "{'train_loss': [0.3060379594564438,\n",
              "  0.32457515001297,\n",
              "  0.21128654330968857,\n",
              "  0.17514499500393868,\n",
              "  0.21613817885518075,\n",
              "  0.2752907365560532,\n",
              "  0.25105991512537,\n",
              "  0.2647297605872154,\n",
              "  0.22917826026678084,\n",
              "  0.24941512271761895,\n",
              "  0.19847001060843467],\n",
              " 'train_acc': [88.66666666666666,\n",
              "  87.66666666666666,\n",
              "  91.06666666666666,\n",
              "  93.73333333333333,\n",
              "  92.53333333333333,\n",
              "  91.0,\n",
              "  91.13333333333334,\n",
              "  89.26666666666667,\n",
              "  91.46666666666667,\n",
              "  91.66666666666666,\n",
              "  91.86666666666666],\n",
              " 'test_loss': [5.598024010658264,\n",
              "  3.4339059591293335,\n",
              "  4.815387964248657,\n",
              "  6.60822057723999,\n",
              "  10.416008234024048,\n",
              "  3.578200936317444,\n",
              "  3.371248245239258,\n",
              "  4.406261742115021,\n",
              "  4.310866117477417,\n",
              "  4.434961438179016,\n",
              "  4.543768048286438],\n",
              " 'test_acc': [41.69387755102041,\n",
              "  27.346938775510203,\n",
              "  34.61224489795919,\n",
              "  39.714285714285715,\n",
              "  37.63265306122449,\n",
              "  35.53061224489796,\n",
              "  37.59183673469388,\n",
              "  33.63265306122449,\n",
              "  34.57142857142857,\n",
              "  39.53061224489796,\n",
              "  40.69387755102041]}"
            ]
          },
          "execution_count": 62,
          "metadata": {},
          "output_type": "execute_result"
        }
      ],
      "source": [
        "model_0_results"
      ]
    },
    {
      "cell_type": "code",
      "execution_count": 63,
      "metadata": {
        "id": "zjGDieW-ApRQ"
      },
      "outputs": [],
      "source": [
        "from typing import Dict, List\n",
        "\n",
        "def plot_loss_curves(results: Dict[str, List[float]]):\n",
        "    \"\"\"Plots training curves of a results dictionary.\n",
        "\n",
        "    Args:\n",
        "        results (dict): dictionary containing list of values, e.g.\n",
        "            {\"train_loss\": [...],\n",
        "             \"train_acc\": [...],\n",
        "             \"test_loss\": [...],\n",
        "             \"test_acc\": [...]}\n",
        "    \"\"\"\n",
        "    \n",
        "    # Get the loss values of the results dictionary (training and test)\n",
        "    loss = results['train_loss']\n",
        "    test_loss = results['test_loss']\n",
        "\n",
        "    # Get the accuracy values of the results dictionary (training and test)\n",
        "    accuracy = results['train_acc']\n",
        "    test_accuracy = results['test_acc']\n",
        "\n",
        "    # Figure out how many epochs there were\n",
        "    epochs = range(len(results['train_loss']))\n",
        "\n",
        "    # Setup a plot \n",
        "    plt.figure(figsize=(15, 7))\n",
        "\n",
        "    # Plot loss\n",
        "    plt.subplot(1, 2, 1)\n",
        "    plt.plot(epochs, loss, label='train_loss')\n",
        "    plt.plot(epochs, test_loss, label='test_loss')\n",
        "    plt.title('Loss')\n",
        "    plt.xlabel('Epochs')\n",
        "    plt.legend()\n",
        "\n",
        "    # Plot accuracy\n",
        "    plt.subplot(1, 2, 2)\n",
        "    plt.plot(epochs, accuracy, label='train_accuracy')\n",
        "    plt.plot(epochs, test_accuracy, label='test_accuracy')\n",
        "    plt.title('Accuracy')\n",
        "    plt.xlabel('Epochs')\n",
        "    plt.legend();"
      ]
    },
    {
      "cell_type": "code",
      "execution_count": 64,
      "metadata": {
        "id": "SCW1QlE-ApRQ"
      },
      "outputs": [
        {
          "data": {
            "image/png": "[encoded data removed]",
            "text/plain": [
              "<Figure size 1500x700 with 2 Axes>"
            ]
          },
          "metadata": {},
          "output_type": "display_data"
        }
      ],
      "source": [
        "plot_loss_curves(model_0_results)"
      ]
    },
    {
      "cell_type": "code",
      "execution_count": null,
      "metadata": {
        "id": "jOiMl5upApRQ"
      },
      "outputs": [],
      "source": []
    }
  ],
  "metadata": {
    "accelerator": "GPU",
    "colab": {
      "gpuType": "T4",
      "provenance": []
    },
    "kernelspec": {
      "display_name": "Python 3",
      "name": "python3"
    },
    "language_info": {
      "codemirror_mode": {
        "name": "ipython",
        "version": 3
      },
      "file_extension": ".py",
      "mimetype": "text/x-python",
      "name": "python",
      "nbconvert_exporter": "python",
      "pygments_lexer": "ipython3",
      "version": "3.10.9"
    },
    "widgets": {
      "application/vnd.jupyter.widget-state+json": {
        "0c92507bba5b45db98a34f42408d2bf0": {
          "model_module": "@jupyter-widgets/base",
          "model_module_version": "1.2.0",
          "model_name": "LayoutModel",
          "state": {
            "_model_module": "@jupyter-widgets/base",
            "_model_module_version": "1.2.0",
            "_model_name": "LayoutModel",
            "_view_count": null,
            "_view_module": "@jupyter-widgets/base",
            "_view_module_version": "1.2.0",
            "_view_name": "LayoutView",
            "align_content": null,
            "align_items": null,
            "align_self": null,
            "border": null,
            "bottom": null,
            "display": null,
            "flex": null,
            "flex_flow": null,
            "grid_area": null,
            "grid_auto_columns": null,
            "grid_auto_flow": null,
            "grid_auto_rows": null,
            "grid_column": null,
            "grid_gap": null,
            "grid_row": null,
            "grid_template_areas": null,
            "grid_template_columns": null,
            "grid_template_rows": null,
            "height": null,
            "justify_content": null,
            "justify_items": null,
            "left": null,
            "margin": null,
            "max_height": null,
            "max_width": null,
            "min_height": null,
            "min_width": null,
            "object_fit": null,
            "object_position": null,
            "order": null,
            "overflow": null,
            "overflow_x": null,
            "overflow_y": null,
            "padding": null,
            "right": null,
            "top": null,
            "visibility": null,
            "width": null
          }
        },
        "2cf9b257df2542068570df38fddf6333": {
          "model_module": "@jupyter-widgets/controls",
          "model_module_version": "1.5.0",
          "model_name": "DescriptionStyleModel",
          "state": {
            "_model_module": "@jupyter-widgets/controls",
            "_model_module_version": "1.5.0",
            "_model_name": "DescriptionStyleModel",
            "_view_count": null,
            "_view_module": "@jupyter-widgets/base",
            "_view_module_version": "1.2.0",
            "_view_name": "StyleView",
            "description_width": ""
          }
        },
        "347241d4bef047819352a98119ccc824": {
          "model_module": "@jupyter-widgets/base",
          "model_module_version": "1.2.0",
          "model_name": "LayoutModel",
          "state": {
            "_model_module": "@jupyter-widgets/base",
            "_model_module_version": "1.2.0",
            "_model_name": "LayoutModel",
            "_view_count": null,
            "_view_module": "@jupyter-widgets/base",
            "_view_module_version": "1.2.0",
            "_view_name": "LayoutView",
            "align_content": null,
            "align_items": null,
            "align_self": null,
            "border": null,
            "bottom": null,
            "display": null,
            "flex": null,
            "flex_flow": null,
            "grid_area": null,
            "grid_auto_columns": null,
            "grid_auto_flow": null,
            "grid_auto_rows": null,
            "grid_column": null,
            "grid_gap": null,
            "grid_row": null,
            "grid_template_areas": null,
            "grid_template_columns": null,
            "grid_template_rows": null,
            "height": null,
            "justify_content": null,
            "justify_items": null,
            "left": null,
            "margin": null,
            "max_height": null,
            "max_width": null,
            "min_height": null,
            "min_width": null,
            "object_fit": null,
            "object_position": null,
            "order": null,
            "overflow": null,
            "overflow_x": null,
            "overflow_y": null,
            "padding": null,
            "right": null,
            "top": null,
            "visibility": null,
            "width": null
          }
        },
        "4be9d8ac12f44adab2e966a9f628601a": {
          "model_module": "@jupyter-widgets/controls",
          "model_module_version": "1.5.0",
          "model_name": "HBoxModel",
          "state": {
            "_dom_classes": [],
            "_model_module": "@jupyter-widgets/controls",
            "_model_module_version": "1.5.0",
            "_model_name": "HBoxModel",
            "_view_count": null,
            "_view_module": "@jupyter-widgets/controls",
            "_view_module_version": "1.5.0",
            "_view_name": "HBoxView",
            "box_style": "",
            "children": [
              "IPY_MODEL_84d048e6be50435aa62198e00c9fb5a9",
              "IPY_MODEL_f9a85f12ef4947d1ae03445387ebaa8b",
              "IPY_MODEL_9a01be57cbb3494a9578005ff51a0505"
            ],
            "layout": "IPY_MODEL_d57180d307474e8081bd761a16472e4f"
          }
        },
        "84d048e6be50435aa62198e00c9fb5a9": {
          "model_module": "@jupyter-widgets/controls",
          "model_module_version": "1.5.0",
          "model_name": "HTMLModel",
          "state": {
            "_dom_classes": [],
            "_model_module": "@jupyter-widgets/controls",
            "_model_module_version": "1.5.0",
            "_model_name": "HTMLModel",
            "_view_count": null,
            "_view_module": "@jupyter-widgets/controls",
            "_view_module_version": "1.5.0",
            "_view_name": "HTMLView",
            "description": "",
            "description_tooltip": null,
            "layout": "IPY_MODEL_a772010adedd4f3abf96b61e8a8a47ca",
            "placeholder": "​",
            "style": "IPY_MODEL_9b3fceb765594c0498f34fcb907acfeb",
            "value": " 20%"
          }
        },
        "9a01be57cbb3494a9578005ff51a0505": {
          "model_module": "@jupyter-widgets/controls",
          "model_module_version": "1.5.0",
          "model_name": "HTMLModel",
          "state": {
            "_dom_classes": [],
            "_model_module": "@jupyter-widgets/controls",
            "_model_module_version": "1.5.0",
            "_model_name": "HTMLModel",
            "_view_count": null,
            "_view_module": "@jupyter-widgets/controls",
            "_view_module_version": "1.5.0",
            "_view_name": "HTMLView",
            "description": "",
            "description_tooltip": null,
            "layout": "IPY_MODEL_347241d4bef047819352a98119ccc824",
            "placeholder": "​",
            "style": "IPY_MODEL_2cf9b257df2542068570df38fddf6333",
            "value": " 1/5 [04:49&lt;10:00, 150.07s/it]"
          }
        },
        "9b3fceb765594c0498f34fcb907acfeb": {
          "model_module": "@jupyter-widgets/controls",
          "model_module_version": "1.5.0",
          "model_name": "DescriptionStyleModel",
          "state": {
            "_model_module": "@jupyter-widgets/controls",
            "_model_module_version": "1.5.0",
            "_model_name": "DescriptionStyleModel",
            "_view_count": null,
            "_view_module": "@jupyter-widgets/base",
            "_view_module_version": "1.2.0",
            "_view_name": "StyleView",
            "description_width": ""
          }
        },
        "a772010adedd4f3abf96b61e8a8a47ca": {
          "model_module": "@jupyter-widgets/base",
          "model_module_version": "1.2.0",
          "model_name": "LayoutModel",
          "state": {
            "_model_module": "@jupyter-widgets/base",
            "_model_module_version": "1.2.0",
            "_model_name": "LayoutModel",
            "_view_count": null,
            "_view_module": "@jupyter-widgets/base",
            "_view_module_version": "1.2.0",
            "_view_name": "LayoutView",
            "align_content": null,
            "align_items": null,
            "align_self": null,
            "border": null,
            "bottom": null,
            "display": null,
            "flex": null,
            "flex_flow": null,
            "grid_area": null,
            "grid_auto_columns": null,
            "grid_auto_flow": null,
            "grid_auto_rows": null,
            "grid_column": null,
            "grid_gap": null,
            "grid_row": null,
            "grid_template_areas": null,
            "grid_template_columns": null,
            "grid_template_rows": null,
            "height": null,
            "justify_content": null,
            "justify_items": null,
            "left": null,
            "margin": null,
            "max_height": null,
            "max_width": null,
            "min_height": null,
            "min_width": null,
            "object_fit": null,
            "object_position": null,
            "order": null,
            "overflow": null,
            "overflow_x": null,
            "overflow_y": null,
            "padding": null,
            "right": null,
            "top": null,
            "visibility": null,
            "width": null
          }
        },
        "a9e7cae11cd24c35bfb88723ccce29c0": {
          "model_module": "@jupyter-widgets/controls",
          "model_module_version": "1.5.0",
          "model_name": "ProgressStyleModel",
          "state": {
            "_model_module": "@jupyter-widgets/controls",
            "_model_module_version": "1.5.0",
            "_model_name": "ProgressStyleModel",
            "_view_count": null,
            "_view_module": "@jupyter-widgets/base",
            "_view_module_version": "1.2.0",
            "_view_name": "StyleView",
            "bar_color": null,
            "description_width": ""
          }
        },
        "d57180d307474e8081bd761a16472e4f": {
          "model_module": "@jupyter-widgets/base",
          "model_module_version": "1.2.0",
          "model_name": "LayoutModel",
          "state": {
            "_model_module": "@jupyter-widgets/base",
            "_model_module_version": "1.2.0",
            "_model_name": "LayoutModel",
            "_view_count": null,
            "_view_module": "@jupyter-widgets/base",
            "_view_module_version": "1.2.0",
            "_view_name": "LayoutView",
            "align_content": null,
            "align_items": null,
            "align_self": null,
            "border": null,
            "bottom": null,
            "display": null,
            "flex": null,
            "flex_flow": null,
            "grid_area": null,
            "grid_auto_columns": null,
            "grid_auto_flow": null,
            "grid_auto_rows": null,
            "grid_column": null,
            "grid_gap": null,
            "grid_row": null,
            "grid_template_areas": null,
            "grid_template_columns": null,
            "grid_template_rows": null,
            "height": null,
            "justify_content": null,
            "justify_items": null,
            "left": null,
            "margin": null,
            "max_height": null,
            "max_width": null,
            "min_height": null,
            "min_width": null,
            "object_fit": null,
            "object_position": null,
            "order": null,
            "overflow": null,
            "overflow_x": null,
            "overflow_y": null,
            "padding": null,
            "right": null,
            "top": null,
            "visibility": null,
            "width": null
          }
        },
        "f9a85f12ef4947d1ae03445387ebaa8b": {
          "model_module": "@jupyter-widgets/controls",
          "model_module_version": "1.5.0",
          "model_name": "FloatProgressModel",
          "state": {
            "_dom_classes": [],
            "_model_module": "@jupyter-widgets/controls",
            "_model_module_version": "1.5.0",
            "_model_name": "FloatProgressModel",
            "_view_count": null,
            "_view_module": "@jupyter-widgets/controls",
            "_view_module_version": "1.5.0",
            "_view_name": "ProgressView",
            "bar_style": "danger",
            "description": "",
            "description_tooltip": null,
            "layout": "IPY_MODEL_0c92507bba5b45db98a34f42408d2bf0",
            "max": 5,
            "min": 0,
            "orientation": "horizontal",
            "style": "IPY_MODEL_a9e7cae11cd24c35bfb88723ccce29c0",
            "value": 1
          }
        }
      }
    }
  },
  "nbformat": 4,
  "nbformat_minor": 0
}
