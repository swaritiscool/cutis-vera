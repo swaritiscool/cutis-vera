{
  "cells": [
    {
      "cell_type": "markdown",
      "metadata": {
        "id": "dEdEsahwEEH9"
      },
      "source": [
        "# Skin Disease Detection System Using PyTorch (ResNet34 VS EfficientNetB0)\n"
      ]
    },
    {
      "cell_type": "markdown",
      "metadata": {
        "id": "DKw-VNzxEEIA"
      },
      "source": [
        "## Importing Data & Basic Setup\n"
      ]
    },
    {
      "cell_type": "code",
      "execution_count": 2,
      "metadata": {
        "colab": {
          "base_uri": "https://localhost:8080/"
        },
        "id": "XABOW2egEK9c",
        "outputId": "737a47fb-004d-4a4e-d140-0eb87aba8c95"
      },
      "outputs": [
        {
          "name": "stdout",
          "output_type": "stream",
          "text": [
            "Requirement already satisfied: kagglehub in /usr/local/lib/python3.11/dist-packages (0.3.10)\n",
            "Requirement already satisfied: packaging in /usr/local/lib/python3.11/dist-packages (from kagglehub) (24.2)\n",
            "Requirement already satisfied: pyyaml in /usr/local/lib/python3.11/dist-packages (from kagglehub) (6.0.2)\n",
            "Requirement already satisfied: requests in /usr/local/lib/python3.11/dist-packages (from kagglehub) (2.32.3)\n",
            "Requirement already satisfied: tqdm in /usr/local/lib/python3.11/dist-packages (from kagglehub) (4.67.1)\n",
            "Requirement already satisfied: charset-normalizer<4,>=2 in /usr/local/lib/python3.11/dist-packages (from requests->kagglehub) (3.4.1)\n",
            "Requirement already satisfied: idna<4,>=2.5 in /usr/local/lib/python3.11/dist-packages (from requests->kagglehub) (3.10)\n",
            "Requirement already satisfied: urllib3<3,>=1.21.1 in /usr/local/lib/python3.11/dist-packages (from requests->kagglehub) (2.3.0)\n",
            "Requirement already satisfied: certifi>=2017.4.17 in /usr/local/lib/python3.11/dist-packages (from requests->kagglehub) (2025.1.31)\n"
          ]
        }
      ],
      "source": [
        "# !pip install kagglehub"
      ]
    },
    {
      "cell_type": "code",
      "execution_count": null,
      "metadata": {
        "_cell_guid": "b1076dfc-b9ad-4769-8c92-a6c4dae69d19",
        "_uuid": "8f2839f25d086af736a60e9eeb907d3b93b6e0e5",
        "colab": {
          "base_uri": "https://localhost:8080/"
        },
        "execution": {
          "iopub.execute_input": "2025-03-13T01:12:14.804112Z",
          "iopub.status.busy": "2025-03-13T01:12:14.803759Z",
          "iopub.status.idle": "2025-03-13T01:12:14.950148Z",
          "shell.execute_reply": "2025-03-13T01:12:14.949182Z",
          "shell.execute_reply.started": "2025-03-13T01:12:14.804083Z"
        },
        "id": "Gifx6dPiEEIA",
        "outputId": "e59d43db-7cb6-44a3-fa6d-0c62ea20ec69",
        "trusted": true
      },
      "outputs": [
        {
          "name": "stdout",
          "output_type": "stream",
          "text": [
            "Downloading from https://www.kaggle.com/api/v1/datasets/download/shubhamgoel27/dermnet?dataset_version_number=1...\n"
          ]
        },
        {
          "name": "stderr",
          "output_type": "stream",
          "text": [
            "100%|██████████| 1.72G/1.72G [00:15<00:00, 120MB/s]"
          ]
        },
        {
          "name": "stdout",
          "output_type": "stream",
          "text": [
            "Extracting files...\n"
          ]
        },
        {
          "name": "stderr",
          "output_type": "stream",
          "text": [
            "\n"
          ]
        },
        {
          "name": "stdout",
          "output_type": "stream",
          "text": [
            "Path to dataset files: /root/.cache/kagglehub/datasets/shubhamgoel27/dermnet/versions/1\n"
          ]
        }
      ],
      "source": [
        "# import kagglehub\n",
        "\n",
        "# # Download latest version\n",
        "# path = kagglehub.dataset_download(\"shubhamgoel27/dermnet\")\n",
        "\n",
        "# print(\"Path to dataset files:\", path)"
      ]
    },
    {
      "cell_type": "code",
      "execution_count": 38,
      "metadata": {
        "execution": {
          "iopub.execute_input": "2025-03-13T01:12:14.951491Z",
          "iopub.status.busy": "2025-03-13T01:12:14.951219Z",
          "iopub.status.idle": "2025-03-13T01:12:14.955951Z",
          "shell.execute_reply": "2025-03-13T01:12:14.954728Z",
          "shell.execute_reply.started": "2025-03-13T01:12:14.951453Z"
        },
        "id": "d-36uPUOEEIC",
        "trusted": true
      },
      "outputs": [],
      "source": [
        "path = \"Data/Dermnet/VARIANT\" # 3 Diseases Only\n",
        "\n",
        "train_dir = path + \"/train\"\n",
        "test_dir = path + \"/test\""
      ]
    },
    {
      "cell_type": "code",
      "execution_count": 39,
      "metadata": {
        "colab": {
          "base_uri": "https://localhost:8080/",
          "height": 35
        },
        "execution": {
          "iopub.execute_input": "2025-03-13T01:12:15.063091Z",
          "iopub.status.busy": "2025-03-13T01:12:15.062763Z",
          "iopub.status.idle": "2025-03-13T01:12:15.070397Z",
          "shell.execute_reply": "2025-03-13T01:12:15.069217Z",
          "shell.execute_reply.started": "2025-03-13T01:12:15.063064Z"
        },
        "id": "VPWvNgKQEEID",
        "outputId": "204cda68-0283-4a77-9abf-d1f0f31e4987",
        "trusted": true
      },
      "outputs": [
        {
          "data": {
            "text/plain": [
              "'cpu'"
            ]
          },
          "execution_count": 39,
          "metadata": {},
          "output_type": "execute_result"
        }
      ],
      "source": [
        "import torch\n",
        "import torchvision\n",
        "from torchvision import transforms\n",
        "from pathlib import Path\n",
        "from torch import nn\n",
        "\n",
        "device = \"cpu\"\n",
        "\n",
        "if torch.cuda.is_available():\n",
        "    device = \"cuda\"\n",
        "elif torch.xpu.is_available():\n",
        "    device = \"xpu\"\n",
        "else: device = \"cpu\"\n",
        "device"
      ]
    },
    {
      "cell_type": "markdown",
      "metadata": {
        "id": "am171aynEEID"
      },
      "source": [
        "## Transforms, Dataset & Dataloader\n"
      ]
    },
    {
      "cell_type": "code",
      "execution_count": 40,
      "metadata": {
        "execution": {
          "iopub.execute_input": "2025-03-13T01:44:33.657589Z",
          "iopub.status.busy": "2025-03-13T01:44:33.657031Z",
          "iopub.status.idle": "2025-03-13T01:44:33.666190Z",
          "shell.execute_reply": "2025-03-13T01:44:33.664956Z",
          "shell.execute_reply.started": "2025-03-13T01:44:33.657549Z"
        },
        "id": "ARXuGAriEEIE",
        "trusted": true
      },
      "outputs": [
        {
          "data": {
            "text/plain": [
              "torch.Size([3, 224, 224])"
            ]
          },
          "execution_count": 40,
          "metadata": {},
          "output_type": "execute_result"
        }
      ],
      "source": [
        "from torchvision import transforms\n",
        "\n",
        "# Data augmentation has shown to reduce overfitting. My aim with these augments is to make the model find patterns V/S rote memorization.\n",
        "\n",
        "train_transform = transforms.Compose([\n",
        "    transforms.Resize(size=(512, 512)),\n",
        "    transforms.RandomHorizontalFlip(p=0.5),\n",
        "    transforms.RandomVerticalFlip(p=0.5),\n",
        "    transforms.RandomRotation(degrees=15),\n",
        "    transforms.Resize(size=(224, 224)),\n",
        "    transforms.ToTensor(),\n",
        "])\n",
        "test_transfrom = transforms.Compose([\n",
        "    transforms.Resize(size=(224, 224)),\n",
        "    transforms.ToTensor(),\n",
        "])\n",
        "\n",
        "train_dataset = torchvision.datasets.ImageFolder(train_dir,\n",
        "                                                 transform=train_transform,\n",
        "                                                 target_transform=None)\n",
        "\n",
        "test_dataset = torchvision.datasets.ImageFolder(test_dir,\n",
        "                                                 transform=test_transfrom,\n",
        "                                                 target_transform=None)\n",
        "\n",
        "img, label = train_dataset[1][0], train_dataset[1][1]\n",
        "\n",
        "img.shape"
      ]
    },
    {
      "cell_type": "code",
      "execution_count": 41,
      "metadata": {
        "colab": {
          "base_uri": "https://localhost:8080/"
        },
        "execution": {
          "iopub.execute_input": "2025-03-13T01:12:33.874766Z",
          "iopub.status.busy": "2025-03-13T01:12:33.874452Z",
          "iopub.status.idle": "2025-03-13T01:12:33.881340Z",
          "shell.execute_reply": "2025-03-13T01:12:33.880344Z",
          "shell.execute_reply.started": "2025-03-13T01:12:33.874741Z"
        },
        "id": "nwzOV19BEEIG",
        "outputId": "172dea24-0b9a-4d0e-8fb3-ad87a190562c",
        "trusted": true
      },
      "outputs": [
        {
          "data": {
            "text/plain": [
              "300"
            ]
          },
          "execution_count": 41,
          "metadata": {},
          "output_type": "execute_result"
        }
      ],
      "source": [
        "len(train_dataset)"
      ]
    },
    {
      "cell_type": "code",
      "execution_count": 42,
      "metadata": {
        "colab": {
          "base_uri": "https://localhost:8080/"
        },
        "execution": {
          "iopub.execute_input": "2025-03-13T01:12:33.883695Z",
          "iopub.status.busy": "2025-03-13T01:12:33.883411Z",
          "iopub.status.idle": "2025-03-13T01:12:33.908863Z",
          "shell.execute_reply": "2025-03-13T01:12:33.907897Z",
          "shell.execute_reply.started": "2025-03-13T01:12:33.883671Z"
        },
        "id": "45yyPxh0EEIH",
        "outputId": "c68504af-aa8b-48ce-ab51-88e7fe1e9a8e",
        "trusted": true
      },
      "outputs": [
        {
          "data": {
            "text/plain": [
              "3"
            ]
          },
          "execution_count": 42,
          "metadata": {},
          "output_type": "execute_result"
        }
      ],
      "source": [
        "class_names = train_dataset.classes\n",
        "len(class_names)"
      ]
    },
    {
      "cell_type": "code",
      "execution_count": 43,
      "metadata": {
        "colab": {
          "base_uri": "https://localhost:8080/",
          "height": 446
        },
        "execution": {
          "iopub.execute_input": "2025-03-13T01:12:33.910737Z",
          "iopub.status.busy": "2025-03-13T01:12:33.910370Z",
          "iopub.status.idle": "2025-03-13T01:12:34.257429Z",
          "shell.execute_reply": "2025-03-13T01:12:34.256349Z",
          "shell.execute_reply.started": "2025-03-13T01:12:33.910710Z"
        },
        "id": "gx77JKHHEEIH",
        "outputId": "5ebf6441-2bc3-406f-93ad-633e4bb9ed03",
        "trusted": true
      },
      "outputs": [
        {
          "data": {
            "text/plain": [
              "Text(0.5, 1.0, 'Acne and Rosacea Photos')"
            ]
          },
          "execution_count": 43,
          "metadata": {},
          "output_type": "execute_result"
        },
        {
          "data": {
            "image/png": "[encoded data removed]",
            "text/plain": [
              "<Figure size 640x480 with 1 Axes>"
            ]
          },
          "metadata": {},
          "output_type": "display_data"
        }
      ],
      "source": [
        "import matplotlib.pyplot as plt\n",
        "\n",
        "plt.imshow(img.permute(1,2,0))\n",
        "plt.axis(False)\n",
        "plt.title(class_names[label])"
      ]
    },
    {
      "cell_type": "code",
      "execution_count": 44,
      "metadata": {
        "colab": {
          "base_uri": "https://localhost:8080/"
        },
        "execution": {
          "iopub.execute_input": "2025-03-13T01:12:34.258974Z",
          "iopub.status.busy": "2025-03-13T01:12:34.258548Z",
          "iopub.status.idle": "2025-03-13T01:12:34.265153Z",
          "shell.execute_reply": "2025-03-13T01:12:34.264193Z",
          "shell.execute_reply.started": "2025-03-13T01:12:34.258937Z"
        },
        "id": "uQgUM4-kEEII",
        "outputId": "d1674bf3-c476-497c-95e1-0a1763ffff86",
        "trusted": true
      },
      "outputs": [
        {
          "data": {
            "text/plain": [
              "8"
            ]
          },
          "execution_count": 44,
          "metadata": {},
          "output_type": "execute_result"
        }
      ],
      "source": [
        "import os\n",
        "os.cpu_count()"
      ]
    },
    {
      "cell_type": "code",
      "execution_count": 45,
      "metadata": {
        "colab": {
          "base_uri": "https://localhost:8080/"
        },
        "execution": {
          "iopub.execute_input": "2025-03-13T01:12:34.266657Z",
          "iopub.status.busy": "2025-03-13T01:12:34.266271Z",
          "iopub.status.idle": "2025-03-13T01:12:34.285668Z",
          "shell.execute_reply": "2025-03-13T01:12:34.284492Z",
          "shell.execute_reply.started": "2025-03-13T01:12:34.266588Z"
        },
        "id": "JZTItDu1EEII",
        "outputId": "106792a3-43e1-4391-e31b-1e0013e9e1d2",
        "trusted": true
      },
      "outputs": [
        {
          "data": {
            "text/plain": [
              "(6, 2)"
            ]
          },
          "execution_count": 45,
          "metadata": {},
          "output_type": "execute_result"
        }
      ],
      "source": [
        "from torch.utils.data import DataLoader\n",
        "\n",
        "BATCH_SIZE = 50\n",
        "\n",
        "train_dataloader = DataLoader(dataset=train_dataset,\n",
        "                              batch_size=BATCH_SIZE,\n",
        "                              shuffle=True,\n",
        "                              num_workers=8)\n",
        "\n",
        "test_dataloader = DataLoader(dataset=test_dataset,\n",
        "                              batch_size=BATCH_SIZE,\n",
        "                              shuffle=False,\n",
        "                              num_workers=8)\n",
        "\n",
        "len(train_dataloader), len(test_dataloader)"
      ]
    },
    {
      "cell_type": "code",
      "execution_count": 46,
      "metadata": {},
      "outputs": [],
      "source": [
        "num_classes = len(train_dataset.classes)"
      ]
    },
    {
      "cell_type": "markdown",
      "metadata": {
        "id": "IMHOhRzPEEII"
      },
      "source": [
        "## Model\n"
      ]
    },
    {
      "cell_type": "code",
      "execution_count": 47,
      "metadata": {
        "colab": {
          "base_uri": "https://localhost:8080/"
        },
        "collapsed": true,
        "execution": {
          "iopub.execute_input": "2025-03-13T01:38:50.079707Z",
          "iopub.status.busy": "2025-03-13T01:38:50.079327Z",
          "iopub.status.idle": "2025-03-13T01:38:55.552602Z",
          "shell.execute_reply": "2025-03-13T01:38:55.551565Z",
          "shell.execute_reply.started": "2025-03-13T01:38:50.079677Z"
        },
        "id": "jrZ_mGjmEEIJ",
        "outputId": "5cce7c39-b3b8-4405-d6da-0ed6a6da37ed",
        "trusted": true
      },
      "outputs": [
        {
          "data": {
            "text/plain": [
              "EfficientNet(\n",
              "  (features): Sequential(\n",
              "    (0): Conv2dNormActivation(\n",
              "      (0): Conv2d(3, 32, kernel_size=(3, 3), stride=(2, 2), padding=(1, 1), bias=False)\n",
              "      (1): BatchNorm2d(32, eps=1e-05, momentum=0.1, affine=True, track_running_stats=True)\n",
              "      (2): SiLU(inplace=True)\n",
              "    )\n",
              "    (1): Sequential(\n",
              "      (0): MBConv(\n",
              "        (block): Sequential(\n",
              "          (0): Conv2dNormActivation(\n",
              "            (0): Conv2d(32, 32, kernel_size=(3, 3), stride=(1, 1), padding=(1, 1), groups=32, bias=False)\n",
              "            (1): BatchNorm2d(32, eps=1e-05, momentum=0.1, affine=True, track_running_stats=True)\n",
              "            (2): SiLU(inplace=True)\n",
              "          )\n",
              "          (1): SqueezeExcitation(\n",
              "            (avgpool): AdaptiveAvgPool2d(output_size=1)\n",
              "            (fc1): Conv2d(32, 8, kernel_size=(1, 1), stride=(1, 1))\n",
              "            (fc2): Conv2d(8, 32, kernel_size=(1, 1), stride=(1, 1))\n",
              "            (activation): SiLU(inplace=True)\n",
              "            (scale_activation): Sigmoid()\n",
              "          )\n",
              "          (2): Conv2dNormActivation(\n",
              "            (0): Conv2d(32, 16, kernel_size=(1, 1), stride=(1, 1), bias=False)\n",
              "            (1): BatchNorm2d(16, eps=1e-05, momentum=0.1, affine=True, track_running_stats=True)\n",
              "          )\n",
              "        )\n",
              "        (stochastic_depth): StochasticDepth(p=0.0, mode=row)\n",
              "      )\n",
              "    )\n",
              "    (2): Sequential(\n",
              "      (0): MBConv(\n",
              "        (block): Sequential(\n",
              "          (0): Conv2dNormActivation(\n",
              "            (0): Conv2d(16, 96, kernel_size=(1, 1), stride=(1, 1), bias=False)\n",
              "            (1): BatchNorm2d(96, eps=1e-05, momentum=0.1, affine=True, track_running_stats=True)\n",
              "            (2): SiLU(inplace=True)\n",
              "          )\n",
              "          (1): Conv2dNormActivation(\n",
              "            (0): Conv2d(96, 96, kernel_size=(3, 3), stride=(2, 2), padding=(1, 1), groups=96, bias=False)\n",
              "            (1): BatchNorm2d(96, eps=1e-05, momentum=0.1, affine=True, track_running_stats=True)\n",
              "            (2): SiLU(inplace=True)\n",
              "          )\n",
              "          (2): SqueezeExcitation(\n",
              "            (avgpool): AdaptiveAvgPool2d(output_size=1)\n",
              "            (fc1): Conv2d(96, 4, kernel_size=(1, 1), stride=(1, 1))\n",
              "            (fc2): Conv2d(4, 96, kernel_size=(1, 1), stride=(1, 1))\n",
              "            (activation): SiLU(inplace=True)\n",
              "            (scale_activation): Sigmoid()\n",
              "          )\n",
              "          (3): Conv2dNormActivation(\n",
              "            (0): Conv2d(96, 24, kernel_size=(1, 1), stride=(1, 1), bias=False)\n",
              "            (1): BatchNorm2d(24, eps=1e-05, momentum=0.1, affine=True, track_running_stats=True)\n",
              "          )\n",
              "        )\n",
              "        (stochastic_depth): StochasticDepth(p=0.0125, mode=row)\n",
              "      )\n",
              "      (1): MBConv(\n",
              "        (block): Sequential(\n",
              "          (0): Conv2dNormActivation(\n",
              "            (0): Conv2d(24, 144, kernel_size=(1, 1), stride=(1, 1), bias=False)\n",
              "            (1): BatchNorm2d(144, eps=1e-05, momentum=0.1, affine=True, track_running_stats=True)\n",
              "            (2): SiLU(inplace=True)\n",
              "          )\n",
              "          (1): Conv2dNormActivation(\n",
              "            (0): Conv2d(144, 144, kernel_size=(3, 3), stride=(1, 1), padding=(1, 1), groups=144, bias=False)\n",
              "            (1): BatchNorm2d(144, eps=1e-05, momentum=0.1, affine=True, track_running_stats=True)\n",
              "            (2): SiLU(inplace=True)\n",
              "          )\n",
              "          (2): SqueezeExcitation(\n",
              "            (avgpool): AdaptiveAvgPool2d(output_size=1)\n",
              "            (fc1): Conv2d(144, 6, kernel_size=(1, 1), stride=(1, 1))\n",
              "            (fc2): Conv2d(6, 144, kernel_size=(1, 1), stride=(1, 1))\n",
              "            (activation): SiLU(inplace=True)\n",
              "            (scale_activation): Sigmoid()\n",
              "          )\n",
              "          (3): Conv2dNormActivation(\n",
              "            (0): Conv2d(144, 24, kernel_size=(1, 1), stride=(1, 1), bias=False)\n",
              "            (1): BatchNorm2d(24, eps=1e-05, momentum=0.1, affine=True, track_running_stats=True)\n",
              "          )\n",
              "        )\n",
              "        (stochastic_depth): StochasticDepth(p=0.025, mode=row)\n",
              "      )\n",
              "    )\n",
              "    (3): Sequential(\n",
              "      (0): MBConv(\n",
              "        (block): Sequential(\n",
              "          (0): Conv2dNormActivation(\n",
              "            (0): Conv2d(24, 144, kernel_size=(1, 1), stride=(1, 1), bias=False)\n",
              "            (1): BatchNorm2d(144, eps=1e-05, momentum=0.1, affine=True, track_running_stats=True)\n",
              "            (2): SiLU(inplace=True)\n",
              "          )\n",
              "          (1): Conv2dNormActivation(\n",
              "            (0): Conv2d(144, 144, kernel_size=(5, 5), stride=(2, 2), padding=(2, 2), groups=144, bias=False)\n",
              "            (1): BatchNorm2d(144, eps=1e-05, momentum=0.1, affine=True, track_running_stats=True)\n",
              "            (2): SiLU(inplace=True)\n",
              "          )\n",
              "          (2): SqueezeExcitation(\n",
              "            (avgpool): AdaptiveAvgPool2d(output_size=1)\n",
              "            (fc1): Conv2d(144, 6, kernel_size=(1, 1), stride=(1, 1))\n",
              "            (fc2): Conv2d(6, 144, kernel_size=(1, 1), stride=(1, 1))\n",
              "            (activation): SiLU(inplace=True)\n",
              "            (scale_activation): Sigmoid()\n",
              "          )\n",
              "          (3): Conv2dNormActivation(\n",
              "            (0): Conv2d(144, 40, kernel_size=(1, 1), stride=(1, 1), bias=False)\n",
              "            (1): BatchNorm2d(40, eps=1e-05, momentum=0.1, affine=True, track_running_stats=True)\n",
              "          )\n",
              "        )\n",
              "        (stochastic_depth): StochasticDepth(p=0.037500000000000006, mode=row)\n",
              "      )\n",
              "      (1): MBConv(\n",
              "        (block): Sequential(\n",
              "          (0): Conv2dNormActivation(\n",
              "            (0): Conv2d(40, 240, kernel_size=(1, 1), stride=(1, 1), bias=False)\n",
              "            (1): BatchNorm2d(240, eps=1e-05, momentum=0.1, affine=True, track_running_stats=True)\n",
              "            (2): SiLU(inplace=True)\n",
              "          )\n",
              "          (1): Conv2dNormActivation(\n",
              "            (0): Conv2d(240, 240, kernel_size=(5, 5), stride=(1, 1), padding=(2, 2), groups=240, bias=False)\n",
              "            (1): BatchNorm2d(240, eps=1e-05, momentum=0.1, affine=True, track_running_stats=True)\n",
              "            (2): SiLU(inplace=True)\n",
              "          )\n",
              "          (2): SqueezeExcitation(\n",
              "            (avgpool): AdaptiveAvgPool2d(output_size=1)\n",
              "            (fc1): Conv2d(240, 10, kernel_size=(1, 1), stride=(1, 1))\n",
              "            (fc2): Conv2d(10, 240, kernel_size=(1, 1), stride=(1, 1))\n",
              "            (activation): SiLU(inplace=True)\n",
              "            (scale_activation): Sigmoid()\n",
              "          )\n",
              "          (3): Conv2dNormActivation(\n",
              "            (0): Conv2d(240, 40, kernel_size=(1, 1), stride=(1, 1), bias=False)\n",
              "            (1): BatchNorm2d(40, eps=1e-05, momentum=0.1, affine=True, track_running_stats=True)\n",
              "          )\n",
              "        )\n",
              "        (stochastic_depth): StochasticDepth(p=0.05, mode=row)\n",
              "      )\n",
              "    )\n",
              "    (4): Sequential(\n",
              "      (0): MBConv(\n",
              "        (block): Sequential(\n",
              "          (0): Conv2dNormActivation(\n",
              "            (0): Conv2d(40, 240, kernel_size=(1, 1), stride=(1, 1), bias=False)\n",
              "            (1): BatchNorm2d(240, eps=1e-05, momentum=0.1, affine=True, track_running_stats=True)\n",
              "            (2): SiLU(inplace=True)\n",
              "          )\n",
              "          (1): Conv2dNormActivation(\n",
              "            (0): Conv2d(240, 240, kernel_size=(3, 3), stride=(2, 2), padding=(1, 1), groups=240, bias=False)\n",
              "            (1): BatchNorm2d(240, eps=1e-05, momentum=0.1, affine=True, track_running_stats=True)\n",
              "            (2): SiLU(inplace=True)\n",
              "          )\n",
              "          (2): SqueezeExcitation(\n",
              "            (avgpool): AdaptiveAvgPool2d(output_size=1)\n",
              "            (fc1): Conv2d(240, 10, kernel_size=(1, 1), stride=(1, 1))\n",
              "            (fc2): Conv2d(10, 240, kernel_size=(1, 1), stride=(1, 1))\n",
              "            (activation): SiLU(inplace=True)\n",
              "            (scale_activation): Sigmoid()\n",
              "          )\n",
              "          (3): Conv2dNormActivation(\n",
              "            (0): Conv2d(240, 80, kernel_size=(1, 1), stride=(1, 1), bias=False)\n",
              "            (1): BatchNorm2d(80, eps=1e-05, momentum=0.1, affine=True, track_running_stats=True)\n",
              "          )\n",
              "        )\n",
              "        (stochastic_depth): StochasticDepth(p=0.0625, mode=row)\n",
              "      )\n",
              "      (1): MBConv(\n",
              "        (block): Sequential(\n",
              "          (0): Conv2dNormActivation(\n",
              "            (0): Conv2d(80, 480, kernel_size=(1, 1), stride=(1, 1), bias=False)\n",
              "            (1): BatchNorm2d(480, eps=1e-05, momentum=0.1, affine=True, track_running_stats=True)\n",
              "            (2): SiLU(inplace=True)\n",
              "          )\n",
              "          (1): Conv2dNormActivation(\n",
              "            (0): Conv2d(480, 480, kernel_size=(3, 3), stride=(1, 1), padding=(1, 1), groups=480, bias=False)\n",
              "            (1): BatchNorm2d(480, eps=1e-05, momentum=0.1, affine=True, track_running_stats=True)\n",
              "            (2): SiLU(inplace=True)\n",
              "          )\n",
              "          (2): SqueezeExcitation(\n",
              "            (avgpool): AdaptiveAvgPool2d(output_size=1)\n",
              "            (fc1): Conv2d(480, 20, kernel_size=(1, 1), stride=(1, 1))\n",
              "            (fc2): Conv2d(20, 480, kernel_size=(1, 1), stride=(1, 1))\n",
              "            (activation): SiLU(inplace=True)\n",
              "            (scale_activation): Sigmoid()\n",
              "          )\n",
              "          (3): Conv2dNormActivation(\n",
              "            (0): Conv2d(480, 80, kernel_size=(1, 1), stride=(1, 1), bias=False)\n",
              "            (1): BatchNorm2d(80, eps=1e-05, momentum=0.1, affine=True, track_running_stats=True)\n",
              "          )\n",
              "        )\n",
              "        (stochastic_depth): StochasticDepth(p=0.07500000000000001, mode=row)\n",
              "      )\n",
              "      (2): MBConv(\n",
              "        (block): Sequential(\n",
              "          (0): Conv2dNormActivation(\n",
              "            (0): Conv2d(80, 480, kernel_size=(1, 1), stride=(1, 1), bias=False)\n",
              "            (1): BatchNorm2d(480, eps=1e-05, momentum=0.1, affine=True, track_running_stats=True)\n",
              "            (2): SiLU(inplace=True)\n",
              "          )\n",
              "          (1): Conv2dNormActivation(\n",
              "            (0): Conv2d(480, 480, kernel_size=(3, 3), stride=(1, 1), padding=(1, 1), groups=480, bias=False)\n",
              "            (1): BatchNorm2d(480, eps=1e-05, momentum=0.1, affine=True, track_running_stats=True)\n",
              "            (2): SiLU(inplace=True)\n",
              "          )\n",
              "          (2): SqueezeExcitation(\n",
              "            (avgpool): AdaptiveAvgPool2d(output_size=1)\n",
              "            (fc1): Conv2d(480, 20, kernel_size=(1, 1), stride=(1, 1))\n",
              "            (fc2): Conv2d(20, 480, kernel_size=(1, 1), stride=(1, 1))\n",
              "            (activation): SiLU(inplace=True)\n",
              "            (scale_activation): Sigmoid()\n",
              "          )\n",
              "          (3): Conv2dNormActivation(\n",
              "            (0): Conv2d(480, 80, kernel_size=(1, 1), stride=(1, 1), bias=False)\n",
              "            (1): BatchNorm2d(80, eps=1e-05, momentum=0.1, affine=True, track_running_stats=True)\n",
              "          )\n",
              "        )\n",
              "        (stochastic_depth): StochasticDepth(p=0.08750000000000001, mode=row)\n",
              "      )\n",
              "    )\n",
              "    (5): Sequential(\n",
              "      (0): MBConv(\n",
              "        (block): Sequential(\n",
              "          (0): Conv2dNormActivation(\n",
              "            (0): Conv2d(80, 480, kernel_size=(1, 1), stride=(1, 1), bias=False)\n",
              "            (1): BatchNorm2d(480, eps=1e-05, momentum=0.1, affine=True, track_running_stats=True)\n",
              "            (2): SiLU(inplace=True)\n",
              "          )\n",
              "          (1): Conv2dNormActivation(\n",
              "            (0): Conv2d(480, 480, kernel_size=(5, 5), stride=(1, 1), padding=(2, 2), groups=480, bias=False)\n",
              "            (1): BatchNorm2d(480, eps=1e-05, momentum=0.1, affine=True, track_running_stats=True)\n",
              "            (2): SiLU(inplace=True)\n",
              "          )\n",
              "          (2): SqueezeExcitation(\n",
              "            (avgpool): AdaptiveAvgPool2d(output_size=1)\n",
              "            (fc1): Conv2d(480, 20, kernel_size=(1, 1), stride=(1, 1))\n",
              "            (fc2): Conv2d(20, 480, kernel_size=(1, 1), stride=(1, 1))\n",
              "            (activation): SiLU(inplace=True)\n",
              "            (scale_activation): Sigmoid()\n",
              "          )\n",
              "          (3): Conv2dNormActivation(\n",
              "            (0): Conv2d(480, 112, kernel_size=(1, 1), stride=(1, 1), bias=False)\n",
              "            (1): BatchNorm2d(112, eps=1e-05, momentum=0.1, affine=True, track_running_stats=True)\n",
              "          )\n",
              "        )\n",
              "        (stochastic_depth): StochasticDepth(p=0.1, mode=row)\n",
              "      )\n",
              "      (1): MBConv(\n",
              "        (block): Sequential(\n",
              "          (0): Conv2dNormActivation(\n",
              "            (0): Conv2d(112, 672, kernel_size=(1, 1), stride=(1, 1), bias=False)\n",
              "            (1): BatchNorm2d(672, eps=1e-05, momentum=0.1, affine=True, track_running_stats=True)\n",
              "            (2): SiLU(inplace=True)\n",
              "          )\n",
              "          (1): Conv2dNormActivation(\n",
              "            (0): Conv2d(672, 672, kernel_size=(5, 5), stride=(1, 1), padding=(2, 2), groups=672, bias=False)\n",
              "            (1): BatchNorm2d(672, eps=1e-05, momentum=0.1, affine=True, track_running_stats=True)\n",
              "            (2): SiLU(inplace=True)\n",
              "          )\n",
              "          (2): SqueezeExcitation(\n",
              "            (avgpool): AdaptiveAvgPool2d(output_size=1)\n",
              "            (fc1): Conv2d(672, 28, kernel_size=(1, 1), stride=(1, 1))\n",
              "            (fc2): Conv2d(28, 672, kernel_size=(1, 1), stride=(1, 1))\n",
              "            (activation): SiLU(inplace=True)\n",
              "            (scale_activation): Sigmoid()\n",
              "          )\n",
              "          (3): Conv2dNormActivation(\n",
              "            (0): Conv2d(672, 112, kernel_size=(1, 1), stride=(1, 1), bias=False)\n",
              "            (1): BatchNorm2d(112, eps=1e-05, momentum=0.1, affine=True, track_running_stats=True)\n",
              "          )\n",
              "        )\n",
              "        (stochastic_depth): StochasticDepth(p=0.1125, mode=row)\n",
              "      )\n",
              "      (2): MBConv(\n",
              "        (block): Sequential(\n",
              "          (0): Conv2dNormActivation(\n",
              "            (0): Conv2d(112, 672, kernel_size=(1, 1), stride=(1, 1), bias=False)\n",
              "            (1): BatchNorm2d(672, eps=1e-05, momentum=0.1, affine=True, track_running_stats=True)\n",
              "            (2): SiLU(inplace=True)\n",
              "          )\n",
              "          (1): Conv2dNormActivation(\n",
              "            (0): Conv2d(672, 672, kernel_size=(5, 5), stride=(1, 1), padding=(2, 2), groups=672, bias=False)\n",
              "            (1): BatchNorm2d(672, eps=1e-05, momentum=0.1, affine=True, track_running_stats=True)\n",
              "            (2): SiLU(inplace=True)\n",
              "          )\n",
              "          (2): SqueezeExcitation(\n",
              "            (avgpool): AdaptiveAvgPool2d(output_size=1)\n",
              "            (fc1): Conv2d(672, 28, kernel_size=(1, 1), stride=(1, 1))\n",
              "            (fc2): Conv2d(28, 672, kernel_size=(1, 1), stride=(1, 1))\n",
              "            (activation): SiLU(inplace=True)\n",
              "            (scale_activation): Sigmoid()\n",
              "          )\n",
              "          (3): Conv2dNormActivation(\n",
              "            (0): Conv2d(672, 112, kernel_size=(1, 1), stride=(1, 1), bias=False)\n",
              "            (1): BatchNorm2d(112, eps=1e-05, momentum=0.1, affine=True, track_running_stats=True)\n",
              "          )\n",
              "        )\n",
              "        (stochastic_depth): StochasticDepth(p=0.125, mode=row)\n",
              "      )\n",
              "    )\n",
              "    (6): Sequential(\n",
              "      (0): MBConv(\n",
              "        (block): Sequential(\n",
              "          (0): Conv2dNormActivation(\n",
              "            (0): Conv2d(112, 672, kernel_size=(1, 1), stride=(1, 1), bias=False)\n",
              "            (1): BatchNorm2d(672, eps=1e-05, momentum=0.1, affine=True, track_running_stats=True)\n",
              "            (2): SiLU(inplace=True)\n",
              "          )\n",
              "          (1): Conv2dNormActivation(\n",
              "            (0): Conv2d(672, 672, kernel_size=(5, 5), stride=(2, 2), padding=(2, 2), groups=672, bias=False)\n",
              "            (1): BatchNorm2d(672, eps=1e-05, momentum=0.1, affine=True, track_running_stats=True)\n",
              "            (2): SiLU(inplace=True)\n",
              "          )\n",
              "          (2): SqueezeExcitation(\n",
              "            (avgpool): AdaptiveAvgPool2d(output_size=1)\n",
              "            (fc1): Conv2d(672, 28, kernel_size=(1, 1), stride=(1, 1))\n",
              "            (fc2): Conv2d(28, 672, kernel_size=(1, 1), stride=(1, 1))\n",
              "            (activation): SiLU(inplace=True)\n",
              "            (scale_activation): Sigmoid()\n",
              "          )\n",
              "          (3): Conv2dNormActivation(\n",
              "            (0): Conv2d(672, 192, kernel_size=(1, 1), stride=(1, 1), bias=False)\n",
              "            (1): BatchNorm2d(192, eps=1e-05, momentum=0.1, affine=True, track_running_stats=True)\n",
              "          )\n",
              "        )\n",
              "        (stochastic_depth): StochasticDepth(p=0.1375, mode=row)\n",
              "      )\n",
              "      (1): MBConv(\n",
              "        (block): Sequential(\n",
              "          (0): Conv2dNormActivation(\n",
              "            (0): Conv2d(192, 1152, kernel_size=(1, 1), stride=(1, 1), bias=False)\n",
              "            (1): BatchNorm2d(1152, eps=1e-05, momentum=0.1, affine=True, track_running_stats=True)\n",
              "            (2): SiLU(inplace=True)\n",
              "          )\n",
              "          (1): Conv2dNormActivation(\n",
              "            (0): Conv2d(1152, 1152, kernel_size=(5, 5), stride=(1, 1), padding=(2, 2), groups=1152, bias=False)\n",
              "            (1): BatchNorm2d(1152, eps=1e-05, momentum=0.1, affine=True, track_running_stats=True)\n",
              "            (2): SiLU(inplace=True)\n",
              "          )\n",
              "          (2): SqueezeExcitation(\n",
              "            (avgpool): AdaptiveAvgPool2d(output_size=1)\n",
              "            (fc1): Conv2d(1152, 48, kernel_size=(1, 1), stride=(1, 1))\n",
              "            (fc2): Conv2d(48, 1152, kernel_size=(1, 1), stride=(1, 1))\n",
              "            (activation): SiLU(inplace=True)\n",
              "            (scale_activation): Sigmoid()\n",
              "          )\n",
              "          (3): Conv2dNormActivation(\n",
              "            (0): Conv2d(1152, 192, kernel_size=(1, 1), stride=(1, 1), bias=False)\n",
              "            (1): BatchNorm2d(192, eps=1e-05, momentum=0.1, affine=True, track_running_stats=True)\n",
              "          )\n",
              "        )\n",
              "        (stochastic_depth): StochasticDepth(p=0.15000000000000002, mode=row)\n",
              "      )\n",
              "      (2): MBConv(\n",
              "        (block): Sequential(\n",
              "          (0): Conv2dNormActivation(\n",
              "            (0): Conv2d(192, 1152, kernel_size=(1, 1), stride=(1, 1), bias=False)\n",
              "            (1): BatchNorm2d(1152, eps=1e-05, momentum=0.1, affine=True, track_running_stats=True)\n",
              "            (2): SiLU(inplace=True)\n",
              "          )\n",
              "          (1): Conv2dNormActivation(\n",
              "            (0): Conv2d(1152, 1152, kernel_size=(5, 5), stride=(1, 1), padding=(2, 2), groups=1152, bias=False)\n",
              "            (1): BatchNorm2d(1152, eps=1e-05, momentum=0.1, affine=True, track_running_stats=True)\n",
              "            (2): SiLU(inplace=True)\n",
              "          )\n",
              "          (2): SqueezeExcitation(\n",
              "            (avgpool): AdaptiveAvgPool2d(output_size=1)\n",
              "            (fc1): Conv2d(1152, 48, kernel_size=(1, 1), stride=(1, 1))\n",
              "            (fc2): Conv2d(48, 1152, kernel_size=(1, 1), stride=(1, 1))\n",
              "            (activation): SiLU(inplace=True)\n",
              "            (scale_activation): Sigmoid()\n",
              "          )\n",
              "          (3): Conv2dNormActivation(\n",
              "            (0): Conv2d(1152, 192, kernel_size=(1, 1), stride=(1, 1), bias=False)\n",
              "            (1): BatchNorm2d(192, eps=1e-05, momentum=0.1, affine=True, track_running_stats=True)\n",
              "          )\n",
              "        )\n",
              "        (stochastic_depth): StochasticDepth(p=0.1625, mode=row)\n",
              "      )\n",
              "      (3): MBConv(\n",
              "        (block): Sequential(\n",
              "          (0): Conv2dNormActivation(\n",
              "            (0): Conv2d(192, 1152, kernel_size=(1, 1), stride=(1, 1), bias=False)\n",
              "            (1): BatchNorm2d(1152, eps=1e-05, momentum=0.1, affine=True, track_running_stats=True)\n",
              "            (2): SiLU(inplace=True)\n",
              "          )\n",
              "          (1): Conv2dNormActivation(\n",
              "            (0): Conv2d(1152, 1152, kernel_size=(5, 5), stride=(1, 1), padding=(2, 2), groups=1152, bias=False)\n",
              "            (1): BatchNorm2d(1152, eps=1e-05, momentum=0.1, affine=True, track_running_stats=True)\n",
              "            (2): SiLU(inplace=True)\n",
              "          )\n",
              "          (2): SqueezeExcitation(\n",
              "            (avgpool): AdaptiveAvgPool2d(output_size=1)\n",
              "            (fc1): Conv2d(1152, 48, kernel_size=(1, 1), stride=(1, 1))\n",
              "            (fc2): Conv2d(48, 1152, kernel_size=(1, 1), stride=(1, 1))\n",
              "            (activation): SiLU(inplace=True)\n",
              "            (scale_activation): Sigmoid()\n",
              "          )\n",
              "          (3): Conv2dNormActivation(\n",
              "            (0): Conv2d(1152, 192, kernel_size=(1, 1), stride=(1, 1), bias=False)\n",
              "            (1): BatchNorm2d(192, eps=1e-05, momentum=0.1, affine=True, track_running_stats=True)\n",
              "          )\n",
              "        )\n",
              "        (stochastic_depth): StochasticDepth(p=0.17500000000000002, mode=row)\n",
              "      )\n",
              "    )\n",
              "    (7): Sequential(\n",
              "      (0): MBConv(\n",
              "        (block): Sequential(\n",
              "          (0): Conv2dNormActivation(\n",
              "            (0): Conv2d(192, 1152, kernel_size=(1, 1), stride=(1, 1), bias=False)\n",
              "            (1): BatchNorm2d(1152, eps=1e-05, momentum=0.1, affine=True, track_running_stats=True)\n",
              "            (2): SiLU(inplace=True)\n",
              "          )\n",
              "          (1): Conv2dNormActivation(\n",
              "            (0): Conv2d(1152, 1152, kernel_size=(3, 3), stride=(1, 1), padding=(1, 1), groups=1152, bias=False)\n",
              "            (1): BatchNorm2d(1152, eps=1e-05, momentum=0.1, affine=True, track_running_stats=True)\n",
              "            (2): SiLU(inplace=True)\n",
              "          )\n",
              "          (2): SqueezeExcitation(\n",
              "            (avgpool): AdaptiveAvgPool2d(output_size=1)\n",
              "            (fc1): Conv2d(1152, 48, kernel_size=(1, 1), stride=(1, 1))\n",
              "            (fc2): Conv2d(48, 1152, kernel_size=(1, 1), stride=(1, 1))\n",
              "            (activation): SiLU(inplace=True)\n",
              "            (scale_activation): Sigmoid()\n",
              "          )\n",
              "          (3): Conv2dNormActivation(\n",
              "            (0): Conv2d(1152, 320, kernel_size=(1, 1), stride=(1, 1), bias=False)\n",
              "            (1): BatchNorm2d(320, eps=1e-05, momentum=0.1, affine=True, track_running_stats=True)\n",
              "          )\n",
              "        )\n",
              "        (stochastic_depth): StochasticDepth(p=0.1875, mode=row)\n",
              "      )\n",
              "    )\n",
              "    (8): Conv2dNormActivation(\n",
              "      (0): Conv2d(320, 1280, kernel_size=(1, 1), stride=(1, 1), bias=False)\n",
              "      (1): BatchNorm2d(1280, eps=1e-05, momentum=0.1, affine=True, track_running_stats=True)\n",
              "      (2): SiLU(inplace=True)\n",
              "    )\n",
              "  )\n",
              "  (avgpool): AdaptiveAvgPool2d(output_size=1)\n",
              "  (classifier): Sequential(\n",
              "    (0): Dropout(p=0.2, inplace=True)\n",
              "    (1): Linear(in_features=1280, out_features=23, bias=True)\n",
              "  )\n",
              ")"
            ]
          },
          "execution_count": 47,
          "metadata": {},
          "output_type": "execute_result"
        }
      ],
      "source": [
        "import torch\n",
        "import torchvision.models as models\n",
        "from torch import nn\n",
        "# import \"./efficientnetb0_model_ValAcc_44_______direction_good.pth\" as weights\n",
        "\n",
        "model = torch.load(\"models/efficientnetb0_model_ValAcc_44_______direction_good.pth\", weights_only=False, map_location=torch.device('cpu'))\n",
        "model"
      ]
    },
    {
      "cell_type": "code",
      "execution_count": 48,
      "metadata": {
        "colab": {
          "base_uri": "https://localhost:8080/"
        },
        "id": "Bhaoyuu5o89q",
        "outputId": "e552d396-d7f3-426a-f94e-61b94473f9a7"
      },
      "outputs": [
        {
          "data": {
            "text/plain": [
              "ResNet(\n",
              "  (conv1): Conv2d(3, 64, kernel_size=(7, 7), stride=(2, 2), padding=(3, 3), bias=False)\n",
              "  (bn1): BatchNorm2d(64, eps=1e-05, momentum=0.1, affine=True, track_running_stats=True)\n",
              "  (relu): ReLU(inplace=True)\n",
              "  (maxpool): MaxPool2d(kernel_size=3, stride=2, padding=1, dilation=1, ceil_mode=False)\n",
              "  (layer1): Sequential(\n",
              "    (0): BasicBlock(\n",
              "      (conv1): Conv2d(64, 64, kernel_size=(3, 3), stride=(1, 1), padding=(1, 1), bias=False)\n",
              "      (bn1): BatchNorm2d(64, eps=1e-05, momentum=0.1, affine=True, track_running_stats=True)\n",
              "      (relu): ReLU(inplace=True)\n",
              "      (conv2): Conv2d(64, 64, kernel_size=(3, 3), stride=(1, 1), padding=(1, 1), bias=False)\n",
              "      (bn2): BatchNorm2d(64, eps=1e-05, momentum=0.1, affine=True, track_running_stats=True)\n",
              "    )\n",
              "    (1): BasicBlock(\n",
              "      (conv1): Conv2d(64, 64, kernel_size=(3, 3), stride=(1, 1), padding=(1, 1), bias=False)\n",
              "      (bn1): BatchNorm2d(64, eps=1e-05, momentum=0.1, affine=True, track_running_stats=True)\n",
              "      (relu): ReLU(inplace=True)\n",
              "      (conv2): Conv2d(64, 64, kernel_size=(3, 3), stride=(1, 1), padding=(1, 1), bias=False)\n",
              "      (bn2): BatchNorm2d(64, eps=1e-05, momentum=0.1, affine=True, track_running_stats=True)\n",
              "    )\n",
              "    (2): BasicBlock(\n",
              "      (conv1): Conv2d(64, 64, kernel_size=(3, 3), stride=(1, 1), padding=(1, 1), bias=False)\n",
              "      (bn1): BatchNorm2d(64, eps=1e-05, momentum=0.1, affine=True, track_running_stats=True)\n",
              "      (relu): ReLU(inplace=True)\n",
              "      (conv2): Conv2d(64, 64, kernel_size=(3, 3), stride=(1, 1), padding=(1, 1), bias=False)\n",
              "      (bn2): BatchNorm2d(64, eps=1e-05, momentum=0.1, affine=True, track_running_stats=True)\n",
              "    )\n",
              "  )\n",
              "  (layer2): Sequential(\n",
              "    (0): BasicBlock(\n",
              "      (conv1): Conv2d(64, 128, kernel_size=(3, 3), stride=(2, 2), padding=(1, 1), bias=False)\n",
              "      (bn1): BatchNorm2d(128, eps=1e-05, momentum=0.1, affine=True, track_running_stats=True)\n",
              "      (relu): ReLU(inplace=True)\n",
              "      (conv2): Conv2d(128, 128, kernel_size=(3, 3), stride=(1, 1), padding=(1, 1), bias=False)\n",
              "      (bn2): BatchNorm2d(128, eps=1e-05, momentum=0.1, affine=True, track_running_stats=True)\n",
              "      (downsample): Sequential(\n",
              "        (0): Conv2d(64, 128, kernel_size=(1, 1), stride=(2, 2), bias=False)\n",
              "        (1): BatchNorm2d(128, eps=1e-05, momentum=0.1, affine=True, track_running_stats=True)\n",
              "      )\n",
              "    )\n",
              "    (1): BasicBlock(\n",
              "      (conv1): Conv2d(128, 128, kernel_size=(3, 3), stride=(1, 1), padding=(1, 1), bias=False)\n",
              "      (bn1): BatchNorm2d(128, eps=1e-05, momentum=0.1, affine=True, track_running_stats=True)\n",
              "      (relu): ReLU(inplace=True)\n",
              "      (conv2): Conv2d(128, 128, kernel_size=(3, 3), stride=(1, 1), padding=(1, 1), bias=False)\n",
              "      (bn2): BatchNorm2d(128, eps=1e-05, momentum=0.1, affine=True, track_running_stats=True)\n",
              "    )\n",
              "    (2): BasicBlock(\n",
              "      (conv1): Conv2d(128, 128, kernel_size=(3, 3), stride=(1, 1), padding=(1, 1), bias=False)\n",
              "      (bn1): BatchNorm2d(128, eps=1e-05, momentum=0.1, affine=True, track_running_stats=True)\n",
              "      (relu): ReLU(inplace=True)\n",
              "      (conv2): Conv2d(128, 128, kernel_size=(3, 3), stride=(1, 1), padding=(1, 1), bias=False)\n",
              "      (bn2): BatchNorm2d(128, eps=1e-05, momentum=0.1, affine=True, track_running_stats=True)\n",
              "    )\n",
              "    (3): BasicBlock(\n",
              "      (conv1): Conv2d(128, 128, kernel_size=(3, 3), stride=(1, 1), padding=(1, 1), bias=False)\n",
              "      (bn1): BatchNorm2d(128, eps=1e-05, momentum=0.1, affine=True, track_running_stats=True)\n",
              "      (relu): ReLU(inplace=True)\n",
              "      (conv2): Conv2d(128, 128, kernel_size=(3, 3), stride=(1, 1), padding=(1, 1), bias=False)\n",
              "      (bn2): BatchNorm2d(128, eps=1e-05, momentum=0.1, affine=True, track_running_stats=True)\n",
              "    )\n",
              "  )\n",
              "  (layer3): Sequential(\n",
              "    (0): BasicBlock(\n",
              "      (conv1): Conv2d(128, 256, kernel_size=(3, 3), stride=(2, 2), padding=(1, 1), bias=False)\n",
              "      (bn1): BatchNorm2d(256, eps=1e-05, momentum=0.1, affine=True, track_running_stats=True)\n",
              "      (relu): ReLU(inplace=True)\n",
              "      (conv2): Conv2d(256, 256, kernel_size=(3, 3), stride=(1, 1), padding=(1, 1), bias=False)\n",
              "      (bn2): BatchNorm2d(256, eps=1e-05, momentum=0.1, affine=True, track_running_stats=True)\n",
              "      (downsample): Sequential(\n",
              "        (0): Conv2d(128, 256, kernel_size=(1, 1), stride=(2, 2), bias=False)\n",
              "        (1): BatchNorm2d(256, eps=1e-05, momentum=0.1, affine=True, track_running_stats=True)\n",
              "      )\n",
              "    )\n",
              "    (1): BasicBlock(\n",
              "      (conv1): Conv2d(256, 256, kernel_size=(3, 3), stride=(1, 1), padding=(1, 1), bias=False)\n",
              "      (bn1): BatchNorm2d(256, eps=1e-05, momentum=0.1, affine=True, track_running_stats=True)\n",
              "      (relu): ReLU(inplace=True)\n",
              "      (conv2): Conv2d(256, 256, kernel_size=(3, 3), stride=(1, 1), padding=(1, 1), bias=False)\n",
              "      (bn2): BatchNorm2d(256, eps=1e-05, momentum=0.1, affine=True, track_running_stats=True)\n",
              "    )\n",
              "    (2): BasicBlock(\n",
              "      (conv1): Conv2d(256, 256, kernel_size=(3, 3), stride=(1, 1), padding=(1, 1), bias=False)\n",
              "      (bn1): BatchNorm2d(256, eps=1e-05, momentum=0.1, affine=True, track_running_stats=True)\n",
              "      (relu): ReLU(inplace=True)\n",
              "      (conv2): Conv2d(256, 256, kernel_size=(3, 3), stride=(1, 1), padding=(1, 1), bias=False)\n",
              "      (bn2): BatchNorm2d(256, eps=1e-05, momentum=0.1, affine=True, track_running_stats=True)\n",
              "    )\n",
              "    (3): BasicBlock(\n",
              "      (conv1): Conv2d(256, 256, kernel_size=(3, 3), stride=(1, 1), padding=(1, 1), bias=False)\n",
              "      (bn1): BatchNorm2d(256, eps=1e-05, momentum=0.1, affine=True, track_running_stats=True)\n",
              "      (relu): ReLU(inplace=True)\n",
              "      (conv2): Conv2d(256, 256, kernel_size=(3, 3), stride=(1, 1), padding=(1, 1), bias=False)\n",
              "      (bn2): BatchNorm2d(256, eps=1e-05, momentum=0.1, affine=True, track_running_stats=True)\n",
              "    )\n",
              "    (4): BasicBlock(\n",
              "      (conv1): Conv2d(256, 256, kernel_size=(3, 3), stride=(1, 1), padding=(1, 1), bias=False)\n",
              "      (bn1): BatchNorm2d(256, eps=1e-05, momentum=0.1, affine=True, track_running_stats=True)\n",
              "      (relu): ReLU(inplace=True)\n",
              "      (conv2): Conv2d(256, 256, kernel_size=(3, 3), stride=(1, 1), padding=(1, 1), bias=False)\n",
              "      (bn2): BatchNorm2d(256, eps=1e-05, momentum=0.1, affine=True, track_running_stats=True)\n",
              "    )\n",
              "    (5): BasicBlock(\n",
              "      (conv1): Conv2d(256, 256, kernel_size=(3, 3), stride=(1, 1), padding=(1, 1), bias=False)\n",
              "      (bn1): BatchNorm2d(256, eps=1e-05, momentum=0.1, affine=True, track_running_stats=True)\n",
              "      (relu): ReLU(inplace=True)\n",
              "      (conv2): Conv2d(256, 256, kernel_size=(3, 3), stride=(1, 1), padding=(1, 1), bias=False)\n",
              "      (bn2): BatchNorm2d(256, eps=1e-05, momentum=0.1, affine=True, track_running_stats=True)\n",
              "    )\n",
              "  )\n",
              "  (layer4): Sequential(\n",
              "    (0): BasicBlock(\n",
              "      (conv1): Conv2d(256, 512, kernel_size=(3, 3), stride=(2, 2), padding=(1, 1), bias=False)\n",
              "      (bn1): BatchNorm2d(512, eps=1e-05, momentum=0.1, affine=True, track_running_stats=True)\n",
              "      (relu): ReLU(inplace=True)\n",
              "      (conv2): Conv2d(512, 512, kernel_size=(3, 3), stride=(1, 1), padding=(1, 1), bias=False)\n",
              "      (bn2): BatchNorm2d(512, eps=1e-05, momentum=0.1, affine=True, track_running_stats=True)\n",
              "      (downsample): Sequential(\n",
              "        (0): Conv2d(256, 512, kernel_size=(1, 1), stride=(2, 2), bias=False)\n",
              "        (1): BatchNorm2d(512, eps=1e-05, momentum=0.1, affine=True, track_running_stats=True)\n",
              "      )\n",
              "    )\n",
              "    (1): BasicBlock(\n",
              "      (conv1): Conv2d(512, 512, kernel_size=(3, 3), stride=(1, 1), padding=(1, 1), bias=False)\n",
              "      (bn1): BatchNorm2d(512, eps=1e-05, momentum=0.1, affine=True, track_running_stats=True)\n",
              "      (relu): ReLU(inplace=True)\n",
              "      (conv2): Conv2d(512, 512, kernel_size=(3, 3), stride=(1, 1), padding=(1, 1), bias=False)\n",
              "      (bn2): BatchNorm2d(512, eps=1e-05, momentum=0.1, affine=True, track_running_stats=True)\n",
              "    )\n",
              "    (2): BasicBlock(\n",
              "      (conv1): Conv2d(512, 512, kernel_size=(3, 3), stride=(1, 1), padding=(1, 1), bias=False)\n",
              "      (bn1): BatchNorm2d(512, eps=1e-05, momentum=0.1, affine=True, track_running_stats=True)\n",
              "      (relu): ReLU(inplace=True)\n",
              "      (conv2): Conv2d(512, 512, kernel_size=(3, 3), stride=(1, 1), padding=(1, 1), bias=False)\n",
              "      (bn2): BatchNorm2d(512, eps=1e-05, momentum=0.1, affine=True, track_running_stats=True)\n",
              "    )\n",
              "  )\n",
              "  (avgpool): AdaptiveAvgPool2d(output_size=(1, 1))\n",
              "  (fc): Sequential(\n",
              "    (0): Dropout(p=0.5, inplace=False)\n",
              "    (1): Linear(in_features=512, out_features=3, bias=True)\n",
              "  )\n",
              ")"
            ]
          },
          "execution_count": 48,
          "metadata": {},
          "output_type": "execute_result"
        }
      ],
      "source": [
        "import torch\n",
        "from torch import nn\n",
        "from torchvision.models import resnet34, ResNet34_Weights\n",
        "\n",
        "model_1 = resnet34(weights=ResNet34_Weights.DEFAULT)\n",
        "\n",
        "model_1.fc = nn.Sequential(\n",
        "    nn.Dropout(p=0.5),\n",
        "    nn.Linear(in_features=512, out_features=num_classes, bias=True)\n",
        ")\n",
        "\n",
        "# Freeze all layers\n",
        "for param in model_1.parameters():\n",
        "  param.requires_grad = False\n",
        "\n",
        "for param in model_1.fc.parameters():\n",
        "  param.requires_grad = True\n",
        "\n",
        "model_1"
      ]
    },
    {
      "cell_type": "code",
      "execution_count": 66,
      "metadata": {},
      "outputs": [],
      "source": [
        "from torchvision.models import efficientnet_b0, EfficientNet_B0_Weights\n",
        "\n",
        "model_2 = efficientnet_b0(weights=EfficientNet_B0_Weights.DEFAULT)\n",
        "\n",
        "model_2.classifier = nn.Sequential(\n",
        "    nn.Dropout(p=0.5, inplace=True),\n",
        "    nn.Linear(in_features=1280, out_features=num_classes, bias=True)\n",
        ")"
      ]
    },
    {
      "cell_type": "markdown",
      "metadata": {
        "id": "ZQByFrAeEEIK"
      },
      "source": [
        "## Custom Functions For Training & Testing\n"
      ]
    },
    {
      "cell_type": "code",
      "execution_count": 49,
      "metadata": {
        "execution": {
          "iopub.execute_input": "2025-03-13T01:39:43.707979Z",
          "iopub.status.busy": "2025-03-13T01:39:43.707441Z",
          "iopub.status.idle": "2025-03-13T01:39:43.728763Z",
          "shell.execute_reply": "2025-03-13T01:39:43.727450Z",
          "shell.execute_reply.started": "2025-03-13T01:39:43.707929Z"
        },
        "id": "EQAKd4hLEEIK",
        "trusted": true
      },
      "outputs": [],
      "source": [
        "from tqdm.auto import tqdm\n",
        "from timeit import default_timer as timer\n",
        "\n",
        "def train_step(model: nn.Module,\n",
        "               dataloader,\n",
        "               loss_fn,\n",
        "               optimizer,\n",
        "               acc_fn,\n",
        "               device):\n",
        "\n",
        "    \"\"\"\n",
        "    Function to train our model with clearly set hyperparameters\n",
        "    \"\"\"\n",
        "\n",
        "    train_acc, train_loss = 0,0\n",
        "\n",
        "    for batch, (X,y) in enumerate(dataloader):\n",
        "        model.train().to(device)\n",
        "        X, y = X.to(device), y.to(device)\n",
        "        logits = model(X).to(device)\n",
        "\n",
        "        y=y.to(torch.int64).to(device)\n",
        "\n",
        "        loss = loss_fn(logits, y)\n",
        "        acc = acc_fn(preds=logits.argmax(dim=1), target=y)\n",
        "\n",
        "        train_loss += loss.item()\n",
        "        train_acc += acc\n",
        "\n",
        "        optimizer.zero_grad()\n",
        "\n",
        "        loss.backward()\n",
        "\n",
        "        optimizer.step()\n",
        "\n",
        "        if batch % 2 == 0:\n",
        "            print(f\"Went through {batch} batches\")\n",
        "            print(f\"|| Train_Accuracy: {acc:.3f} & Train_Loss: {loss:.3f} ||\")\n",
        "\n",
        "    train_loss /= len(train_dataloader)\n",
        "    train_acc /= len(train_dataloader)\n",
        "    print(f\"|| Train_Accuracy: {train_acc:.3f} & Train_Loss: {train_loss:.3f} ||\")\n",
        "    print(\"Training for current epoch completed successfully.\")\n",
        "    return train_acc, train_loss\n",
        "\n",
        "def test_step(model: nn.Module,\n",
        "             dataloader,\n",
        "             loss_fn,\n",
        "             acc_fn,\n",
        "             device):\n",
        "\n",
        "    \"\"\"\n",
        "    Function to test our model with clearly set hyperparameters\n",
        "    \"\"\"\n",
        "\n",
        "    test_acc, test_loss = 0,0\n",
        "\n",
        "    for batch, (X,y) in enumerate(dataloader):\n",
        "        model.eval()\n",
        "        X, y = X.to(device), y.to(device)\n",
        "        with torch.inference_mode():\n",
        "            logits = model(X).to(device)\n",
        "\n",
        "            y=y.to(torch.int64)\n",
        "\n",
        "            loss = loss_fn(logits, y)\n",
        "            acc = acc_fn(preds=logits.argmax(dim=1), target=y)\n",
        "\n",
        "            test_loss += loss.item()\n",
        "            test_acc += acc\n",
        "\n",
        "            if batch % 2 == 0:\n",
        "                print(f\"Went through {batch} batches\")\n",
        "                print(f\"|| Test_Acc: {acc:.3f} & Test_Loss: {loss:.3f} ||\")\n",
        "\n",
        "    test_loss /= len(test_dataloader)\n",
        "    test_acc /= len(test_dataloader)\n",
        "\n",
        "    print(f\"|| Test_Accuracy: {test_acc:.3f} & Test_Loss: {test_loss:.3f} ||\")\n",
        "    print(\"Testing for current epoch completed successfully.\")\n",
        "    return test_acc, test_loss\n",
        "\n",
        "def train(model: nn.Module,\n",
        "        train_dataloader,\n",
        "        test_dataloader,\n",
        "        loss_fn,\n",
        "        optimizer,\n",
        "        acc_fn,\n",
        "        device,\n",
        "        epochs: int):\n",
        "    \"\"\"\n",
        "    Function to train the model for a specified number of epochs\n",
        "    \"\"\"\n",
        "\n",
        "    results = {\n",
        "        \"train_loss\": [],\n",
        "        \"train_acc\": [],\n",
        "        \"test_loss\": [],\n",
        "        \"test_acc\": []\n",
        "    }\n",
        "\n",
        "    EPOCHS = epochs\n",
        "\n",
        "    for epoch in tqdm(range(EPOCHS)):\n",
        "      start= timer()\n",
        "      print(f\"\\n\\nStarting Epoch: {epoch}-----------------------------\")\n",
        "      train_acc, train_loss = train_step(model, train_dataloader, loss_fn, optimizer, acc_fn, device)\n",
        "      test_acc, test_loss = test_step(model, test_dataloader, loss_fn, acc_fn, device)\n",
        "      print(f\"\\nEnding Epoch: {epoch}-----------------------------\")\n",
        "      results[\"train_loss\"].append(train_loss)\n",
        "      results[\"train_acc\"].append(train_acc)\n",
        "      results[\"test_loss\"].append(test_loss)\n",
        "      results[\"test_acc\"].append(test_acc)\n",
        "      end= timer()\n",
        "      print(f\"Time Taken For Current Epoch: {end-start:.2f} seconds\")\n",
        "    return results"
      ]
    },
    {
      "cell_type": "code",
      "execution_count": 50,
      "metadata": {
        "execution": {
          "iopub.execute_input": "2025-03-13T01:39:44.829851Z",
          "iopub.status.busy": "2025-03-13T01:39:44.829371Z",
          "iopub.status.idle": "2025-03-13T01:39:44.838186Z",
          "shell.execute_reply": "2025-03-13T01:39:44.836865Z",
          "shell.execute_reply.started": "2025-03-13T01:39:44.829799Z"
        },
        "id": "zw-g-Q3yEEIK",
        "trusted": true
      },
      "outputs": [],
      "source": [
        "loss_fn = nn.CrossEntropyLoss()\n",
        "optimizer = torch.optim.SGD(model.parameters(),\n",
        "                            lr=0.01,\n",
        "                            momentum=0.9,\n",
        "                            weight_decay=0.0001)\n",
        "def acc_fn(target, preds):\n",
        "  \"\"\"\n",
        "  Calculates Accuracy.\n",
        "\n",
        "  Args:\n",
        "    target: The real data\n",
        "    preds: Processed logits from the model\n",
        "  \"\"\"\n",
        "  correct = torch.eq(target, preds).sum().item()\n",
        "  acc = (correct/len(preds)) * 100\n",
        "  return acc"
      ]
    },
    {
      "cell_type": "markdown",
      "metadata": {
        "id": "Y5ePlBiVEEIL"
      },
      "source": [
        "## Training Loop\n"
      ]
    },
    {
      "cell_type": "code",
      "execution_count": 51,
      "metadata": {
        "execution": {
          "iopub.execute_input": "2025-03-13T02:04:08.959535Z",
          "iopub.status.busy": "2025-03-13T02:04:08.959114Z"
        },
        "id": "Ykct5tryEEIL",
        "trusted": true
      },
      "outputs": [],
      "source": [
        "# from timeit import default_timer as timer\n",
        "\n",
        "# start = timer()\n",
        "\n",
        "# EPOCHS = 10\n",
        "\n",
        "# model_0_results = train(model=model,\n",
        "#                         train_dataloader=train_dataloader,\n",
        "#                         test_dataloader=test_dataloader,\n",
        "#                         loss_fn=loss_fn,\n",
        "#                         optimizer=optimizer,\n",
        "#                         acc_fn=acc_fn,\n",
        "#                         device=device,\n",
        "#                         epochs=EPOCHS)\n",
        "\n",
        "# end = timer()\n",
        "\n",
        "# print(f\"Training Time: {end-start:.2f} seconds for {EPOCHS} epochs on {device}.\")"
      ]
    },
    {
      "cell_type": "code",
      "execution_count": 52,
      "metadata": {
        "colab": {
          "base_uri": "https://localhost:8080/"
        },
        "id": "WuoRpMhTEEIL",
        "outputId": "2eee24b8-7ed6-4d85-b196-22df428a0770",
        "trusted": true
      },
      "outputs": [],
      "source": [
        "# model_0_results"
      ]
    },
    {
      "cell_type": "code",
      "execution_count": 53,
      "metadata": {
        "id": "8Rsr3EUYEEIL"
      },
      "outputs": [],
      "source": [
        "from typing import Dict, List\n",
        "\n",
        "def plot_loss_curves(results: Dict[str, List[float]]):\n",
        "    \"\"\"Plots training curves of a results dictionary.\n",
        "\n",
        "    Args:\n",
        "        results (dict): dictionary containing list of values, e.g.\n",
        "            {\"train_loss\": [...],\n",
        "             \"train_acc\": [...],\n",
        "             \"test_loss\": [...],\n",
        "             \"test_acc\": [...]}\n",
        "    \"\"\"\n",
        "\n",
        "    # Get the loss values of the results dictionary (training and test)\n",
        "    loss = results['train_loss']\n",
        "    test_loss = results['test_loss']\n",
        "\n",
        "    # Get the accuracy values of the results dictionary (training and test)\n",
        "    accuracy = results['train_acc']\n",
        "    test_accuracy = results['test_acc']\n",
        "\n",
        "    # Figure out how many epochs there were\n",
        "    epochs = range(len(results['train_loss']))\n",
        "\n",
        "    # Setup a plot\n",
        "    plt.figure(figsize=(15, 7))\n",
        "\n",
        "    # Plot loss\n",
        "    plt.subplot(1, 2, 1)\n",
        "    plt.plot(epochs, loss, label='train_loss')\n",
        "    plt.plot(epochs, test_loss, label='test_loss')\n",
        "    plt.title('Loss')\n",
        "    plt.xlabel('Epochs')\n",
        "    plt.legend()\n",
        "\n",
        "    # Plot accuracy\n",
        "    plt.subplot(1, 2, 2)\n",
        "    plt.plot(epochs, accuracy, label='train_accuracy')\n",
        "    plt.plot(epochs, test_accuracy, label='test_accuracy')\n",
        "    plt.title('Accuracy')\n",
        "    plt.xlabel('Epochs')\n",
        "    plt.legend();"
      ]
    },
    {
      "cell_type": "code",
      "execution_count": 54,
      "metadata": {
        "colab": {
          "base_uri": "https://localhost:8080/",
          "height": 641
        },
        "id": "9E3rau1eEEIM",
        "outputId": "14d0eb7a-a61f-448a-f5c6-c73f09c3d14b"
      },
      "outputs": [],
      "source": [
        "# plot_loss_curves(model_0_results)"
      ]
    },
    {
      "cell_type": "code",
      "execution_count": 55,
      "metadata": {
        "colab": {
          "base_uri": "https://localhost:8080/"
        },
        "id": "Kvmb5xnhEEIM",
        "outputId": "f8195b57-914c-46a0-89e1-1b5c16a35faf"
      },
      "outputs": [
        {
          "name": "stdout",
          "output_type": "stream",
          "text": [
            "Save Success\n"
          ]
        }
      ],
      "source": [
        "from pathlib import Path\n",
        "\n",
        "model_path = Path(\"/models\")\n",
        "path = model_path / \"model.pth\"\n",
        "\n",
        "model_path.mkdir(\n",
        "    parents=True,\n",
        "    exist_ok=True\n",
        ")\n",
        "\n",
        "torch.save(obj=model,\n",
        "           f=path)\n",
        "\n",
        "print(\"Save Success\")"
      ]
    },
    {
      "cell_type": "code",
      "execution_count": 56,
      "metadata": {
        "id": "FEcDjWpCvRB1"
      },
      "outputs": [],
      "source": [
        "loss_fn = nn.CrossEntropyLoss()\n",
        "optimizer = torch.optim.SGD(model_1.parameters(),\n",
        "                            lr=1e-2,\n",
        "                            momentum=0.9,\n",
        "                            weight_decay=0.0001)\n",
        "def acc_fn(target, preds):\n",
        "  \"\"\"\n",
        "  Calculates Accuracy.\n",
        "\n",
        "  Args:\n",
        "    target: The real data\n",
        "    preds: Processed logits from the model\n",
        "  \"\"\"\n",
        "  correct = torch.eq(target, preds).sum().item()\n",
        "  acc = (correct/len(preds)) * 100\n",
        "  return acc"
      ]
    },
    {
      "cell_type": "code",
      "execution_count": 76,
      "metadata": {
        "colab": {
          "base_uri": "https://localhost:8080/",
          "height": 1000,
          "referenced_widgets": [
            "62bd2db4f9af430c87cabf87dd7a9f27",
            "38357380978e4364a9b8607b28346ee0",
            "97f08665130f42f98c26522270cc3344",
            "be6a0c6536134de680c54dfa742f3281",
            "4299b18c7bba48e1b8b677be30df19be",
            "e7f1d162dde74ed1ab994713b0bf0eba",
            "ef0b685f6ad1490994439ca54e80427e",
            "63ff61d13e38463fb128846aa6b5c181",
            "7e4e2ba358ad4bbcb2130a17141877f2",
            "34da56f9acee47d282286fa91f3eb41b",
            "ff84196b31614eb18b00a9eff96d9655"
          ]
        },
        "id": "2W-wVYegEEIM",
        "outputId": "450f3c6a-d1fd-417b-83dc-3a750bc0dc93"
      },
      "outputs": [
        {
          "name": "stderr",
          "output_type": "stream",
          "text": [
            "  0%|          | 0/120 [00:00<?, ?it/s]"
          ]
        },
        {
          "name": "stdout",
          "output_type": "stream",
          "text": [
            "\n",
            "\n",
            "Starting Epoch: 0-----------------------------\n",
            "Went through 0 batches\n",
            "|| Train_Accuracy: 74.000 & Train_Loss: 0.712 ||\n",
            "Went through 2 batches\n",
            "|| Train_Accuracy: 66.000 & Train_Loss: 0.846 ||\n",
            "Went through 4 batches\n",
            "|| Train_Accuracy: 82.000 & Train_Loss: 0.557 ||\n",
            "|| Train_Accuracy: 76.000 & Train_Loss: 0.720 ||\n",
            "Training for current epoch completed successfully.\n",
            "Went through 0 batches\n",
            "|| Test_Acc: 78.000 & Test_Loss: 0.930 ||\n"
          ]
        },
        {
          "name": "stderr",
          "output_type": "stream",
          "text": [
            "  1%|          | 1/120 [01:02<2:04:13, 62.64s/it]"
          ]
        },
        {
          "name": "stdout",
          "output_type": "stream",
          "text": [
            "|| Test_Accuracy: 71.000 & Test_Loss: 0.973 ||\n",
            "Testing for current epoch completed successfully.\n",
            "\n",
            "Ending Epoch: 0-----------------------------\n",
            "Time Taken For Current Epoch: 62.64 seconds\n",
            "\n",
            "\n",
            "Starting Epoch: 1-----------------------------\n",
            "Went through 0 batches\n",
            "|| Train_Accuracy: 66.000 & Train_Loss: 0.791 ||\n",
            "Went through 2 batches\n",
            "|| Train_Accuracy: 80.000 & Train_Loss: 0.600 ||\n",
            "Went through 4 batches\n",
            "|| Train_Accuracy: 80.000 & Train_Loss: 0.674 ||\n",
            "|| Train_Accuracy: 71.667 & Train_Loss: 0.829 ||\n",
            "Training for current epoch completed successfully.\n",
            "Went through 0 batches\n",
            "|| Test_Acc: 78.000 & Test_Loss: 0.913 ||\n"
          ]
        },
        {
          "name": "stderr",
          "output_type": "stream",
          "text": [
            "  2%|▏         | 2/120 [02:07<2:05:31, 63.82s/it]"
          ]
        },
        {
          "name": "stdout",
          "output_type": "stream",
          "text": [
            "|| Test_Accuracy: 71.000 & Test_Loss: 0.970 ||\n",
            "Testing for current epoch completed successfully.\n",
            "\n",
            "Ending Epoch: 1-----------------------------\n",
            "Time Taken For Current Epoch: 64.65 seconds\n",
            "\n",
            "\n",
            "Starting Epoch: 2-----------------------------\n",
            "Went through 0 batches\n",
            "|| Train_Accuracy: 80.000 & Train_Loss: 0.525 ||\n",
            "Went through 2 batches\n",
            "|| Train_Accuracy: 78.000 & Train_Loss: 0.642 ||\n",
            "Went through 4 batches\n",
            "|| Train_Accuracy: 60.000 & Train_Loss: 1.016 ||\n",
            "|| Train_Accuracy: 70.667 & Train_Loss: 0.761 ||\n",
            "Training for current epoch completed successfully.\n",
            "Went through 0 batches\n",
            "|| Test_Acc: 78.000 & Test_Loss: 0.896 ||\n"
          ]
        },
        {
          "name": "stderr",
          "output_type": "stream",
          "text": [
            "  2%|▎         | 3/120 [03:10<2:04:05, 63.64s/it]"
          ]
        },
        {
          "name": "stdout",
          "output_type": "stream",
          "text": [
            "|| Test_Accuracy: 71.000 & Test_Loss: 0.967 ||\n",
            "Testing for current epoch completed successfully.\n",
            "\n",
            "Ending Epoch: 2-----------------------------\n",
            "Time Taken For Current Epoch: 63.42 seconds\n",
            "\n",
            "\n",
            "Starting Epoch: 3-----------------------------\n",
            "Went through 0 batches\n",
            "|| Train_Accuracy: 80.000 & Train_Loss: 0.745 ||\n",
            "Went through 2 batches\n",
            "|| Train_Accuracy: 70.000 & Train_Loss: 0.662 ||\n",
            "Went through 4 batches\n",
            "|| Train_Accuracy: 68.000 & Train_Loss: 1.027 ||\n",
            "|| Train_Accuracy: 75.000 & Train_Loss: 0.765 ||\n",
            "Training for current epoch completed successfully.\n",
            "Went through 0 batches\n",
            "|| Test_Acc: 78.000 & Test_Loss: 0.898 ||\n"
          ]
        },
        {
          "name": "stderr",
          "output_type": "stream",
          "text": [
            "  3%|▎         | 4/120 [04:15<2:04:04, 64.18s/it]"
          ]
        },
        {
          "name": "stdout",
          "output_type": "stream",
          "text": [
            "|| Test_Accuracy: 71.000 & Test_Loss: 0.973 ||\n",
            "Testing for current epoch completed successfully.\n",
            "\n",
            "Ending Epoch: 3-----------------------------\n",
            "Time Taken For Current Epoch: 65.00 seconds\n",
            "\n",
            "\n",
            "Starting Epoch: 4-----------------------------\n",
            "Went through 0 batches\n",
            "|| Train_Accuracy: 68.000 & Train_Loss: 1.018 ||\n",
            "Went through 2 batches\n",
            "|| Train_Accuracy: 70.000 & Train_Loss: 0.586 ||\n",
            "Went through 4 batches\n",
            "|| Train_Accuracy: 70.000 & Train_Loss: 1.007 ||\n",
            "|| Train_Accuracy: 69.333 & Train_Loss: 0.870 ||\n",
            "Training for current epoch completed successfully.\n",
            "Went through 0 batches\n",
            "|| Test_Acc: 78.000 & Test_Loss: 0.890 ||\n"
          ]
        },
        {
          "name": "stderr",
          "output_type": "stream",
          "text": [
            "  4%|▍         | 5/120 [05:19<2:02:38, 63.99s/it]"
          ]
        },
        {
          "name": "stdout",
          "output_type": "stream",
          "text": [
            "|| Test_Accuracy: 71.000 & Test_Loss: 0.973 ||\n",
            "Testing for current epoch completed successfully.\n",
            "\n",
            "Ending Epoch: 4-----------------------------\n",
            "Time Taken For Current Epoch: 63.66 seconds\n",
            "\n",
            "\n",
            "Starting Epoch: 5-----------------------------\n",
            "Went through 0 batches\n",
            "|| Train_Accuracy: 72.000 & Train_Loss: 0.881 ||\n",
            "Went through 2 batches\n",
            "|| Train_Accuracy: 72.000 & Train_Loss: 0.771 ||\n",
            "Went through 4 batches\n",
            "|| Train_Accuracy: 74.000 & Train_Loss: 0.905 ||\n",
            "|| Train_Accuracy: 76.667 & Train_Loss: 0.803 ||\n",
            "Training for current epoch completed successfully.\n",
            "Went through 0 batches\n",
            "|| Test_Acc: 78.000 & Test_Loss: 0.884 ||\n"
          ]
        },
        {
          "name": "stderr",
          "output_type": "stream",
          "text": [
            "  5%|▌         | 6/120 [06:22<2:00:49, 63.59s/it]"
          ]
        },
        {
          "name": "stdout",
          "output_type": "stream",
          "text": [
            "|| Test_Accuracy: 71.000 & Test_Loss: 0.964 ||\n",
            "Testing for current epoch completed successfully.\n",
            "\n",
            "Ending Epoch: 5-----------------------------\n",
            "Time Taken For Current Epoch: 62.83 seconds\n",
            "\n",
            "\n",
            "Starting Epoch: 6-----------------------------\n",
            "Went through 0 batches\n",
            "|| Train_Accuracy: 76.000 & Train_Loss: 0.691 ||\n",
            "Went through 2 batches\n",
            "|| Train_Accuracy: 64.000 & Train_Loss: 1.199 ||\n",
            "Went through 4 batches\n",
            "|| Train_Accuracy: 74.000 & Train_Loss: 0.767 ||\n",
            "|| Train_Accuracy: 69.333 & Train_Loss: 0.915 ||\n",
            "Training for current epoch completed successfully.\n",
            "Went through 0 batches\n",
            "|| Test_Acc: 78.000 & Test_Loss: 0.872 ||\n"
          ]
        },
        {
          "name": "stderr",
          "output_type": "stream",
          "text": [
            "  6%|▌         | 7/120 [07:27<2:01:05, 64.29s/it]"
          ]
        },
        {
          "name": "stdout",
          "output_type": "stream",
          "text": [
            "|| Test_Accuracy: 71.000 & Test_Loss: 0.962 ||\n",
            "Testing for current epoch completed successfully.\n",
            "\n",
            "Ending Epoch: 6-----------------------------\n",
            "Time Taken For Current Epoch: 65.73 seconds\n",
            "\n",
            "\n",
            "Starting Epoch: 7-----------------------------\n",
            "Went through 0 batches\n",
            "|| Train_Accuracy: 70.000 & Train_Loss: 0.712 ||\n",
            "Went through 2 batches\n",
            "|| Train_Accuracy: 66.000 & Train_Loss: 0.856 ||\n",
            "Went through 4 batches\n",
            "|| Train_Accuracy: 62.000 & Train_Loss: 1.017 ||\n",
            "|| Train_Accuracy: 70.000 & Train_Loss: 0.831 ||\n",
            "Training for current epoch completed successfully.\n",
            "Went through 0 batches\n",
            "|| Test_Acc: 78.000 & Test_Loss: 0.879 ||\n"
          ]
        },
        {
          "name": "stderr",
          "output_type": "stream",
          "text": [
            "  7%|▋         | 8/120 [08:32<2:00:08, 64.36s/it]"
          ]
        },
        {
          "name": "stdout",
          "output_type": "stream",
          "text": [
            "|| Test_Accuracy: 71.000 & Test_Loss: 0.958 ||\n",
            "Testing for current epoch completed successfully.\n",
            "\n",
            "Ending Epoch: 7-----------------------------\n",
            "Time Taken For Current Epoch: 64.50 seconds\n",
            "\n",
            "\n",
            "Starting Epoch: 8-----------------------------\n",
            "Went through 0 batches\n",
            "|| Train_Accuracy: 76.000 & Train_Loss: 0.749 ||\n",
            "Went through 2 batches\n",
            "|| Train_Accuracy: 66.000 & Train_Loss: 0.840 ||\n",
            "Went through 4 batches\n",
            "|| Train_Accuracy: 72.000 & Train_Loss: 0.983 ||\n",
            "|| Train_Accuracy: 74.000 & Train_Loss: 0.768 ||\n",
            "Training for current epoch completed successfully.\n",
            "Went through 0 batches\n",
            "|| Test_Acc: 78.000 & Test_Loss: 0.880 ||\n"
          ]
        },
        {
          "name": "stderr",
          "output_type": "stream",
          "text": [
            "  8%|▊         | 9/120 [09:35<1:58:13, 63.90s/it]"
          ]
        },
        {
          "name": "stdout",
          "output_type": "stream",
          "text": [
            "|| Test_Accuracy: 71.000 & Test_Loss: 0.960 ||\n",
            "Testing for current epoch completed successfully.\n",
            "\n",
            "Ending Epoch: 8-----------------------------\n",
            "Time Taken For Current Epoch: 62.90 seconds\n",
            "\n",
            "\n",
            "Starting Epoch: 9-----------------------------\n",
            "Went through 0 batches\n",
            "|| Train_Accuracy: 78.000 & Train_Loss: 0.671 ||\n",
            "Went through 2 batches\n",
            "|| Train_Accuracy: 70.000 & Train_Loss: 0.669 ||\n",
            "Went through 4 batches\n",
            "|| Train_Accuracy: 68.000 & Train_Loss: 0.958 ||\n",
            "|| Train_Accuracy: 73.333 & Train_Loss: 0.838 ||\n",
            "Training for current epoch completed successfully.\n",
            "Went through 0 batches\n",
            "|| Test_Acc: 78.000 & Test_Loss: 0.901 ||\n"
          ]
        },
        {
          "name": "stderr",
          "output_type": "stream",
          "text": [
            "  8%|▊         | 10/120 [10:42<1:58:55, 64.86s/it]"
          ]
        },
        {
          "name": "stdout",
          "output_type": "stream",
          "text": [
            "|| Test_Accuracy: 73.000 & Test_Loss: 0.962 ||\n",
            "Testing for current epoch completed successfully.\n",
            "\n",
            "Ending Epoch: 9-----------------------------\n",
            "Time Taken For Current Epoch: 67.01 seconds\n",
            "\n",
            "\n",
            "Starting Epoch: 10-----------------------------\n",
            "Went through 0 batches\n",
            "|| Train_Accuracy: 72.000 & Train_Loss: 0.781 ||\n",
            "Went through 2 batches\n",
            "|| Train_Accuracy: 72.000 & Train_Loss: 0.911 ||\n",
            "Went through 4 batches\n",
            "|| Train_Accuracy: 72.000 & Train_Loss: 0.840 ||\n",
            "|| Train_Accuracy: 70.000 & Train_Loss: 0.930 ||\n",
            "Training for current epoch completed successfully.\n",
            "Went through 0 batches\n",
            "|| Test_Acc: 78.000 & Test_Loss: 0.908 ||\n"
          ]
        },
        {
          "name": "stderr",
          "output_type": "stream",
          "text": [
            "  9%|▉         | 11/120 [12:03<2:06:52, 69.84s/it]"
          ]
        },
        {
          "name": "stdout",
          "output_type": "stream",
          "text": [
            "|| Test_Accuracy: 71.000 & Test_Loss: 0.968 ||\n",
            "Testing for current epoch completed successfully.\n",
            "\n",
            "Ending Epoch: 10-----------------------------\n",
            "Time Taken For Current Epoch: 81.12 seconds\n",
            "\n",
            "\n",
            "Starting Epoch: 11-----------------------------\n",
            "Went through 0 batches\n",
            "|| Train_Accuracy: 68.000 & Train_Loss: 0.876 ||\n",
            "Went through 2 batches\n",
            "|| Train_Accuracy: 68.000 & Train_Loss: 0.859 ||\n",
            "Went through 4 batches\n",
            "|| Train_Accuracy: 68.000 & Train_Loss: 1.015 ||\n",
            "|| Train_Accuracy: 70.000 & Train_Loss: 0.911 ||\n",
            "Training for current epoch completed successfully.\n",
            "Went through 0 batches\n",
            "|| Test_Acc: 78.000 & Test_Loss: 0.916 ||\n"
          ]
        },
        {
          "name": "stderr",
          "output_type": "stream",
          "text": [
            " 10%|█         | 12/120 [13:20<2:09:31, 71.96s/it]"
          ]
        },
        {
          "name": "stdout",
          "output_type": "stream",
          "text": [
            "|| Test_Accuracy: 71.000 & Test_Loss: 0.974 ||\n",
            "Testing for current epoch completed successfully.\n",
            "\n",
            "Ending Epoch: 11-----------------------------\n",
            "Time Taken For Current Epoch: 76.80 seconds\n",
            "\n",
            "\n",
            "Starting Epoch: 12-----------------------------\n",
            "Went through 0 batches\n",
            "|| Train_Accuracy: 66.000 & Train_Loss: 1.096 ||\n",
            "Went through 2 batches\n",
            "|| Train_Accuracy: 78.000 & Train_Loss: 0.582 ||\n",
            "Went through 4 batches\n",
            "|| Train_Accuracy: 62.000 & Train_Loss: 0.921 ||\n",
            "|| Train_Accuracy: 71.000 & Train_Loss: 0.792 ||\n",
            "Training for current epoch completed successfully.\n",
            "Went through 0 batches\n",
            "|| Test_Acc: 78.000 & Test_Loss: 0.916 ||\n"
          ]
        },
        {
          "name": "stderr",
          "output_type": "stream",
          "text": [
            " 11%|█         | 13/120 [14:36<2:10:28, 73.17s/it]"
          ]
        },
        {
          "name": "stdout",
          "output_type": "stream",
          "text": [
            "|| Test_Accuracy: 71.000 & Test_Loss: 0.975 ||\n",
            "Testing for current epoch completed successfully.\n",
            "\n",
            "Ending Epoch: 12-----------------------------\n",
            "Time Taken For Current Epoch: 75.95 seconds\n",
            "\n",
            "\n",
            "Starting Epoch: 13-----------------------------\n",
            "Went through 0 batches\n",
            "|| Train_Accuracy: 76.000 & Train_Loss: 0.643 ||\n",
            "Went through 2 batches\n",
            "|| Train_Accuracy: 82.000 & Train_Loss: 0.718 ||\n",
            "Went through 4 batches\n",
            "|| Train_Accuracy: 72.000 & Train_Loss: 0.822 ||\n",
            "|| Train_Accuracy: 70.667 & Train_Loss: 0.870 ||\n",
            "Training for current epoch completed successfully.\n",
            "Went through 0 batches\n",
            "|| Test_Acc: 78.000 & Test_Loss: 0.906 ||\n"
          ]
        },
        {
          "name": "stderr",
          "output_type": "stream",
          "text": [
            " 12%|█▏        | 14/120 [15:58<2:14:09, 75.94s/it]"
          ]
        },
        {
          "name": "stdout",
          "output_type": "stream",
          "text": [
            "|| Test_Accuracy: 73.000 & Test_Loss: 0.966 ||\n",
            "Testing for current epoch completed successfully.\n",
            "\n",
            "Ending Epoch: 13-----------------------------\n",
            "Time Taken For Current Epoch: 82.36 seconds\n",
            "\n",
            "\n",
            "Starting Epoch: 14-----------------------------\n",
            "Went through 0 batches\n",
            "|| Train_Accuracy: 70.000 & Train_Loss: 0.773 ||\n",
            "Went through 2 batches\n",
            "|| Train_Accuracy: 78.000 & Train_Loss: 0.756 ||\n",
            "Went through 4 batches\n",
            "|| Train_Accuracy: 72.000 & Train_Loss: 0.724 ||\n",
            "|| Train_Accuracy: 73.000 & Train_Loss: 0.785 ||\n",
            "Training for current epoch completed successfully.\n",
            "Went through 0 batches\n",
            "|| Test_Acc: 78.000 & Test_Loss: 0.901 ||\n"
          ]
        },
        {
          "name": "stderr",
          "output_type": "stream",
          "text": [
            " 12%|█▎        | 15/120 [17:19<2:15:18, 77.32s/it]"
          ]
        },
        {
          "name": "stdout",
          "output_type": "stream",
          "text": [
            "|| Test_Accuracy: 71.000 & Test_Loss: 0.965 ||\n",
            "Testing for current epoch completed successfully.\n",
            "\n",
            "Ending Epoch: 14-----------------------------\n",
            "Time Taken For Current Epoch: 80.50 seconds\n",
            "\n",
            "\n",
            "Starting Epoch: 15-----------------------------\n",
            "Went through 0 batches\n",
            "|| Train_Accuracy: 76.000 & Train_Loss: 0.727 ||\n",
            "Went through 2 batches\n",
            "|| Train_Accuracy: 80.000 & Train_Loss: 0.771 ||\n",
            "Went through 4 batches\n",
            "|| Train_Accuracy: 70.000 & Train_Loss: 1.055 ||\n",
            "|| Train_Accuracy: 75.000 & Train_Loss: 0.887 ||\n",
            "Training for current epoch completed successfully.\n",
            "Went through 0 batches\n",
            "|| Test_Acc: 78.000 & Test_Loss: 0.897 ||\n"
          ]
        },
        {
          "name": "stderr",
          "output_type": "stream",
          "text": [
            " 13%|█▎        | 16/120 [18:38<2:15:21, 78.09s/it]"
          ]
        },
        {
          "name": "stdout",
          "output_type": "stream",
          "text": [
            "|| Test_Accuracy: 71.000 & Test_Loss: 0.966 ||\n",
            "Testing for current epoch completed successfully.\n",
            "\n",
            "Ending Epoch: 15-----------------------------\n",
            "Time Taken For Current Epoch: 79.89 seconds\n",
            "\n",
            "\n",
            "Starting Epoch: 16-----------------------------\n",
            "Went through 0 batches\n",
            "|| Train_Accuracy: 66.000 & Train_Loss: 1.076 ||\n",
            "Went through 2 batches\n",
            "|| Train_Accuracy: 70.000 & Train_Loss: 1.001 ||\n",
            "Went through 4 batches\n",
            "|| Train_Accuracy: 60.000 & Train_Loss: 1.342 ||\n",
            "|| Train_Accuracy: 71.000 & Train_Loss: 0.943 ||\n",
            "Training for current epoch completed successfully.\n",
            "Went through 0 batches\n",
            "|| Test_Acc: 78.000 & Test_Loss: 0.891 ||\n"
          ]
        },
        {
          "name": "stderr",
          "output_type": "stream",
          "text": [
            " 14%|█▍        | 17/120 [19:57<2:14:17, 78.23s/it]"
          ]
        },
        {
          "name": "stdout",
          "output_type": "stream",
          "text": [
            "|| Test_Accuracy: 71.000 & Test_Loss: 0.967 ||\n",
            "Testing for current epoch completed successfully.\n",
            "\n",
            "Ending Epoch: 16-----------------------------\n",
            "Time Taken For Current Epoch: 78.56 seconds\n",
            "\n",
            "\n",
            "Starting Epoch: 17-----------------------------\n",
            "Went through 0 batches\n",
            "|| Train_Accuracy: 70.000 & Train_Loss: 0.742 ||\n",
            "Went through 2 batches\n",
            "|| Train_Accuracy: 78.000 & Train_Loss: 0.686 ||\n",
            "Went through 4 batches\n",
            "|| Train_Accuracy: 72.000 & Train_Loss: 0.863 ||\n",
            "|| Train_Accuracy: 69.333 & Train_Loss: 0.916 ||\n",
            "Training for current epoch completed successfully.\n",
            "Went through 0 batches\n",
            "|| Test_Acc: 78.000 & Test_Loss: 0.900 ||\n"
          ]
        },
        {
          "name": "stderr",
          "output_type": "stream",
          "text": [
            " 15%|█▌        | 18/120 [21:19<2:14:41, 79.23s/it]"
          ]
        },
        {
          "name": "stdout",
          "output_type": "stream",
          "text": [
            "|| Test_Accuracy: 71.000 & Test_Loss: 0.970 ||\n",
            "Testing for current epoch completed successfully.\n",
            "\n",
            "Ending Epoch: 17-----------------------------\n",
            "Time Taken For Current Epoch: 81.55 seconds\n",
            "\n",
            "\n",
            "Starting Epoch: 18-----------------------------\n",
            "Went through 0 batches\n",
            "|| Train_Accuracy: 80.000 & Train_Loss: 0.930 ||\n",
            "Went through 2 batches\n",
            "|| Train_Accuracy: 74.000 & Train_Loss: 0.805 ||\n",
            "Went through 4 batches\n",
            "|| Train_Accuracy: 64.000 & Train_Loss: 1.030 ||\n",
            "|| Train_Accuracy: 74.000 & Train_Loss: 0.859 ||\n",
            "Training for current epoch completed successfully.\n",
            "Went through 0 batches\n",
            "|| Test_Acc: 78.000 & Test_Loss: 0.898 ||\n"
          ]
        },
        {
          "name": "stderr",
          "output_type": "stream",
          "text": [
            " 16%|█▌        | 19/120 [22:37<2:12:44, 78.86s/it]"
          ]
        },
        {
          "name": "stdout",
          "output_type": "stream",
          "text": [
            "|| Test_Accuracy: 71.000 & Test_Loss: 0.970 ||\n",
            "Testing for current epoch completed successfully.\n",
            "\n",
            "Ending Epoch: 18-----------------------------\n",
            "Time Taken For Current Epoch: 78.00 seconds\n",
            "\n",
            "\n",
            "Starting Epoch: 19-----------------------------\n",
            "Went through 0 batches\n",
            "|| Train_Accuracy: 78.000 & Train_Loss: 1.004 ||\n",
            "Went through 2 batches\n",
            "|| Train_Accuracy: 66.000 & Train_Loss: 0.775 ||\n",
            "Went through 4 batches\n",
            "|| Train_Accuracy: 72.000 & Train_Loss: 0.956 ||\n",
            "|| Train_Accuracy: 73.333 & Train_Loss: 0.804 ||\n",
            "Training for current epoch completed successfully.\n",
            "Went through 0 batches\n",
            "|| Test_Acc: 78.000 & Test_Loss: 0.911 ||\n"
          ]
        },
        {
          "name": "stderr",
          "output_type": "stream",
          "text": [
            " 17%|█▋        | 20/120 [23:46<2:06:42, 76.03s/it]"
          ]
        },
        {
          "name": "stdout",
          "output_type": "stream",
          "text": [
            "|| Test_Accuracy: 71.000 & Test_Loss: 0.980 ||\n",
            "Testing for current epoch completed successfully.\n",
            "\n",
            "Ending Epoch: 19-----------------------------\n",
            "Time Taken For Current Epoch: 69.42 seconds\n",
            "\n",
            "\n",
            "Starting Epoch: 20-----------------------------\n",
            "Went through 0 batches\n",
            "|| Train_Accuracy: 74.000 & Train_Loss: 0.684 ||\n",
            "Went through 2 batches\n",
            "|| Train_Accuracy: 72.000 & Train_Loss: 1.176 ||\n",
            "Went through 4 batches\n",
            "|| Train_Accuracy: 72.000 & Train_Loss: 0.834 ||\n",
            "|| Train_Accuracy: 74.667 & Train_Loss: 0.748 ||\n",
            "Training for current epoch completed successfully.\n",
            "Went through 0 batches\n",
            "|| Test_Acc: 78.000 & Test_Loss: 0.904 ||\n"
          ]
        },
        {
          "name": "stderr",
          "output_type": "stream",
          "text": [
            " 18%|█▊        | 21/120 [25:15<2:12:06, 80.07s/it]"
          ]
        },
        {
          "name": "stdout",
          "output_type": "stream",
          "text": [
            "|| Test_Accuracy: 71.000 & Test_Loss: 0.976 ||\n",
            "Testing for current epoch completed successfully.\n",
            "\n",
            "Ending Epoch: 20-----------------------------\n",
            "Time Taken For Current Epoch: 89.49 seconds\n",
            "\n",
            "\n",
            "Starting Epoch: 21-----------------------------\n",
            "Went through 0 batches\n",
            "|| Train_Accuracy: 84.000 & Train_Loss: 0.614 ||\n",
            "Went through 2 batches\n",
            "|| Train_Accuracy: 78.000 & Train_Loss: 0.662 ||\n",
            "Went through 4 batches\n",
            "|| Train_Accuracy: 78.000 & Train_Loss: 0.695 ||\n",
            "|| Train_Accuracy: 78.333 & Train_Loss: 0.732 ||\n",
            "Training for current epoch completed successfully.\n",
            "Went through 0 batches\n",
            "|| Test_Acc: 78.000 & Test_Loss: 0.908 ||\n"
          ]
        },
        {
          "name": "stderr",
          "output_type": "stream",
          "text": [
            " 18%|█▊        | 22/120 [26:35<2:10:40, 80.00s/it]"
          ]
        },
        {
          "name": "stdout",
          "output_type": "stream",
          "text": [
            "|| Test_Accuracy: 71.000 & Test_Loss: 0.977 ||\n",
            "Testing for current epoch completed successfully.\n",
            "\n",
            "Ending Epoch: 21-----------------------------\n",
            "Time Taken For Current Epoch: 79.84 seconds\n",
            "\n",
            "\n",
            "Starting Epoch: 22-----------------------------\n",
            "Went through 0 batches\n",
            "|| Train_Accuracy: 76.000 & Train_Loss: 1.016 ||\n",
            "Went through 2 batches\n",
            "|| Train_Accuracy: 74.000 & Train_Loss: 0.909 ||\n",
            "Went through 4 batches\n",
            "|| Train_Accuracy: 80.000 & Train_Loss: 0.754 ||\n",
            "|| Train_Accuracy: 75.000 & Train_Loss: 0.873 ||\n",
            "Training for current epoch completed successfully.\n",
            "Went through 0 batches\n",
            "|| Test_Acc: 78.000 & Test_Loss: 0.895 ||\n"
          ]
        },
        {
          "name": "stderr",
          "output_type": "stream",
          "text": [
            " 19%|█▉        | 23/120 [27:50<2:06:44, 78.40s/it]"
          ]
        },
        {
          "name": "stdout",
          "output_type": "stream",
          "text": [
            "|| Test_Accuracy: 71.000 & Test_Loss: 0.979 ||\n",
            "Testing for current epoch completed successfully.\n",
            "\n",
            "Ending Epoch: 22-----------------------------\n",
            "Time Taken For Current Epoch: 74.67 seconds\n",
            "\n",
            "\n",
            "Starting Epoch: 23-----------------------------\n",
            "Went through 0 batches\n",
            "|| Train_Accuracy: 72.000 & Train_Loss: 0.496 ||\n",
            "Went through 2 batches\n",
            "|| Train_Accuracy: 78.000 & Train_Loss: 0.480 ||\n",
            "Went through 4 batches\n",
            "|| Train_Accuracy: 80.000 & Train_Loss: 0.732 ||\n",
            "|| Train_Accuracy: 73.333 & Train_Loss: 0.795 ||\n",
            "Training for current epoch completed successfully.\n",
            "Went through 0 batches\n",
            "|| Test_Acc: 78.000 & Test_Loss: 0.895 ||\n"
          ]
        },
        {
          "name": "stderr",
          "output_type": "stream",
          "text": [
            " 20%|██        | 24/120 [29:03<2:02:38, 76.65s/it]"
          ]
        },
        {
          "name": "stdout",
          "output_type": "stream",
          "text": [
            "|| Test_Accuracy: 71.000 & Test_Loss: 0.975 ||\n",
            "Testing for current epoch completed successfully.\n",
            "\n",
            "Ending Epoch: 23-----------------------------\n",
            "Time Taken For Current Epoch: 72.56 seconds\n",
            "\n",
            "\n",
            "Starting Epoch: 24-----------------------------\n",
            "Went through 0 batches\n",
            "|| Train_Accuracy: 70.000 & Train_Loss: 0.852 ||\n",
            "Went through 2 batches\n",
            "|| Train_Accuracy: 74.000 & Train_Loss: 0.740 ||\n",
            "Went through 4 batches\n",
            "|| Train_Accuracy: 74.000 & Train_Loss: 0.951 ||\n",
            "|| Train_Accuracy: 72.333 & Train_Loss: 0.835 ||\n",
            "Training for current epoch completed successfully.\n",
            "Went through 0 batches\n",
            "|| Test_Acc: 78.000 & Test_Loss: 0.893 ||\n"
          ]
        },
        {
          "name": "stderr",
          "output_type": "stream",
          "text": [
            " 21%|██        | 25/120 [30:13<1:58:20, 74.75s/it]"
          ]
        },
        {
          "name": "stdout",
          "output_type": "stream",
          "text": [
            "|| Test_Accuracy: 71.000 & Test_Loss: 0.978 ||\n",
            "Testing for current epoch completed successfully.\n",
            "\n",
            "Ending Epoch: 24-----------------------------\n",
            "Time Taken For Current Epoch: 70.31 seconds\n",
            "\n",
            "\n",
            "Starting Epoch: 25-----------------------------\n",
            "Went through 0 batches\n",
            "|| Train_Accuracy: 78.000 & Train_Loss: 0.700 ||\n",
            "Went through 2 batches\n",
            "|| Train_Accuracy: 64.000 & Train_Loss: 1.061 ||\n",
            "Went through 4 batches\n",
            "|| Train_Accuracy: 70.000 & Train_Loss: 0.999 ||\n",
            "|| Train_Accuracy: 73.333 & Train_Loss: 0.793 ||\n",
            "Training for current epoch completed successfully.\n",
            "Went through 0 batches\n",
            "|| Test_Acc: 78.000 & Test_Loss: 0.911 ||\n"
          ]
        },
        {
          "name": "stderr",
          "output_type": "stream",
          "text": [
            " 22%|██▏       | 26/120 [31:49<2:07:17, 81.25s/it]"
          ]
        },
        {
          "name": "stdout",
          "output_type": "stream",
          "text": [
            "|| Test_Accuracy: 71.000 & Test_Loss: 0.983 ||\n",
            "Testing for current epoch completed successfully.\n",
            "\n",
            "Ending Epoch: 25-----------------------------\n",
            "Time Taken For Current Epoch: 96.41 seconds\n",
            "\n",
            "\n",
            "Starting Epoch: 26-----------------------------\n",
            "Went through 0 batches\n",
            "|| Train_Accuracy: 60.000 & Train_Loss: 1.081 ||\n",
            "Went through 2 batches\n",
            "|| Train_Accuracy: 72.000 & Train_Loss: 0.699 ||\n",
            "Went through 4 batches\n",
            "|| Train_Accuracy: 66.000 & Train_Loss: 0.987 ||\n",
            "|| Train_Accuracy: 69.000 & Train_Loss: 0.864 ||\n",
            "Training for current epoch completed successfully.\n",
            "Went through 0 batches\n",
            "|| Test_Acc: 78.000 & Test_Loss: 0.888 ||\n"
          ]
        },
        {
          "name": "stderr",
          "output_type": "stream",
          "text": [
            " 22%|██▎       | 27/120 [33:03<2:02:30, 79.03s/it]"
          ]
        },
        {
          "name": "stdout",
          "output_type": "stream",
          "text": [
            "|| Test_Accuracy: 71.000 & Test_Loss: 0.976 ||\n",
            "Testing for current epoch completed successfully.\n",
            "\n",
            "Ending Epoch: 26-----------------------------\n",
            "Time Taken For Current Epoch: 73.87 seconds\n",
            "\n",
            "\n",
            "Starting Epoch: 27-----------------------------\n",
            "Went through 0 batches\n",
            "|| Train_Accuracy: 70.000 & Train_Loss: 0.854 ||\n",
            "Went through 2 batches\n",
            "|| Train_Accuracy: 72.000 & Train_Loss: 0.876 ||\n",
            "Went through 4 batches\n",
            "|| Train_Accuracy: 68.000 & Train_Loss: 0.937 ||\n",
            "|| Train_Accuracy: 73.667 & Train_Loss: 0.814 ||\n",
            "Training for current epoch completed successfully.\n",
            "Went through 0 batches\n",
            "|| Test_Acc: 78.000 & Test_Loss: 0.901 ||\n"
          ]
        },
        {
          "name": "stderr",
          "output_type": "stream",
          "text": [
            " 23%|██▎       | 28/120 [34:29<2:04:19, 81.08s/it]"
          ]
        },
        {
          "name": "stdout",
          "output_type": "stream",
          "text": [
            "|| Test_Accuracy: 71.000 & Test_Loss: 0.977 ||\n",
            "Testing for current epoch completed successfully.\n",
            "\n",
            "Ending Epoch: 27-----------------------------\n",
            "Time Taken For Current Epoch: 85.86 seconds\n",
            "\n",
            "\n",
            "Starting Epoch: 28-----------------------------\n",
            "Went through 0 batches\n",
            "|| Train_Accuracy: 78.000 & Train_Loss: 0.642 ||\n",
            "Went through 2 batches\n",
            "|| Train_Accuracy: 78.000 & Train_Loss: 0.643 ||\n",
            "Went through 4 batches\n",
            "|| Train_Accuracy: 80.000 & Train_Loss: 0.715 ||\n",
            "|| Train_Accuracy: 73.000 & Train_Loss: 0.820 ||\n",
            "Training for current epoch completed successfully.\n",
            "Went through 0 batches\n",
            "|| Test_Acc: 78.000 & Test_Loss: 0.874 ||\n"
          ]
        },
        {
          "name": "stderr",
          "output_type": "stream",
          "text": [
            " 24%|██▍       | 29/120 [35:47<2:01:36, 80.18s/it]"
          ]
        },
        {
          "name": "stdout",
          "output_type": "stream",
          "text": [
            "|| Test_Accuracy: 71.000 & Test_Loss: 0.978 ||\n",
            "Testing for current epoch completed successfully.\n",
            "\n",
            "Ending Epoch: 28-----------------------------\n",
            "Time Taken For Current Epoch: 78.07 seconds\n",
            "\n",
            "\n",
            "Starting Epoch: 29-----------------------------\n",
            "Went through 0 batches\n",
            "|| Train_Accuracy: 64.000 & Train_Loss: 0.804 ||\n",
            "Went through 2 batches\n",
            "|| Train_Accuracy: 68.000 & Train_Loss: 0.637 ||\n",
            "Went through 4 batches\n",
            "|| Train_Accuracy: 60.000 & Train_Loss: 0.966 ||\n",
            "|| Train_Accuracy: 66.333 & Train_Loss: 0.877 ||\n",
            "Training for current epoch completed successfully.\n",
            "Went through 0 batches\n",
            "|| Test_Acc: 78.000 & Test_Loss: 0.881 ||\n"
          ]
        },
        {
          "name": "stderr",
          "output_type": "stream",
          "text": [
            " 25%|██▌       | 30/120 [37:05<1:59:14, 79.49s/it]"
          ]
        },
        {
          "name": "stdout",
          "output_type": "stream",
          "text": [
            "|| Test_Accuracy: 71.000 & Test_Loss: 0.982 ||\n",
            "Testing for current epoch completed successfully.\n",
            "\n",
            "Ending Epoch: 29-----------------------------\n",
            "Time Taken For Current Epoch: 77.89 seconds\n",
            "\n",
            "\n",
            "Starting Epoch: 30-----------------------------\n",
            "Went through 0 batches\n",
            "|| Train_Accuracy: 66.000 & Train_Loss: 1.096 ||\n",
            "Went through 2 batches\n",
            "|| Train_Accuracy: 74.000 & Train_Loss: 0.726 ||\n",
            "Went through 4 batches\n",
            "|| Train_Accuracy: 70.000 & Train_Loss: 0.811 ||\n",
            "|| Train_Accuracy: 71.333 & Train_Loss: 0.896 ||\n",
            "Training for current epoch completed successfully.\n",
            "Went through 0 batches\n",
            "|| Test_Acc: 78.000 & Test_Loss: 0.906 ||\n"
          ]
        },
        {
          "name": "stderr",
          "output_type": "stream",
          "text": [
            " 26%|██▌       | 31/120 [38:24<1:57:29, 79.21s/it]"
          ]
        },
        {
          "name": "stdout",
          "output_type": "stream",
          "text": [
            "|| Test_Accuracy: 71.000 & Test_Loss: 0.968 ||\n",
            "Testing for current epoch completed successfully.\n",
            "\n",
            "Ending Epoch: 30-----------------------------\n",
            "Time Taken For Current Epoch: 78.54 seconds\n",
            "\n",
            "\n",
            "Starting Epoch: 31-----------------------------\n",
            "Went through 0 batches\n",
            "|| Train_Accuracy: 68.000 & Train_Loss: 0.802 ||\n",
            "Went through 2 batches\n",
            "|| Train_Accuracy: 74.000 & Train_Loss: 0.842 ||\n",
            "Went through 4 batches\n",
            "|| Train_Accuracy: 78.000 & Train_Loss: 0.861 ||\n",
            "|| Train_Accuracy: 75.333 & Train_Loss: 0.773 ||\n",
            "Training for current epoch completed successfully.\n",
            "Went through 0 batches\n",
            "|| Test_Acc: 78.000 & Test_Loss: 0.890 ||\n"
          ]
        },
        {
          "name": "stderr",
          "output_type": "stream",
          "text": [
            " 27%|██▋       | 32/120 [39:41<1:55:26, 78.71s/it]"
          ]
        },
        {
          "name": "stdout",
          "output_type": "stream",
          "text": [
            "|| Test_Accuracy: 71.000 & Test_Loss: 0.970 ||\n",
            "Testing for current epoch completed successfully.\n",
            "\n",
            "Ending Epoch: 31-----------------------------\n",
            "Time Taken For Current Epoch: 77.55 seconds\n",
            "\n",
            "\n",
            "Starting Epoch: 32-----------------------------\n",
            "Went through 0 batches\n",
            "|| Train_Accuracy: 78.000 & Train_Loss: 0.899 ||\n",
            "Went through 2 batches\n",
            "|| Train_Accuracy: 74.000 & Train_Loss: 0.796 ||\n",
            "Went through 4 batches\n",
            "|| Train_Accuracy: 68.000 & Train_Loss: 0.646 ||\n",
            "|| Train_Accuracy: 73.333 & Train_Loss: 0.828 ||\n",
            "Training for current epoch completed successfully.\n",
            "Went through 0 batches\n",
            "|| Test_Acc: 78.000 & Test_Loss: 0.888 ||\n"
          ]
        },
        {
          "name": "stderr",
          "output_type": "stream",
          "text": [
            " 28%|██▊       | 33/120 [41:00<1:54:22, 78.88s/it]"
          ]
        },
        {
          "name": "stdout",
          "output_type": "stream",
          "text": [
            "|| Test_Accuracy: 71.000 & Test_Loss: 0.981 ||\n",
            "Testing for current epoch completed successfully.\n",
            "\n",
            "Ending Epoch: 32-----------------------------\n",
            "Time Taken For Current Epoch: 79.26 seconds\n",
            "\n",
            "\n",
            "Starting Epoch: 33-----------------------------\n",
            "Went through 0 batches\n",
            "|| Train_Accuracy: 72.000 & Train_Loss: 0.985 ||\n",
            "Went through 2 batches\n",
            "|| Train_Accuracy: 64.000 & Train_Loss: 1.086 ||\n",
            "Went through 4 batches\n",
            "|| Train_Accuracy: 76.000 & Train_Loss: 0.645 ||\n",
            "|| Train_Accuracy: 74.000 & Train_Loss: 0.850 ||\n",
            "Training for current epoch completed successfully.\n",
            "Went through 0 batches\n",
            "|| Test_Acc: 78.000 & Test_Loss: 0.904 ||\n"
          ]
        },
        {
          "name": "stderr",
          "output_type": "stream",
          "text": [
            " 28%|██▊       | 34/120 [42:28<1:57:01, 81.64s/it]"
          ]
        },
        {
          "name": "stdout",
          "output_type": "stream",
          "text": [
            "|| Test_Accuracy: 71.000 & Test_Loss: 0.979 ||\n",
            "Testing for current epoch completed successfully.\n",
            "\n",
            "Ending Epoch: 33-----------------------------\n",
            "Time Taken For Current Epoch: 88.10 seconds\n",
            "\n",
            "\n",
            "Starting Epoch: 34-----------------------------\n",
            "Went through 0 batches\n",
            "|| Train_Accuracy: 68.000 & Train_Loss: 0.886 ||\n",
            "Went through 2 batches\n",
            "|| Train_Accuracy: 72.000 & Train_Loss: 0.664 ||\n",
            "Went through 4 batches\n",
            "|| Train_Accuracy: 76.000 & Train_Loss: 0.755 ||\n",
            "|| Train_Accuracy: 72.333 & Train_Loss: 0.789 ||\n",
            "Training for current epoch completed successfully.\n",
            "Went through 0 batches\n",
            "|| Test_Acc: 78.000 & Test_Loss: 0.920 ||\n"
          ]
        },
        {
          "name": "stderr",
          "output_type": "stream",
          "text": [
            " 29%|██▉       | 35/120 [43:58<1:59:12, 84.15s/it]"
          ]
        },
        {
          "name": "stdout",
          "output_type": "stream",
          "text": [
            "|| Test_Accuracy: 73.000 & Test_Loss: 0.964 ||\n",
            "Testing for current epoch completed successfully.\n",
            "\n",
            "Ending Epoch: 34-----------------------------\n",
            "Time Taken For Current Epoch: 90.00 seconds\n",
            "\n",
            "\n",
            "Starting Epoch: 35-----------------------------\n",
            "Went through 0 batches\n",
            "|| Train_Accuracy: 78.000 & Train_Loss: 0.653 ||\n",
            "Went through 2 batches\n",
            "|| Train_Accuracy: 66.000 & Train_Loss: 0.837 ||\n",
            "Went through 4 batches\n",
            "|| Train_Accuracy: 68.000 & Train_Loss: 0.803 ||\n",
            "|| Train_Accuracy: 70.667 & Train_Loss: 0.924 ||\n",
            "Training for current epoch completed successfully.\n",
            "Went through 0 batches\n",
            "|| Test_Acc: 78.000 & Test_Loss: 0.915 ||\n"
          ]
        },
        {
          "name": "stderr",
          "output_type": "stream",
          "text": [
            " 30%|███       | 36/120 [46:33<2:27:13, 105.16s/it]"
          ]
        },
        {
          "name": "stdout",
          "output_type": "stream",
          "text": [
            "|| Test_Accuracy: 71.000 & Test_Loss: 0.968 ||\n",
            "Testing for current epoch completed successfully.\n",
            "\n",
            "Ending Epoch: 35-----------------------------\n",
            "Time Taken For Current Epoch: 154.19 seconds\n",
            "\n",
            "\n",
            "Starting Epoch: 36-----------------------------\n",
            "Went through 0 batches\n",
            "|| Train_Accuracy: 86.000 & Train_Loss: 0.344 ||\n",
            "Went through 2 batches\n",
            "|| Train_Accuracy: 64.000 & Train_Loss: 0.848 ||\n",
            "Went through 4 batches\n",
            "|| Train_Accuracy: 82.000 & Train_Loss: 0.873 ||\n",
            "|| Train_Accuracy: 77.000 & Train_Loss: 0.687 ||\n",
            "Training for current epoch completed successfully.\n",
            "Went through 0 batches\n",
            "|| Test_Acc: 78.000 & Test_Loss: 0.894 ||\n"
          ]
        },
        {
          "name": "stderr",
          "output_type": "stream",
          "text": [
            " 31%|███       | 37/120 [49:25<2:53:15, 125.25s/it]"
          ]
        },
        {
          "name": "stdout",
          "output_type": "stream",
          "text": [
            "|| Test_Accuracy: 71.000 & Test_Loss: 0.964 ||\n",
            "Testing for current epoch completed successfully.\n",
            "\n",
            "Ending Epoch: 36-----------------------------\n",
            "Time Taken For Current Epoch: 172.10 seconds\n",
            "\n",
            "\n",
            "Starting Epoch: 37-----------------------------\n",
            "Went through 0 batches\n",
            "|| Train_Accuracy: 78.000 & Train_Loss: 0.522 ||\n",
            "Went through 2 batches\n",
            "|| Train_Accuracy: 60.000 & Train_Loss: 0.820 ||\n",
            "Went through 4 batches\n",
            "|| Train_Accuracy: 82.000 & Train_Loss: 0.573 ||\n",
            "|| Train_Accuracy: 70.000 & Train_Loss: 0.855 ||\n",
            "Training for current epoch completed successfully.\n",
            "Went through 0 batches\n",
            "|| Test_Acc: 78.000 & Test_Loss: 0.908 ||\n"
          ]
        },
        {
          "name": "stderr",
          "output_type": "stream",
          "text": [
            " 32%|███▏      | 38/120 [52:17<3:10:18, 139.25s/it]"
          ]
        },
        {
          "name": "stdout",
          "output_type": "stream",
          "text": [
            "|| Test_Accuracy: 73.000 & Test_Loss: 0.962 ||\n",
            "Testing for current epoch completed successfully.\n",
            "\n",
            "Ending Epoch: 37-----------------------------\n",
            "Time Taken For Current Epoch: 171.91 seconds\n",
            "\n",
            "\n",
            "Starting Epoch: 38-----------------------------\n",
            "Went through 0 batches\n",
            "|| Train_Accuracy: 70.000 & Train_Loss: 0.966 ||\n",
            "Went through 2 batches\n",
            "|| Train_Accuracy: 76.000 & Train_Loss: 0.534 ||\n",
            "Went through 4 batches\n",
            "|| Train_Accuracy: 64.000 & Train_Loss: 1.080 ||\n",
            "|| Train_Accuracy: 75.000 & Train_Loss: 0.826 ||\n",
            "Training for current epoch completed successfully.\n",
            "Went through 0 batches\n",
            "|| Test_Acc: 78.000 & Test_Loss: 0.887 ||\n"
          ]
        },
        {
          "name": "stderr",
          "output_type": "stream",
          "text": [
            " 32%|███▎      | 39/120 [55:02<3:18:23, 146.95s/it]"
          ]
        },
        {
          "name": "stdout",
          "output_type": "stream",
          "text": [
            "|| Test_Accuracy: 71.000 & Test_Loss: 0.972 ||\n",
            "Testing for current epoch completed successfully.\n",
            "\n",
            "Ending Epoch: 38-----------------------------\n",
            "Time Taken For Current Epoch: 164.93 seconds\n",
            "\n",
            "\n",
            "Starting Epoch: 39-----------------------------\n",
            "Went through 0 batches\n",
            "|| Train_Accuracy: 66.000 & Train_Loss: 1.118 ||\n",
            "Went through 2 batches\n",
            "|| Train_Accuracy: 80.000 & Train_Loss: 0.586 ||\n",
            "Went through 4 batches\n",
            "|| Train_Accuracy: 72.000 & Train_Loss: 0.663 ||\n",
            "|| Train_Accuracy: 71.000 & Train_Loss: 0.877 ||\n",
            "Training for current epoch completed successfully.\n",
            "Went through 0 batches\n",
            "|| Test_Acc: 78.000 & Test_Loss: 0.875 ||\n"
          ]
        },
        {
          "name": "stderr",
          "output_type": "stream",
          "text": [
            " 33%|███▎      | 40/120 [58:14<3:34:12, 160.66s/it]"
          ]
        },
        {
          "name": "stdout",
          "output_type": "stream",
          "text": [
            "|| Test_Accuracy: 71.000 & Test_Loss: 0.975 ||\n",
            "Testing for current epoch completed successfully.\n",
            "\n",
            "Ending Epoch: 39-----------------------------\n",
            "Time Taken For Current Epoch: 192.64 seconds\n",
            "\n",
            "\n",
            "Starting Epoch: 40-----------------------------\n",
            "Went through 0 batches\n",
            "|| Train_Accuracy: 80.000 & Train_Loss: 0.861 ||\n",
            "Went through 2 batches\n",
            "|| Train_Accuracy: 66.000 & Train_Loss: 0.942 ||\n",
            "Went through 4 batches\n",
            "|| Train_Accuracy: 66.000 & Train_Loss: 0.761 ||\n",
            "|| Train_Accuracy: 73.333 & Train_Loss: 0.776 ||\n",
            "Training for current epoch completed successfully.\n",
            "Went through 0 batches\n",
            "|| Test_Acc: 78.000 & Test_Loss: 0.899 ||\n"
          ]
        },
        {
          "name": "stderr",
          "output_type": "stream",
          "text": [
            " 34%|███▍      | 41/120 [1:02:11<4:01:35, 183.49s/it]"
          ]
        },
        {
          "name": "stdout",
          "output_type": "stream",
          "text": [
            "|| Test_Accuracy: 71.000 & Test_Loss: 0.978 ||\n",
            "Testing for current epoch completed successfully.\n",
            "\n",
            "Ending Epoch: 40-----------------------------\n",
            "Time Taken For Current Epoch: 236.76 seconds\n",
            "\n",
            "\n",
            "Starting Epoch: 41-----------------------------\n",
            "Went through 0 batches\n",
            "|| Train_Accuracy: 70.000 & Train_Loss: 1.061 ||\n",
            "Went through 2 batches\n",
            "|| Train_Accuracy: 82.000 & Train_Loss: 0.418 ||\n",
            "Went through 4 batches\n",
            "|| Train_Accuracy: 72.000 & Train_Loss: 0.640 ||\n",
            "|| Train_Accuracy: 72.667 & Train_Loss: 0.858 ||\n",
            "Training for current epoch completed successfully.\n",
            "Went through 0 batches\n",
            "|| Test_Acc: 78.000 & Test_Loss: 0.885 ||\n"
          ]
        },
        {
          "name": "stderr",
          "output_type": "stream",
          "text": [
            " 35%|███▌      | 42/120 [1:05:30<4:04:30, 188.08s/it]"
          ]
        },
        {
          "name": "stdout",
          "output_type": "stream",
          "text": [
            "|| Test_Accuracy: 71.000 & Test_Loss: 0.979 ||\n",
            "Testing for current epoch completed successfully.\n",
            "\n",
            "Ending Epoch: 41-----------------------------\n",
            "Time Taken For Current Epoch: 198.77 seconds\n",
            "\n",
            "\n",
            "Starting Epoch: 42-----------------------------\n",
            "Went through 0 batches\n",
            "|| Train_Accuracy: 76.000 & Train_Loss: 0.765 ||\n",
            "Went through 2 batches\n",
            "|| Train_Accuracy: 78.000 & Train_Loss: 0.653 ||\n",
            "Went through 4 batches\n",
            "|| Train_Accuracy: 76.000 & Train_Loss: 0.788 ||\n",
            "|| Train_Accuracy: 73.000 & Train_Loss: 0.830 ||\n",
            "Training for current epoch completed successfully.\n",
            "Went through 0 batches\n",
            "|| Test_Acc: 78.000 & Test_Loss: 0.881 ||\n"
          ]
        },
        {
          "name": "stderr",
          "output_type": "stream",
          "text": [
            " 36%|███▌      | 43/120 [1:08:55<4:07:54, 193.17s/it]"
          ]
        },
        {
          "name": "stdout",
          "output_type": "stream",
          "text": [
            "|| Test_Accuracy: 71.000 & Test_Loss: 0.972 ||\n",
            "Testing for current epoch completed successfully.\n",
            "\n",
            "Ending Epoch: 42-----------------------------\n",
            "Time Taken For Current Epoch: 205.05 seconds\n",
            "\n",
            "\n",
            "Starting Epoch: 43-----------------------------\n",
            "Went through 0 batches\n",
            "|| Train_Accuracy: 72.000 & Train_Loss: 1.071 ||\n",
            "Went through 2 batches\n",
            "|| Train_Accuracy: 70.000 & Train_Loss: 0.794 ||\n",
            "Went through 4 batches\n",
            "|| Train_Accuracy: 68.000 & Train_Loss: 1.009 ||\n",
            "|| Train_Accuracy: 72.333 & Train_Loss: 0.833 ||\n",
            "Training for current epoch completed successfully.\n",
            "Went through 0 batches\n",
            "|| Test_Acc: 78.000 & Test_Loss: 0.903 ||\n"
          ]
        },
        {
          "name": "stderr",
          "output_type": "stream",
          "text": [
            " 37%|███▋      | 44/120 [1:11:05<3:40:40, 174.21s/it]"
          ]
        },
        {
          "name": "stdout",
          "output_type": "stream",
          "text": [
            "|| Test_Accuracy: 71.000 & Test_Loss: 0.972 ||\n",
            "Testing for current epoch completed successfully.\n",
            "\n",
            "Ending Epoch: 43-----------------------------\n",
            "Time Taken For Current Epoch: 129.98 seconds\n",
            "\n",
            "\n",
            "Starting Epoch: 44-----------------------------\n",
            "Went through 0 batches\n",
            "|| Train_Accuracy: 72.000 & Train_Loss: 0.675 ||\n",
            "Went through 2 batches\n",
            "|| Train_Accuracy: 76.000 & Train_Loss: 0.690 ||\n",
            "Went through 4 batches\n",
            "|| Train_Accuracy: 58.000 & Train_Loss: 1.816 ||\n",
            "|| Train_Accuracy: 71.000 & Train_Loss: 0.977 ||\n",
            "Training for current epoch completed successfully.\n",
            "Went through 0 batches\n",
            "|| Test_Acc: 78.000 & Test_Loss: 0.911 ||\n"
          ]
        },
        {
          "name": "stderr",
          "output_type": "stream",
          "text": [
            " 38%|███▊      | 45/120 [1:13:09<3:18:56, 159.15s/it]"
          ]
        },
        {
          "name": "stdout",
          "output_type": "stream",
          "text": [
            "|| Test_Accuracy: 71.000 & Test_Loss: 0.971 ||\n",
            "Testing for current epoch completed successfully.\n",
            "\n",
            "Ending Epoch: 44-----------------------------\n",
            "Time Taken For Current Epoch: 124.01 seconds\n",
            "\n",
            "\n",
            "Starting Epoch: 45-----------------------------\n",
            "Went through 0 batches\n",
            "|| Train_Accuracy: 74.000 & Train_Loss: 0.863 ||\n",
            "Went through 2 batches\n",
            "|| Train_Accuracy: 76.000 & Train_Loss: 0.833 ||\n",
            "Went through 4 batches\n",
            "|| Train_Accuracy: 82.000 & Train_Loss: 0.637 ||\n",
            "|| Train_Accuracy: 74.000 & Train_Loss: 0.907 ||\n",
            "Training for current epoch completed successfully.\n",
            "Went through 0 batches\n",
            "|| Test_Acc: 78.000 & Test_Loss: 0.904 ||\n"
          ]
        },
        {
          "name": "stderr",
          "output_type": "stream",
          "text": [
            " 38%|███▊      | 46/120 [1:15:09<3:01:46, 147.39s/it]"
          ]
        },
        {
          "name": "stdout",
          "output_type": "stream",
          "text": [
            "|| Test_Accuracy: 71.000 & Test_Loss: 0.966 ||\n",
            "Testing for current epoch completed successfully.\n",
            "\n",
            "Ending Epoch: 45-----------------------------\n",
            "Time Taken For Current Epoch: 119.92 seconds\n",
            "\n",
            "\n",
            "Starting Epoch: 46-----------------------------\n",
            "Went through 0 batches\n",
            "|| Train_Accuracy: 66.000 & Train_Loss: 0.933 ||\n",
            "Went through 2 batches\n",
            "|| Train_Accuracy: 68.000 & Train_Loss: 0.861 ||\n",
            "Went through 4 batches\n",
            "|| Train_Accuracy: 76.000 & Train_Loss: 0.849 ||\n",
            "|| Train_Accuracy: 71.000 & Train_Loss: 0.825 ||\n",
            "Training for current epoch completed successfully.\n",
            "Went through 0 batches\n",
            "|| Test_Acc: 78.000 & Test_Loss: 0.899 ||\n"
          ]
        },
        {
          "name": "stderr",
          "output_type": "stream",
          "text": [
            " 39%|███▉      | 47/120 [1:17:12<2:50:31, 140.16s/it]"
          ]
        },
        {
          "name": "stdout",
          "output_type": "stream",
          "text": [
            "|| Test_Accuracy: 71.000 & Test_Loss: 0.967 ||\n",
            "Testing for current epoch completed successfully.\n",
            "\n",
            "Ending Epoch: 46-----------------------------\n",
            "Time Taken For Current Epoch: 123.29 seconds\n",
            "\n",
            "\n",
            "Starting Epoch: 47-----------------------------\n",
            "Went through 0 batches\n",
            "|| Train_Accuracy: 68.000 & Train_Loss: 1.075 ||\n",
            "Went through 2 batches\n",
            "|| Train_Accuracy: 78.000 & Train_Loss: 0.641 ||\n",
            "Went through 4 batches\n",
            "|| Train_Accuracy: 70.000 & Train_Loss: 0.768 ||\n",
            "|| Train_Accuracy: 73.000 & Train_Loss: 0.807 ||\n",
            "Training for current epoch completed successfully.\n",
            "Went through 0 batches\n",
            "|| Test_Acc: 78.000 & Test_Loss: 0.897 ||\n"
          ]
        },
        {
          "name": "stderr",
          "output_type": "stream",
          "text": [
            " 40%|████      | 48/120 [1:19:13<2:41:18, 134.42s/it]"
          ]
        },
        {
          "name": "stdout",
          "output_type": "stream",
          "text": [
            "|| Test_Accuracy: 71.000 & Test_Loss: 0.968 ||\n",
            "Testing for current epoch completed successfully.\n",
            "\n",
            "Ending Epoch: 47-----------------------------\n",
            "Time Taken For Current Epoch: 121.03 seconds\n",
            "\n",
            "\n",
            "Starting Epoch: 48-----------------------------\n",
            "Went through 0 batches\n",
            "|| Train_Accuracy: 70.000 & Train_Loss: 0.996 ||\n",
            "Went through 2 batches\n",
            "|| Train_Accuracy: 74.000 & Train_Loss: 0.820 ||\n",
            "Went through 4 batches\n",
            "|| Train_Accuracy: 76.000 & Train_Loss: 0.630 ||\n",
            "|| Train_Accuracy: 72.333 & Train_Loss: 0.904 ||\n",
            "Training for current epoch completed successfully.\n",
            "Went through 0 batches\n",
            "|| Test_Acc: 78.000 & Test_Loss: 0.888 ||\n"
          ]
        },
        {
          "name": "stderr",
          "output_type": "stream",
          "text": [
            " 41%|████      | 49/120 [1:21:15<2:34:27, 130.53s/it]"
          ]
        },
        {
          "name": "stdout",
          "output_type": "stream",
          "text": [
            "|| Test_Accuracy: 71.000 & Test_Loss: 0.966 ||\n",
            "Testing for current epoch completed successfully.\n",
            "\n",
            "Ending Epoch: 48-----------------------------\n",
            "Time Taken For Current Epoch: 121.43 seconds\n",
            "\n",
            "\n",
            "Starting Epoch: 49-----------------------------\n",
            "Went through 0 batches\n",
            "|| Train_Accuracy: 60.000 & Train_Loss: 1.379 ||\n",
            "Went through 2 batches\n",
            "|| Train_Accuracy: 72.000 & Train_Loss: 1.068 ||\n",
            "Went through 4 batches\n",
            "|| Train_Accuracy: 68.000 & Train_Loss: 0.756 ||\n",
            "|| Train_Accuracy: 69.333 & Train_Loss: 0.914 ||\n",
            "Training for current epoch completed successfully.\n",
            "Went through 0 batches\n",
            "|| Test_Acc: 78.000 & Test_Loss: 0.903 ||\n"
          ]
        },
        {
          "name": "stderr",
          "output_type": "stream",
          "text": [
            " 42%|████▏     | 50/120 [1:23:17<2:29:24, 128.07s/it]"
          ]
        },
        {
          "name": "stdout",
          "output_type": "stream",
          "text": [
            "|| Test_Accuracy: 71.000 & Test_Loss: 0.964 ||\n",
            "Testing for current epoch completed successfully.\n",
            "\n",
            "Ending Epoch: 49-----------------------------\n",
            "Time Taken For Current Epoch: 122.33 seconds\n",
            "\n",
            "\n",
            "Starting Epoch: 50-----------------------------\n",
            "Went through 0 batches\n",
            "|| Train_Accuracy: 68.000 & Train_Loss: 0.998 ||\n",
            "Went through 2 batches\n",
            "|| Train_Accuracy: 74.000 & Train_Loss: 0.807 ||\n",
            "Went through 4 batches\n",
            "|| Train_Accuracy: 60.000 & Train_Loss: 1.488 ||\n",
            "|| Train_Accuracy: 72.333 & Train_Loss: 0.883 ||\n",
            "Training for current epoch completed successfully.\n",
            "Went through 0 batches\n",
            "|| Test_Acc: 78.000 & Test_Loss: 0.886 ||\n"
          ]
        },
        {
          "name": "stderr",
          "output_type": "stream",
          "text": [
            " 42%|████▎     | 51/120 [1:25:18<2:24:50, 125.95s/it]"
          ]
        },
        {
          "name": "stdout",
          "output_type": "stream",
          "text": [
            "|| Test_Accuracy: 71.000 & Test_Loss: 0.963 ||\n",
            "Testing for current epoch completed successfully.\n",
            "\n",
            "Ending Epoch: 50-----------------------------\n",
            "Time Taken For Current Epoch: 121.01 seconds\n",
            "\n",
            "\n",
            "Starting Epoch: 51-----------------------------\n",
            "Went through 0 batches\n",
            "|| Train_Accuracy: 70.000 & Train_Loss: 1.115 ||\n",
            "Went through 2 batches\n",
            "|| Train_Accuracy: 76.000 & Train_Loss: 0.929 ||\n",
            "Went through 4 batches\n",
            "|| Train_Accuracy: 78.000 & Train_Loss: 0.698 ||\n",
            "|| Train_Accuracy: 74.000 & Train_Loss: 0.852 ||\n",
            "Training for current epoch completed successfully.\n",
            "Went through 0 batches\n",
            "|| Test_Acc: 78.000 & Test_Loss: 0.906 ||\n"
          ]
        },
        {
          "name": "stderr",
          "output_type": "stream",
          "text": [
            " 43%|████▎     | 52/120 [1:27:22<2:21:59, 125.29s/it]"
          ]
        },
        {
          "name": "stdout",
          "output_type": "stream",
          "text": [
            "|| Test_Accuracy: 71.000 & Test_Loss: 0.973 ||\n",
            "Testing for current epoch completed successfully.\n",
            "\n",
            "Ending Epoch: 51-----------------------------\n",
            "Time Taken For Current Epoch: 123.73 seconds\n",
            "\n",
            "\n",
            "Starting Epoch: 52-----------------------------\n",
            "Went through 0 batches\n",
            "|| Train_Accuracy: 70.000 & Train_Loss: 0.936 ||\n",
            "Went through 2 batches\n",
            "|| Train_Accuracy: 80.000 & Train_Loss: 0.666 ||\n",
            "Went through 4 batches\n",
            "|| Train_Accuracy: 72.000 & Train_Loss: 0.994 ||\n",
            "|| Train_Accuracy: 72.333 & Train_Loss: 0.852 ||\n",
            "Training for current epoch completed successfully.\n",
            "Went through 0 batches\n",
            "|| Test_Acc: 78.000 & Test_Loss: 0.920 ||\n"
          ]
        },
        {
          "name": "stderr",
          "output_type": "stream",
          "text": [
            " 44%|████▍     | 53/120 [1:29:23<2:18:26, 123.98s/it]"
          ]
        },
        {
          "name": "stdout",
          "output_type": "stream",
          "text": [
            "|| Test_Accuracy: 71.000 & Test_Loss: 0.973 ||\n",
            "Testing for current epoch completed successfully.\n",
            "\n",
            "Ending Epoch: 52-----------------------------\n",
            "Time Taken For Current Epoch: 120.93 seconds\n",
            "\n",
            "\n",
            "Starting Epoch: 53-----------------------------\n",
            "Went through 0 batches\n",
            "|| Train_Accuracy: 60.000 & Train_Loss: 1.210 ||\n",
            "Went through 2 batches\n",
            "|| Train_Accuracy: 76.000 & Train_Loss: 0.591 ||\n",
            "Went through 4 batches\n",
            "|| Train_Accuracy: 72.000 & Train_Loss: 0.853 ||\n",
            "|| Train_Accuracy: 70.667 & Train_Loss: 0.863 ||\n",
            "Training for current epoch completed successfully.\n",
            "Went through 0 batches\n",
            "|| Test_Acc: 78.000 & Test_Loss: 0.913 ||\n"
          ]
        },
        {
          "name": "stderr",
          "output_type": "stream",
          "text": [
            " 45%|████▌     | 54/120 [1:31:23<2:15:17, 122.99s/it]"
          ]
        },
        {
          "name": "stdout",
          "output_type": "stream",
          "text": [
            "|| Test_Accuracy: 71.000 & Test_Loss: 0.974 ||\n",
            "Testing for current epoch completed successfully.\n",
            "\n",
            "Ending Epoch: 53-----------------------------\n",
            "Time Taken For Current Epoch: 120.67 seconds\n",
            "\n",
            "\n",
            "Starting Epoch: 54-----------------------------\n",
            "Went through 0 batches\n",
            "|| Train_Accuracy: 72.000 & Train_Loss: 0.709 ||\n",
            "Went through 2 batches\n",
            "|| Train_Accuracy: 74.000 & Train_Loss: 0.883 ||\n",
            "Went through 4 batches\n",
            "|| Train_Accuracy: 70.000 & Train_Loss: 1.196 ||\n",
            "|| Train_Accuracy: 71.333 & Train_Loss: 0.834 ||\n",
            "Training for current epoch completed successfully.\n",
            "Went through 0 batches\n",
            "|| Test_Acc: 78.000 & Test_Loss: 0.894 ||\n"
          ]
        },
        {
          "name": "stderr",
          "output_type": "stream",
          "text": [
            " 46%|████▌     | 55/120 [1:33:23<2:12:20, 122.16s/it]"
          ]
        },
        {
          "name": "stdout",
          "output_type": "stream",
          "text": [
            "|| Test_Accuracy: 71.000 & Test_Loss: 0.967 ||\n",
            "Testing for current epoch completed successfully.\n",
            "\n",
            "Ending Epoch: 54-----------------------------\n",
            "Time Taken For Current Epoch: 120.24 seconds\n",
            "\n",
            "\n",
            "Starting Epoch: 55-----------------------------\n",
            "Went through 0 batches\n",
            "|| Train_Accuracy: 70.000 & Train_Loss: 1.026 ||\n",
            "Went through 2 batches\n",
            "|| Train_Accuracy: 76.000 & Train_Loss: 0.737 ||\n",
            "Went through 4 batches\n",
            "|| Train_Accuracy: 68.000 & Train_Loss: 0.714 ||\n",
            "|| Train_Accuracy: 73.000 & Train_Loss: 0.768 ||\n",
            "Training for current epoch completed successfully.\n",
            "Went through 0 batches\n",
            "|| Test_Acc: 78.000 & Test_Loss: 0.906 ||\n"
          ]
        },
        {
          "name": "stderr",
          "output_type": "stream",
          "text": [
            " 47%|████▋     | 56/120 [1:35:23<2:09:32, 121.45s/it]"
          ]
        },
        {
          "name": "stdout",
          "output_type": "stream",
          "text": [
            "|| Test_Accuracy: 71.000 & Test_Loss: 0.975 ||\n",
            "Testing for current epoch completed successfully.\n",
            "\n",
            "Ending Epoch: 55-----------------------------\n",
            "Time Taken For Current Epoch: 119.78 seconds\n",
            "\n",
            "\n",
            "Starting Epoch: 56-----------------------------\n",
            "Went through 0 batches\n",
            "|| Train_Accuracy: 70.000 & Train_Loss: 0.927 ||\n",
            "Went through 2 batches\n",
            "|| Train_Accuracy: 76.000 & Train_Loss: 0.828 ||\n",
            "Went through 4 batches\n",
            "|| Train_Accuracy: 70.000 & Train_Loss: 1.067 ||\n"
          ]
        },
        {
          "name": "stderr",
          "output_type": "stream",
          "text": [
            " 47%|████▋     | 56/120 [1:37:08<1:51:01, 104.09s/it]\n"
          ]
        },
        {
          "ename": "KeyboardInterrupt",
          "evalue": "",
          "output_type": "error",
          "traceback": [
            "\u001b[1;31m---------------------------------------------------------------------------\u001b[0m",
            "\u001b[1;31mKeyboardInterrupt\u001b[0m                         Traceback (most recent call last)",
            "Cell \u001b[1;32mIn[76], line 7\u001b[0m\n\u001b[0;32m      3\u001b[0m start \u001b[38;5;241m=\u001b[39m timer()\n\u001b[0;32m      5\u001b[0m EPOCHS \u001b[38;5;241m=\u001b[39m \u001b[38;5;241m120\u001b[39m\n\u001b[1;32m----> 7\u001b[0m model_1_results \u001b[38;5;241m=\u001b[39m \u001b[43mtrain\u001b[49m\u001b[43m(\u001b[49m\u001b[43mmodel\u001b[49m\u001b[38;5;241;43m=\u001b[39;49m\u001b[43mmodel_1\u001b[49m\u001b[43m,\u001b[49m\n\u001b[0;32m      8\u001b[0m \u001b[43m                        \u001b[49m\u001b[43mtrain_dataloader\u001b[49m\u001b[38;5;241;43m=\u001b[39;49m\u001b[43mtrain_dataloader\u001b[49m\u001b[43m,\u001b[49m\n\u001b[0;32m      9\u001b[0m \u001b[43m                        \u001b[49m\u001b[43mtest_dataloader\u001b[49m\u001b[38;5;241;43m=\u001b[39;49m\u001b[43mtest_dataloader\u001b[49m\u001b[43m,\u001b[49m\n\u001b[0;32m     10\u001b[0m \u001b[43m                        \u001b[49m\u001b[43mloss_fn\u001b[49m\u001b[38;5;241;43m=\u001b[39;49m\u001b[43mloss_fn\u001b[49m\u001b[43m,\u001b[49m\n\u001b[0;32m     11\u001b[0m \u001b[43m                        \u001b[49m\u001b[43moptimizer\u001b[49m\u001b[38;5;241;43m=\u001b[39;49m\u001b[43moptimizer\u001b[49m\u001b[43m,\u001b[49m\n\u001b[0;32m     12\u001b[0m \u001b[43m                        \u001b[49m\u001b[43macc_fn\u001b[49m\u001b[38;5;241;43m=\u001b[39;49m\u001b[43macc_fn\u001b[49m\u001b[43m,\u001b[49m\n\u001b[0;32m     13\u001b[0m \u001b[43m                        \u001b[49m\u001b[43mdevice\u001b[49m\u001b[38;5;241;43m=\u001b[39;49m\u001b[43mdevice\u001b[49m\u001b[43m,\u001b[49m\n\u001b[0;32m     14\u001b[0m \u001b[43m                        \u001b[49m\u001b[43mepochs\u001b[49m\u001b[38;5;241;43m=\u001b[39;49m\u001b[43mEPOCHS\u001b[49m\u001b[43m)\u001b[49m\n\u001b[0;32m     16\u001b[0m end \u001b[38;5;241m=\u001b[39m timer()\n\u001b[0;32m     18\u001b[0m \u001b[38;5;28mprint\u001b[39m(\u001b[38;5;124mf\u001b[39m\u001b[38;5;124m\"\u001b[39m\u001b[38;5;124mTraining Time: \u001b[39m\u001b[38;5;132;01m{\u001b[39;00mend\u001b[38;5;241m-\u001b[39mstart\u001b[38;5;132;01m:\u001b[39;00m\u001b[38;5;124m.2f\u001b[39m\u001b[38;5;132;01m}\u001b[39;00m\u001b[38;5;124m seconds for \u001b[39m\u001b[38;5;132;01m{\u001b[39;00mEPOCHS\u001b[38;5;132;01m}\u001b[39;00m\u001b[38;5;124m epochs on \u001b[39m\u001b[38;5;132;01m{\u001b[39;00mdevice\u001b[38;5;132;01m}\u001b[39;00m\u001b[38;5;124m.\u001b[39m\u001b[38;5;124m\"\u001b[39m)\n",
            "Cell \u001b[1;32mIn[49], line 107\u001b[0m, in \u001b[0;36mtrain\u001b[1;34m(model, train_dataloader, test_dataloader, loss_fn, optimizer, acc_fn, device, epochs)\u001b[0m\n\u001b[0;32m    105\u001b[0m start\u001b[38;5;241m=\u001b[39m timer()\n\u001b[0;32m    106\u001b[0m \u001b[38;5;28mprint\u001b[39m(\u001b[38;5;124mf\u001b[39m\u001b[38;5;124m\"\u001b[39m\u001b[38;5;130;01m\\n\u001b[39;00m\u001b[38;5;130;01m\\n\u001b[39;00m\u001b[38;5;124mStarting Epoch: \u001b[39m\u001b[38;5;132;01m{\u001b[39;00mepoch\u001b[38;5;132;01m}\u001b[39;00m\u001b[38;5;124m-----------------------------\u001b[39m\u001b[38;5;124m\"\u001b[39m)\n\u001b[1;32m--> 107\u001b[0m train_acc, train_loss \u001b[38;5;241m=\u001b[39m \u001b[43mtrain_step\u001b[49m\u001b[43m(\u001b[49m\u001b[43mmodel\u001b[49m\u001b[43m,\u001b[49m\u001b[43m \u001b[49m\u001b[43mtrain_dataloader\u001b[49m\u001b[43m,\u001b[49m\u001b[43m \u001b[49m\u001b[43mloss_fn\u001b[49m\u001b[43m,\u001b[49m\u001b[43m \u001b[49m\u001b[43moptimizer\u001b[49m\u001b[43m,\u001b[49m\u001b[43m \u001b[49m\u001b[43macc_fn\u001b[49m\u001b[43m,\u001b[49m\u001b[43m \u001b[49m\u001b[43mdevice\u001b[49m\u001b[43m)\u001b[49m\n\u001b[0;32m    108\u001b[0m test_acc, test_loss \u001b[38;5;241m=\u001b[39m test_step(model, test_dataloader, loss_fn, acc_fn, device)\n\u001b[0;32m    109\u001b[0m \u001b[38;5;28mprint\u001b[39m(\u001b[38;5;124mf\u001b[39m\u001b[38;5;124m\"\u001b[39m\u001b[38;5;130;01m\\n\u001b[39;00m\u001b[38;5;124mEnding Epoch: \u001b[39m\u001b[38;5;132;01m{\u001b[39;00mepoch\u001b[38;5;132;01m}\u001b[39;00m\u001b[38;5;124m-----------------------------\u001b[39m\u001b[38;5;124m\"\u001b[39m)\n",
            "Cell \u001b[1;32mIn[49], line 17\u001b[0m, in \u001b[0;36mtrain_step\u001b[1;34m(model, dataloader, loss_fn, optimizer, acc_fn, device)\u001b[0m\n\u001b[0;32m     11\u001b[0m \u001b[38;5;250m\u001b[39m\u001b[38;5;124;03m\"\"\"\u001b[39;00m\n\u001b[0;32m     12\u001b[0m \u001b[38;5;124;03mFunction to train our model with clearly set hyperparameters\u001b[39;00m\n\u001b[0;32m     13\u001b[0m \u001b[38;5;124;03m\"\"\"\u001b[39;00m\n\u001b[0;32m     15\u001b[0m train_acc, train_loss \u001b[38;5;241m=\u001b[39m \u001b[38;5;241m0\u001b[39m,\u001b[38;5;241m0\u001b[39m\n\u001b[1;32m---> 17\u001b[0m \u001b[38;5;28;01mfor\u001b[39;00m batch, (X,y) \u001b[38;5;129;01min\u001b[39;00m \u001b[38;5;28menumerate\u001b[39m(dataloader):\n\u001b[0;32m     18\u001b[0m     model\u001b[38;5;241m.\u001b[39mtrain()\u001b[38;5;241m.\u001b[39mto(device)\n\u001b[0;32m     19\u001b[0m     X, y \u001b[38;5;241m=\u001b[39m X\u001b[38;5;241m.\u001b[39mto(device), y\u001b[38;5;241m.\u001b[39mto(device)\n",
            "File \u001b[1;32m~\\AppData\\Roaming\\Python\\Python310\\site-packages\\torch\\utils\\data\\dataloader.py:708\u001b[0m, in \u001b[0;36m_BaseDataLoaderIter.__next__\u001b[1;34m(self)\u001b[0m\n\u001b[0;32m    705\u001b[0m \u001b[38;5;28;01mif\u001b[39;00m \u001b[38;5;28mself\u001b[39m\u001b[38;5;241m.\u001b[39m_sampler_iter \u001b[38;5;129;01mis\u001b[39;00m \u001b[38;5;28;01mNone\u001b[39;00m:\n\u001b[0;32m    706\u001b[0m     \u001b[38;5;66;03m# TODO(https://github.com/pytorch/pytorch/issues/76750)\u001b[39;00m\n\u001b[0;32m    707\u001b[0m     \u001b[38;5;28mself\u001b[39m\u001b[38;5;241m.\u001b[39m_reset()  \u001b[38;5;66;03m# type: ignore[call-arg]\u001b[39;00m\n\u001b[1;32m--> 708\u001b[0m data \u001b[38;5;241m=\u001b[39m \u001b[38;5;28;43mself\u001b[39;49m\u001b[38;5;241;43m.\u001b[39;49m\u001b[43m_next_data\u001b[49m\u001b[43m(\u001b[49m\u001b[43m)\u001b[49m\n\u001b[0;32m    709\u001b[0m \u001b[38;5;28mself\u001b[39m\u001b[38;5;241m.\u001b[39m_num_yielded \u001b[38;5;241m+\u001b[39m\u001b[38;5;241m=\u001b[39m \u001b[38;5;241m1\u001b[39m\n\u001b[0;32m    710\u001b[0m \u001b[38;5;28;01mif\u001b[39;00m (\n\u001b[0;32m    711\u001b[0m     \u001b[38;5;28mself\u001b[39m\u001b[38;5;241m.\u001b[39m_dataset_kind \u001b[38;5;241m==\u001b[39m _DatasetKind\u001b[38;5;241m.\u001b[39mIterable\n\u001b[0;32m    712\u001b[0m     \u001b[38;5;129;01mand\u001b[39;00m \u001b[38;5;28mself\u001b[39m\u001b[38;5;241m.\u001b[39m_IterableDataset_len_called \u001b[38;5;129;01mis\u001b[39;00m \u001b[38;5;129;01mnot\u001b[39;00m \u001b[38;5;28;01mNone\u001b[39;00m\n\u001b[0;32m    713\u001b[0m     \u001b[38;5;129;01mand\u001b[39;00m \u001b[38;5;28mself\u001b[39m\u001b[38;5;241m.\u001b[39m_num_yielded \u001b[38;5;241m>\u001b[39m \u001b[38;5;28mself\u001b[39m\u001b[38;5;241m.\u001b[39m_IterableDataset_len_called\n\u001b[0;32m    714\u001b[0m ):\n",
            "File \u001b[1;32m~\\AppData\\Roaming\\Python\\Python310\\site-packages\\torch\\utils\\data\\dataloader.py:1446\u001b[0m, in \u001b[0;36m_MultiProcessingDataLoaderIter._next_data\u001b[1;34m(self)\u001b[0m\n\u001b[0;32m   1443\u001b[0m \u001b[38;5;28;01melse\u001b[39;00m:\n\u001b[0;32m   1444\u001b[0m     \u001b[38;5;66;03m# no valid `self._rcvd_idx` is found (i.e., didn't break)\u001b[39;00m\n\u001b[0;32m   1445\u001b[0m     \u001b[38;5;28;01mif\u001b[39;00m \u001b[38;5;129;01mnot\u001b[39;00m \u001b[38;5;28mself\u001b[39m\u001b[38;5;241m.\u001b[39m_persistent_workers:\n\u001b[1;32m-> 1446\u001b[0m         \u001b[38;5;28;43mself\u001b[39;49m\u001b[38;5;241;43m.\u001b[39;49m\u001b[43m_shutdown_workers\u001b[49m\u001b[43m(\u001b[49m\u001b[43m)\u001b[49m\n\u001b[0;32m   1447\u001b[0m     \u001b[38;5;28;01mraise\u001b[39;00m \u001b[38;5;167;01mStopIteration\u001b[39;00m\n\u001b[0;32m   1449\u001b[0m \u001b[38;5;66;03m# Now `self._rcvd_idx` is the batch index we want to fetch\u001b[39;00m\n\u001b[0;32m   1450\u001b[0m \n\u001b[0;32m   1451\u001b[0m \u001b[38;5;66;03m# Check if the next sample has already been generated\u001b[39;00m\n",
            "File \u001b[1;32m~\\AppData\\Roaming\\Python\\Python310\\site-packages\\torch\\utils\\data\\dataloader.py:1582\u001b[0m, in \u001b[0;36m_MultiProcessingDataLoaderIter._shutdown_workers\u001b[1;34m(self)\u001b[0m\n\u001b[0;32m   1577\u001b[0m         \u001b[38;5;28mself\u001b[39m\u001b[38;5;241m.\u001b[39m_mark_worker_as_unavailable(worker_id, shutdown\u001b[38;5;241m=\u001b[39m\u001b[38;5;28;01mTrue\u001b[39;00m)\n\u001b[0;32m   1578\u001b[0m \u001b[38;5;28;01mfor\u001b[39;00m w \u001b[38;5;129;01min\u001b[39;00m \u001b[38;5;28mself\u001b[39m\u001b[38;5;241m.\u001b[39m_workers:\n\u001b[0;32m   1579\u001b[0m     \u001b[38;5;66;03m# We should be able to join here, but in case anything went\u001b[39;00m\n\u001b[0;32m   1580\u001b[0m     \u001b[38;5;66;03m# wrong, we set a timeout and if the workers fail to join,\u001b[39;00m\n\u001b[0;32m   1581\u001b[0m     \u001b[38;5;66;03m# they are killed in the `finally` block.\u001b[39;00m\n\u001b[1;32m-> 1582\u001b[0m     \u001b[43mw\u001b[49m\u001b[38;5;241;43m.\u001b[39;49m\u001b[43mjoin\u001b[49m\u001b[43m(\u001b[49m\u001b[43mtimeout\u001b[49m\u001b[38;5;241;43m=\u001b[39;49m\u001b[43m_utils\u001b[49m\u001b[38;5;241;43m.\u001b[39;49m\u001b[43mMP_STATUS_CHECK_INTERVAL\u001b[49m\u001b[43m)\u001b[49m\n\u001b[0;32m   1583\u001b[0m \u001b[38;5;28;01mfor\u001b[39;00m q \u001b[38;5;129;01min\u001b[39;00m \u001b[38;5;28mself\u001b[39m\u001b[38;5;241m.\u001b[39m_index_queues:\n\u001b[0;32m   1584\u001b[0m     q\u001b[38;5;241m.\u001b[39mcancel_join_thread()\n",
            "File \u001b[1;32mc:\\Program Files\\Python310\\lib\\multiprocessing\\process.py:149\u001b[0m, in \u001b[0;36mBaseProcess.join\u001b[1;34m(self, timeout)\u001b[0m\n\u001b[0;32m    147\u001b[0m \u001b[38;5;28;01massert\u001b[39;00m \u001b[38;5;28mself\u001b[39m\u001b[38;5;241m.\u001b[39m_parent_pid \u001b[38;5;241m==\u001b[39m os\u001b[38;5;241m.\u001b[39mgetpid(), \u001b[38;5;124m'\u001b[39m\u001b[38;5;124mcan only join a child process\u001b[39m\u001b[38;5;124m'\u001b[39m\n\u001b[0;32m    148\u001b[0m \u001b[38;5;28;01massert\u001b[39;00m \u001b[38;5;28mself\u001b[39m\u001b[38;5;241m.\u001b[39m_popen \u001b[38;5;129;01mis\u001b[39;00m \u001b[38;5;129;01mnot\u001b[39;00m \u001b[38;5;28;01mNone\u001b[39;00m, \u001b[38;5;124m'\u001b[39m\u001b[38;5;124mcan only join a started process\u001b[39m\u001b[38;5;124m'\u001b[39m\n\u001b[1;32m--> 149\u001b[0m res \u001b[38;5;241m=\u001b[39m \u001b[38;5;28;43mself\u001b[39;49m\u001b[38;5;241;43m.\u001b[39;49m\u001b[43m_popen\u001b[49m\u001b[38;5;241;43m.\u001b[39;49m\u001b[43mwait\u001b[49m\u001b[43m(\u001b[49m\u001b[43mtimeout\u001b[49m\u001b[43m)\u001b[49m\n\u001b[0;32m    150\u001b[0m \u001b[38;5;28;01mif\u001b[39;00m res \u001b[38;5;129;01mis\u001b[39;00m \u001b[38;5;129;01mnot\u001b[39;00m \u001b[38;5;28;01mNone\u001b[39;00m:\n\u001b[0;32m    151\u001b[0m     _children\u001b[38;5;241m.\u001b[39mdiscard(\u001b[38;5;28mself\u001b[39m)\n",
            "File \u001b[1;32mc:\\Program Files\\Python310\\lib\\multiprocessing\\popen_spawn_win32.py:108\u001b[0m, in \u001b[0;36mPopen.wait\u001b[1;34m(self, timeout)\u001b[0m\n\u001b[0;32m    105\u001b[0m \u001b[38;5;28;01melse\u001b[39;00m:\n\u001b[0;32m    106\u001b[0m     msecs \u001b[38;5;241m=\u001b[39m \u001b[38;5;28mmax\u001b[39m(\u001b[38;5;241m0\u001b[39m, \u001b[38;5;28mint\u001b[39m(timeout \u001b[38;5;241m*\u001b[39m \u001b[38;5;241m1000\u001b[39m \u001b[38;5;241m+\u001b[39m \u001b[38;5;241m0.5\u001b[39m))\n\u001b[1;32m--> 108\u001b[0m res \u001b[38;5;241m=\u001b[39m \u001b[43m_winapi\u001b[49m\u001b[38;5;241;43m.\u001b[39;49m\u001b[43mWaitForSingleObject\u001b[49m\u001b[43m(\u001b[49m\u001b[38;5;28;43mint\u001b[39;49m\u001b[43m(\u001b[49m\u001b[38;5;28;43mself\u001b[39;49m\u001b[38;5;241;43m.\u001b[39;49m\u001b[43m_handle\u001b[49m\u001b[43m)\u001b[49m\u001b[43m,\u001b[49m\u001b[43m \u001b[49m\u001b[43mmsecs\u001b[49m\u001b[43m)\u001b[49m\n\u001b[0;32m    109\u001b[0m \u001b[38;5;28;01mif\u001b[39;00m res \u001b[38;5;241m==\u001b[39m _winapi\u001b[38;5;241m.\u001b[39mWAIT_OBJECT_0:\n\u001b[0;32m    110\u001b[0m     code \u001b[38;5;241m=\u001b[39m _winapi\u001b[38;5;241m.\u001b[39mGetExitCodeProcess(\u001b[38;5;28mself\u001b[39m\u001b[38;5;241m.\u001b[39m_handle)\n",
            "\u001b[1;31mKeyboardInterrupt\u001b[0m: "
          ]
        }
      ],
      "source": [
        "from timeit import default_timer as timer\n",
        "\n",
        "start = timer()\n",
        "\n",
        "EPOCHS = 120\n",
        "\n",
        "model_1_results = train(model=model_1,\n",
        "                        train_dataloader=train_dataloader,\n",
        "                        test_dataloader=test_dataloader,\n",
        "                        loss_fn=loss_fn,\n",
        "                        optimizer=optimizer,\n",
        "                        acc_fn=acc_fn,\n",
        "                        device=device,\n",
        "                        epochs=EPOCHS)\n",
        "\n",
        "end = timer()\n",
        "\n",
        "print(f\"Training Time: {end-start:.2f} seconds for {EPOCHS} epochs on {device}.\")"
      ]
    },
    {
      "cell_type": "code",
      "execution_count": 73,
      "metadata": {
        "colab": {
          "base_uri": "https://localhost:8080/",
          "height": 144
        },
        "id": "9soUuZ_qroXa",
        "outputId": "c354e0b4-cf1f-44b7-8838-c6fc365cca1f"
      },
      "outputs": [
        {
          "data": {
            "text/plain": [
              "{'train_loss': [0.8304651180903116,\n",
              "  0.685418019692103,\n",
              "  0.8135402748982111,\n",
              "  0.6835894187291464,\n",
              "  0.8078787426153818,\n",
              "  0.8107405702273051,\n",
              "  0.9158992767333984],\n",
              " 'train_acc': [71.66666666666667,\n",
              "  74.66666666666667,\n",
              "  74.33333333333333,\n",
              "  76.66666666666667,\n",
              "  75.66666666666667,\n",
              "  73.0,\n",
              "  69.66666666666667],\n",
              " 'test_loss': [0.9807834923267365,\n",
              "  0.9783579409122467,\n",
              "  0.9753980040550232,\n",
              "  0.963813990354538,\n",
              "  0.9736313223838806,\n",
              "  0.9684440195560455,\n",
              "  0.9685481488704681],\n",
              " 'test_acc': [71.0, 71.0, 71.0, 71.0, 71.0, 71.0, 71.0]}"
            ]
          },
          "execution_count": 73,
          "metadata": {},
          "output_type": "execute_result"
        }
      ],
      "source": [
        "model_1_results"
      ]
    },
    {
      "cell_type": "code",
      "execution_count": 74,
      "metadata": {
        "id": "A5vgsmGiuZvx"
      },
      "outputs": [
        {
          "data": {
            "image/png": "[encoded data removed]",
            "text/plain": [
              "<Figure size 1500x700 with 2 Axes>"
            ]
          },
          "metadata": {},
          "output_type": "display_data"
        }
      ],
      "source": [
        "plot_loss_curves(model_1_results) # This is the resnet model @25 epochs"
      ]
    },
    {
      "cell_type": "code",
      "execution_count": null,
      "metadata": {},
      "outputs": [],
      "source": [
        "loss_fn = nn.CrossEntropyLoss()\n",
        "optimizer = torch.optim.SGD(model_2.parameters(),\n",
        "                            lr=1e-2,\n",
        "                            momentum=0.9,\n",
        "                            weight_decay=0.0001)\n",
        "def acc_fn(target, preds):\n",
        "  \"\"\"\n",
        "  Calculates Accuracy.\n",
        "\n",
        "  Args:\n",
        "    target: The real data\n",
        "    preds: Processed logits from the model\n",
        "  \"\"\"\n",
        "  correct = torch.eq(target, preds).sum().item()\n",
        "  acc = (correct/len(preds)) * 100\n",
        "  return acc"
      ]
    },
    {
      "cell_type": "code",
      "execution_count": null,
      "metadata": {},
      "outputs": [
        {
          "name": "stderr",
          "output_type": "stream",
          "text": [
            "  0%|          | 0/1 [00:00<?, ?it/s]"
          ]
        },
        {
          "name": "stdout",
          "output_type": "stream",
          "text": [
            "\n",
            "\n",
            "Starting Epoch: 0-----------------------------\n",
            "Went through 0 batches\n",
            "|| Train_Accuracy: 32.000 & Train_Loss: 1.143 ||\n",
            "Went through 2 batches\n",
            "|| Train_Accuracy: 28.000 & Train_Loss: 1.122 ||\n",
            "Went through 4 batches\n",
            "|| Train_Accuracy: 38.000 & Train_Loss: 1.134 ||\n",
            "|| Train_Accuracy: 35.333 & Train_Loss: 1.107 ||\n",
            "Training for current epoch completed successfully.\n",
            "Went through 0 batches\n",
            "|| Test_Acc: 58.000 & Test_Loss: 0.959 ||\n"
          ]
        },
        {
          "name": "stderr",
          "output_type": "stream",
          "text": [
            "100%|██████████| 1/1 [01:18<00:00, 78.55s/it]"
          ]
        },
        {
          "name": "stdout",
          "output_type": "stream",
          "text": [
            "|| Test_Accuracy: 35.000 & Test_Loss: 1.072 ||\n",
            "Testing for current epoch completed successfully.\n",
            "\n",
            "Ending Epoch: 0-----------------------------\n",
            "Time Taken For Current Epoch: 78.55 seconds\n",
            "Training Time: 78.56 seconds for 1 epochs on cpu.\n"
          ]
        },
        {
          "name": "stderr",
          "output_type": "stream",
          "text": [
            "\n"
          ]
        }
      ],
      "source": [
        "from timeit import default_timer as timer\n",
        "\n",
        "start = timer()\n",
        "\n",
        "EPOCHS = 50\n",
        "\n",
        "model_2_results = train(model=model_2,\n",
        "                        train_dataloader=train_dataloader,\n",
        "                        test_dataloader=test_dataloader,\n",
        "                        loss_fn=loss_fn,\n",
        "                        optimizer=optimizer,\n",
        "                        acc_fn=acc_fn,\n",
        "                        device=device,\n",
        "                        epochs=EPOCHS)\n",
        "\n",
        "end = timer()\n",
        "\n",
        "print(f\"Training Time: {end-start:.2f} seconds for {EPOCHS} epochs on {device}.\")"
      ]
    },
    {
      "cell_type": "code",
      "execution_count": 77,
      "metadata": {},
      "outputs": [
        {
          "name": "stdout",
          "output_type": "stream",
          "text": [
            "Save Success\n"
          ]
        }
      ],
      "source": [
        "from pathlib import Path\n",
        "\n",
        "model_path = Path(\"/models\")\n",
        "path = model_path / \"model_ResNet34.pth\"\n",
        "\n",
        "model_path.mkdir(\n",
        "    parents=True,\n",
        "    exist_ok=True\n",
        ")\n",
        "\n",
        "torch.save(obj=model_2,\n",
        "           f=path)\n",
        "\n",
        "print(\"Save Success\")"
      ]
    },
    {
      "cell_type": "code",
      "execution_count": null,
      "metadata": {},
      "outputs": [],
      "source": []
    },
    {
      "cell_type": "code",
      "execution_count": null,
      "metadata": {},
      "outputs": [],
      "source": []
    }
  ],
  "metadata": {
    "accelerator": "GPU",
    "colab": {
      "gpuType": "T4",
      "provenance": []
    },
    "kaggle": {
      "accelerator": "none",
      "dataSources": [
        {
          "datasetId": 319080,
          "sourceId": 643971,
          "sourceType": "datasetVersion"
        }
      ],
      "dockerImageVersionId": 30918,
      "isGpuEnabled": false,
      "isInternetEnabled": true,
      "language": "python",
      "sourceType": "notebook"
    },
    "kernelspec": {
      "display_name": "Python 3",
      "name": "python3"
    },
    "language_info": {
      "codemirror_mode": {
        "name": "ipython",
        "version": 3
      },
      "file_extension": ".py",
      "mimetype": "text/x-python",
      "name": "python",
      "nbconvert_exporter": "python",
      "pygments_lexer": "ipython3",
      "version": "3.10.9"
    },
    "widgets": {
      "application/vnd.jupyter.widget-state+json": {
        "34da56f9acee47d282286fa91f3eb41b": {
          "model_module": "@jupyter-widgets/base",
          "model_module_version": "1.2.0",
          "model_name": "LayoutModel",
          "state": {
            "_model_module": "@jupyter-widgets/base",
            "_model_module_version": "1.2.0",
            "_model_name": "LayoutModel",
            "_view_count": null,
            "_view_module": "@jupyter-widgets/base",
            "_view_module_version": "1.2.0",
            "_view_name": "LayoutView",
            "align_content": null,
            "align_items": null,
            "align_self": null,
            "border": null,
            "bottom": null,
            "display": null,
            "flex": null,
            "flex_flow": null,
            "grid_area": null,
            "grid_auto_columns": null,
            "grid_auto_flow": null,
            "grid_auto_rows": null,
            "grid_column": null,
            "grid_gap": null,
            "grid_row": null,
            "grid_template_areas": null,
            "grid_template_columns": null,
            "grid_template_rows": null,
            "height": null,
            "justify_content": null,
            "justify_items": null,
            "left": null,
            "margin": null,
            "max_height": null,
            "max_width": null,
            "min_height": null,
            "min_width": null,
            "object_fit": null,
            "object_position": null,
            "order": null,
            "overflow": null,
            "overflow_x": null,
            "overflow_y": null,
            "padding": null,
            "right": null,
            "top": null,
            "visibility": null,
            "width": null
          }
        },
        "38357380978e4364a9b8607b28346ee0": {
          "model_module": "@jupyter-widgets/controls",
          "model_module_version": "1.5.0",
          "model_name": "HTMLModel",
          "state": {
            "_dom_classes": [],
            "_model_module": "@jupyter-widgets/controls",
            "_model_module_version": "1.5.0",
            "_model_name": "HTMLModel",
            "_view_count": null,
            "_view_module": "@jupyter-widgets/controls",
            "_view_module_version": "1.5.0",
            "_view_name": "HTMLView",
            "description": "",
            "description_tooltip": null,
            "layout": "IPY_MODEL_e7f1d162dde74ed1ab994713b0bf0eba",
            "placeholder": "​",
            "style": "IPY_MODEL_ef0b685f6ad1490994439ca54e80427e",
            "value": " 60%"
          }
        },
        "4299b18c7bba48e1b8b677be30df19be": {
          "model_module": "@jupyter-widgets/base",
          "model_module_version": "1.2.0",
          "model_name": "LayoutModel",
          "state": {
            "_model_module": "@jupyter-widgets/base",
            "_model_module_version": "1.2.0",
            "_model_name": "LayoutModel",
            "_view_count": null,
            "_view_module": "@jupyter-widgets/base",
            "_view_module_version": "1.2.0",
            "_view_name": "LayoutView",
            "align_content": null,
            "align_items": null,
            "align_self": null,
            "border": null,
            "bottom": null,
            "display": null,
            "flex": null,
            "flex_flow": null,
            "grid_area": null,
            "grid_auto_columns": null,
            "grid_auto_flow": null,
            "grid_auto_rows": null,
            "grid_column": null,
            "grid_gap": null,
            "grid_row": null,
            "grid_template_areas": null,
            "grid_template_columns": null,
            "grid_template_rows": null,
            "height": null,
            "justify_content": null,
            "justify_items": null,
            "left": null,
            "margin": null,
            "max_height": null,
            "max_width": null,
            "min_height": null,
            "min_width": null,
            "object_fit": null,
            "object_position": null,
            "order": null,
            "overflow": null,
            "overflow_x": null,
            "overflow_y": null,
            "padding": null,
            "right": null,
            "top": null,
            "visibility": null,
            "width": null
          }
        },
        "62bd2db4f9af430c87cabf87dd7a9f27": {
          "model_module": "@jupyter-widgets/controls",
          "model_module_version": "1.5.0",
          "model_name": "HBoxModel",
          "state": {
            "_dom_classes": [],
            "_model_module": "@jupyter-widgets/controls",
            "_model_module_version": "1.5.0",
            "_model_name": "HBoxModel",
            "_view_count": null,
            "_view_module": "@jupyter-widgets/controls",
            "_view_module_version": "1.5.0",
            "_view_name": "HBoxView",
            "box_style": "",
            "children": [
              "IPY_MODEL_38357380978e4364a9b8607b28346ee0",
              "IPY_MODEL_97f08665130f42f98c26522270cc3344",
              "IPY_MODEL_be6a0c6536134de680c54dfa742f3281"
            ],
            "layout": "IPY_MODEL_4299b18c7bba48e1b8b677be30df19be"
          }
        },
        "63ff61d13e38463fb128846aa6b5c181": {
          "model_module": "@jupyter-widgets/base",
          "model_module_version": "1.2.0",
          "model_name": "LayoutModel",
          "state": {
            "_model_module": "@jupyter-widgets/base",
            "_model_module_version": "1.2.0",
            "_model_name": "LayoutModel",
            "_view_count": null,
            "_view_module": "@jupyter-widgets/base",
            "_view_module_version": "1.2.0",
            "_view_name": "LayoutView",
            "align_content": null,
            "align_items": null,
            "align_self": null,
            "border": null,
            "bottom": null,
            "display": null,
            "flex": null,
            "flex_flow": null,
            "grid_area": null,
            "grid_auto_columns": null,
            "grid_auto_flow": null,
            "grid_auto_rows": null,
            "grid_column": null,
            "grid_gap": null,
            "grid_row": null,
            "grid_template_areas": null,
            "grid_template_columns": null,
            "grid_template_rows": null,
            "height": null,
            "justify_content": null,
            "justify_items": null,
            "left": null,
            "margin": null,
            "max_height": null,
            "max_width": null,
            "min_height": null,
            "min_width": null,
            "object_fit": null,
            "object_position": null,
            "order": null,
            "overflow": null,
            "overflow_x": null,
            "overflow_y": null,
            "padding": null,
            "right": null,
            "top": null,
            "visibility": null,
            "width": null
          }
        },
        "7e4e2ba358ad4bbcb2130a17141877f2": {
          "model_module": "@jupyter-widgets/controls",
          "model_module_version": "1.5.0",
          "model_name": "ProgressStyleModel",
          "state": {
            "_model_module": "@jupyter-widgets/controls",
            "_model_module_version": "1.5.0",
            "_model_name": "ProgressStyleModel",
            "_view_count": null,
            "_view_module": "@jupyter-widgets/base",
            "_view_module_version": "1.2.0",
            "_view_name": "StyleView",
            "bar_color": null,
            "description_width": ""
          }
        },
        "97f08665130f42f98c26522270cc3344": {
          "model_module": "@jupyter-widgets/controls",
          "model_module_version": "1.5.0",
          "model_name": "FloatProgressModel",
          "state": {
            "_dom_classes": [],
            "_model_module": "@jupyter-widgets/controls",
            "_model_module_version": "1.5.0",
            "_model_name": "FloatProgressModel",
            "_view_count": null,
            "_view_module": "@jupyter-widgets/controls",
            "_view_module_version": "1.5.0",
            "_view_name": "ProgressView",
            "bar_style": "",
            "description": "",
            "description_tooltip": null,
            "layout": "IPY_MODEL_63ff61d13e38463fb128846aa6b5c181",
            "max": 5,
            "min": 0,
            "orientation": "horizontal",
            "style": "IPY_MODEL_7e4e2ba358ad4bbcb2130a17141877f2",
            "value": 3
          }
        },
        "be6a0c6536134de680c54dfa742f3281": {
          "model_module": "@jupyter-widgets/controls",
          "model_module_version": "1.5.0",
          "model_name": "HTMLModel",
          "state": {
            "_dom_classes": [],
            "_model_module": "@jupyter-widgets/controls",
            "_model_module_version": "1.5.0",
            "_model_name": "HTMLModel",
            "_view_count": null,
            "_view_module": "@jupyter-widgets/controls",
            "_view_module_version": "1.5.0",
            "_view_name": "HTMLView",
            "description": "",
            "description_tooltip": null,
            "layout": "IPY_MODEL_34da56f9acee47d282286fa91f3eb41b",
            "placeholder": "​",
            "style": "IPY_MODEL_ff84196b31614eb18b00a9eff96d9655",
            "value": " 3/5 [06:16&lt;04:10, 125.19s/it]"
          }
        },
        "e7f1d162dde74ed1ab994713b0bf0eba": {
          "model_module": "@jupyter-widgets/base",
          "model_module_version": "1.2.0",
          "model_name": "LayoutModel",
          "state": {
            "_model_module": "@jupyter-widgets/base",
            "_model_module_version": "1.2.0",
            "_model_name": "LayoutModel",
            "_view_count": null,
            "_view_module": "@jupyter-widgets/base",
            "_view_module_version": "1.2.0",
            "_view_name": "LayoutView",
            "align_content": null,
            "align_items": null,
            "align_self": null,
            "border": null,
            "bottom": null,
            "display": null,
            "flex": null,
            "flex_flow": null,
            "grid_area": null,
            "grid_auto_columns": null,
            "grid_auto_flow": null,
            "grid_auto_rows": null,
            "grid_column": null,
            "grid_gap": null,
            "grid_row": null,
            "grid_template_areas": null,
            "grid_template_columns": null,
            "grid_template_rows": null,
            "height": null,
            "justify_content": null,
            "justify_items": null,
            "left": null,
            "margin": null,
            "max_height": null,
            "max_width": null,
            "min_height": null,
            "min_width": null,
            "object_fit": null,
            "object_position": null,
            "order": null,
            "overflow": null,
            "overflow_x": null,
            "overflow_y": null,
            "padding": null,
            "right": null,
            "top": null,
            "visibility": null,
            "width": null
          }
        },
        "ef0b685f6ad1490994439ca54e80427e": {
          "model_module": "@jupyter-widgets/controls",
          "model_module_version": "1.5.0",
          "model_name": "DescriptionStyleModel",
          "state": {
            "_model_module": "@jupyter-widgets/controls",
            "_model_module_version": "1.5.0",
            "_model_name": "DescriptionStyleModel",
            "_view_count": null,
            "_view_module": "@jupyter-widgets/base",
            "_view_module_version": "1.2.0",
            "_view_name": "StyleView",
            "description_width": ""
          }
        },
        "ff84196b31614eb18b00a9eff96d9655": {
          "model_module": "@jupyter-widgets/controls",
          "model_module_version": "1.5.0",
          "model_name": "DescriptionStyleModel",
          "state": {
            "_model_module": "@jupyter-widgets/controls",
            "_model_module_version": "1.5.0",
            "_model_name": "DescriptionStyleModel",
            "_view_count": null,
            "_view_module": "@jupyter-widgets/base",
            "_view_module_version": "1.2.0",
            "_view_name": "StyleView",
            "description_width": ""
          }
        }
      }
    }
  },
  "nbformat": 4,
  "nbformat_minor": 0
}
